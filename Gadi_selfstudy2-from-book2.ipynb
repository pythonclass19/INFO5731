{
 "cells": [
  {
   "cell_type": "code",
   "execution_count": 16,
   "metadata": {},
   "outputs": [
    {
     "ename": "SyntaxError",
     "evalue": "invalid syntax (<ipython-input-16-0b74e299eb6a>, line 57)",
     "output_type": "error",
     "traceback": [
      "\u001b[1;36m  File \u001b[1;32m\"<ipython-input-16-0b74e299eb6a>\"\u001b[1;36m, line \u001b[1;32m57\u001b[0m\n\u001b[1;33m    sorted(num_friends_by_id, key=lambda(user_id, num_friends):num_friends,reverse=True) # get it sorted by num_friends largest to smallest\u001b[0m\n\u001b[1;37m                                        ^\u001b[0m\n\u001b[1;31mSyntaxError\u001b[0m\u001b[1;31m:\u001b[0m invalid syntax\n"
     ]
    }
   ],
   "source": [
    "#chapter 1 Introduction\n",
    "\n",
    "#Finding Key Connectors\n",
    "\n",
    "users = [    { \"id\": 0, \"name\": \"Hero\" },    { \"id\": 1, \"name\": \"Dunn\" },    { \"id\": 2, \"name\": \"Sue\" },    { \"id\": 3, \"name\": \"Chi\" },    { \"id\": 4, \"name\": \"Thor\" },    { \"id\": 5, \"name\": \"Clive\" },    { \"id\": 6, \"name\": \"Hicks\" },    { \"id\": 7, \"name\": \"Devin\" },    { \"id\": 8, \"name\": \"Kate\" },    { \"id\": 9, \"name\": \"Klein\" } ] \n",
    "friendships = [(0, 1), (0, 2), (1, 2), (1, 3), (2, 3), (3, 4),(4, 5), (5, 6), (5, 7), (6, 8), (7, 8), (8, 9)]\n",
    "\n",
    "def number_of_friends(user):    \n",
    "    \"\"\"how many friends does _user_ have?\"\"\"    \n",
    "    return len(user[\"friends\"])                   # length of friend_ids list\n",
    " \n",
    "from collections import Counter                       # not loaded by default\n",
    "def not_the_same(user, other_user):    \n",
    "    \"\"\"two users are not the same if they have different ids\"\"\"    \n",
    "    return user[\"id\"] != other_user[\"id\"]\n",
    "\n",
    "def not_friends(user, other_user):    \n",
    "    \"\"\"other_user is not a friend if he's not in user[\"friends\"];    that is, if he's not_the_same as all the people in user[\"friends\"]\"\"\"    \n",
    "    return all(not_the_same(friend, other_user)\n",
    "               for friend in user[\"friends\"])\n",
    "\n",
    "def friends_of_friend_ids(user): #for each of my friends  count *their* friends who aren't me and aren't my friends Counter({0: 2, 5: 1})\n",
    "    return Counter(foaf[\"id\"]                   \n",
    "                   for friend in user[\"friends\"]                       \n",
    "                   for foaf in friend[\"friends\"]                     \n",
    "                   if not_the_same(user, foaf)      \n",
    "                   and not_friends(user, foaf))\n",
    "    \n",
    "    \n",
    "    \n",
    "\n",
    "#-----------__Main__------------------------------------------------------------\n",
    "for user in users:    \n",
    "    user[\"friends\"] = []\n",
    "    \n",
    "for i, j in friendships:    # this works because users[i] is the user whose id is i    \n",
    "    users[i][\"friends\"].append(users[j]) # add j as a friend of i    \n",
    "    users[j][\"friends\"].append(users[i]) # add i as a friend of j \n",
    "    \n",
    "#-----------------------------\n",
    "\n",
    "total_connections = sum(number_of_friends(user) for user in users)\n",
    "print('total conections',total_connections)\n",
    "\n",
    "#-----------------------------------------\n",
    "\n",
    "from __future__ import division                   # integer division is lame \n",
    "num_users = len(users)                            # length of the users list \n",
    "avg_connections = total_connections / num_users   # 2.4 \n",
    "print('Avarage conections',avg_connections)\n",
    "\n",
    "#------------------------------NOT WORKING------\n",
    "\n",
    "# create a list (user_id, number_of_friends)\n",
    "num_friends_by_id = [(user[\"id\"], number_of_friends(user))\n",
    "                     for user in users]\n",
    "sorted(num_friends_by_id, key=lambda(user_id, num_friends):num_friends,reverse=True) # get it sorted by num_friends largest to smallest\n",
    "\n",
    "#----------------------------------------------\n",
    "def friends_of_friend_ids_bad(user):    # \"foaf\" is short for \"friend of a friend\" \n",
    "     return [foaf[\"id\"]\n",
    "             for friend in user[\"friends\"]\n",
    "             for foaf in friend[\"friends\"]] # # for each of user's friends get each of _their_ friends  \n",
    "\n",
    "#--------------------------------------------------\n",
    "print [friend[\"id\"] for friend in users[0][\"friends\"]]\n",
    "print [friend[\"id\"] for friend in users[1][\"friends\"]]\n",
    "print [friend[\"id\"] for friend in users[2][\"friends\"]]\n",
    "#-------------------------------------------\n",
    "   \n",
    "                   \n",
    "print friends_of_friend_ids(users[3])            ## Counter({0: 2, 5: 1})"
   ]
  },
  {
   "cell_type": "code",
   "execution_count": 13,
   "metadata": {},
   "outputs": [],
   "source": [
    "\n",
    "\n",
    "interests = [    (0, \"Hadoop\"), (0, \"Big Data\"), (0, \"HBase\"), (0, \"Java\"),    (0, \"Spark\"), (0, \"Storm\"), (0, \"Cassandra\"),    (1, \"NoSQL\"), (1, \"MongoDB\"), (1, \"Cassandra\"), (1, \"HBase\"),    (1, \"Postgres\"), (2, \"Python\"), (2, \"scikit-learn\"), (2, \"scipy\"),    (2, \"numpy\"), (2, \"statsmodels\"), (2, \"pandas\"), (3, \"R\"), (3, \"Python\"),    (3, \"statistics\"), (3, \"regression\"), (3, \"probability\"),    (4, \"machine learning\"), (4, \"regression\"), (4, \"decision trees\"),    (4, \"libsvm\"), (5, \"Python\"), (5, \"R\"), (5, \"Java\"), (5, \"C++\"),    (5, \"Haskell\"), (5, \"programming languages\"), (6, \"statistics\"),    (6, \"probability\"), (6, \"mathematics\"), (6, \"theory\"),    (7, \"machine learning\"), (7, \"scikit-learn\"), (7, \"Mahout\"),    (7, \"neural networks\"), (8, \"neural networks\"), (8, \"deep learning\"),    (8, \"Big Data\"), (8, \"artificial intelligence\"), (9, \"Hadoop\"),    (9, \"Java\"), (9, \"MapReduce\"), (9, \"Big Data\") ] \n",
    "\n",
    "def data_scientists_who_like(target_interest):    \n",
    "    return [user_id            \n",
    "            for user_id, user_interest in interests            \n",
    "            if user_interest == target_interest] \n",
    "\n",
    "def most_common_interests_with(user):    \n",
    "    return Counter(interested_user_id        \n",
    "                   for interest in interests_by_user_id[user[\"id\"]]        \n",
    "                   for interested_user_id in user_ids_by_interest[interest]        \n",
    "                   if interested_user_id != user[\"id\"]) \n",
    "\n",
    "#-------------------------------------------\n",
    "from collections import defaultdict\n",
    "\n",
    "# keys are interests, values are lists of user_ids with that interest \n",
    "user_ids_by_interest = defaultdict(list)\n",
    "\n",
    "for user_id, interest in interests:    \n",
    "    user_ids_by_interest[interest].append(user_id) \n",
    "\n",
    "\n",
    "# keys are user_ids, values are lists of interests for that user_id \n",
    "interests_by_user_id = defaultdict(list)\n",
    "for user_id, interest in interests:    \n",
    "    interests_by_user_id[user_id].append(interest) \n",
    "\n"
   ]
  },
  {
   "cell_type": "code",
   "execution_count": 25,
   "metadata": {},
   "outputs": [],
   "source": [
    "#Salaries and Experience \n",
    "\n",
    "from collections import defaultdict \n",
    "\n",
    "\n",
    "def tenure_bucket(tenure):    \n",
    "    if tenure < 2:        \n",
    "        return \"less than two\"    \n",
    "    elif tenure < 5:        \n",
    "        return \"between two and five\"    \n",
    "    else:        \n",
    "        return \"more than five\"\n",
    "\n",
    "\n",
    "salaries_and_tenures = [(83000, 8.7), (88000, 8.1),  (48000, 0.7), (76000, 6),  (69000, 6.5), (76000, 7.5), (60000, 2.5), (83000, 10),  (48000, 1.9), (63000, 4.2)] \n",
    "\n",
    "# keys are years, values are lists of the salaries for each tenure \n",
    "\n",
    "salary_by_tenure = defaultdict(list)\n",
    "for salary, tenure in salaries_and_tenures:\n",
    "    salary_by_tenure[tenure].append(salary)\n",
    "    \n",
    "    \n",
    "# keys are years, each value is average salary for that tenure \n",
    "average_salary_by_tenure = {\n",
    "    tenure : sum(salaries) / len(salaries)\n",
    "    for tenure, salaries in salary_by_tenure.items()\n",
    "}\n",
    "\n",
    "# keys are tenure buckets, values are lists of salaries for that bucket \n",
    "salary_by_tenure_bucket = defaultdict(list)\n",
    "for salary, tenure in salaries_and_tenures:    \n",
    "    bucket = tenure_bucket(tenure)    \n",
    "    salary_by_tenure_bucket[bucket].append(salary) \n",
    "    \n",
    "# keys are tenure buckets, values are average salary for that bucket \n",
    "average_salary_by_bucket={  \n",
    "    tenure_bucket : sum(salaries) / len(salaries)  \n",
    "    for tenure_bucket, salaries in salary_by_tenure_bucket.items()\n",
    "}\n",
    "\n",
    "\n"
   ]
  },
  {
   "cell_type": "code",
   "execution_count": 5,
   "metadata": {},
   "outputs": [],
   "source": [
    "#Paid Accounts\n",
    "def predict_paid_or_unpaid(years_experience):  \n",
    "    if years_experience < 3.0:    \n",
    "        return \"paid\"  \n",
    "    elif years_experience < 8.5:    \n",
    "        return \"unpaid\"  \n",
    "    else:    \n",
    "        return \"paid\"\n"
   ]
  },
  {
   "cell_type": "code",
   "execution_count": 12,
   "metadata": {},
   "outputs": [
    {
     "name": "stdout",
     "output_type": "stream",
     "text": [
      "big 3\n",
      "data 3\n",
      "java 3\n",
      "python 3\n",
      "learning 3\n",
      "hadoop 2\n",
      "hbase 2\n",
      "cassandra 2\n",
      "scikit-learn 2\n",
      "r 2\n",
      "statistics 2\n",
      "regression 2\n",
      "probability 2\n",
      "machine 2\n",
      "neural 2\n",
      "networks 2\n"
     ]
    }
   ],
   "source": [
    "#Topics of Interest\n",
    "from collections import Counter\n",
    "interests = [    (0, \"Hadoop\"), (0, \"Big Data\"), (0, \"HBase\"), (0, \"Java\"),    (0, \"Spark\"), (0, \"Storm\"), (0, \"Cassandra\"),\n",
    "             (1, \"NoSQL\"), (1, \"MongoDB\"), (1, \"Cassandra\"), (1, \"HBase\"),    (1, \"Postgres\"), (2, \"Python\"), (2, \"scikit-learn\"), (2, \"scipy\"),    (2, \"numpy\"), (2, \"statsmodels\"), (2, \"pandas\"), (3, \"R\"), (3, \"Python\"),    (3, \"statistics\"), (3, \"regression\"), (3, \"probability\"),    (4, \"machine learning\"), (4, \"regression\"), (4, \"decision trees\"),    (4, \"libsvm\"), (5, \"Python\"), (5, \"R\"), (5, \"Java\"), (5, \"C++\"),    (5, \"Haskell\"), (5, \"programming languages\"), (6, \"statistics\"),    (6, \"probability\"), (6, \"mathematics\"), (6, \"theory\"),    (7, \"machine learning\"), (7, \"scikit-learn\"), (7, \"Mahout\"),    (7, \"neural networks\"), (8, \"neural networks\"), (8, \"deep learning\"),    (8, \"Big Data\"), (8, \"artificial intelligence\"), (9, \"Hadoop\"),    (9, \"Java\"), (9, \"MapReduce\"), (9, \"Big Data\") ]\n",
    "words_and_counts = Counter(word \n",
    "                           for user, interest in interests \n",
    "                           for word in interest.lower().split()) \n",
    "\n",
    "for word, count in words_and_counts.most_common():    \n",
    "    if count > 1:        \n",
    "        print (word, count)\n"
   ]
  },
  {
   "cell_type": "code",
   "execution_count": 17,
   "metadata": {},
   "outputs": [
    {
     "name": "stdout",
     "output_type": "stream",
     "text": [
      "1\n",
      "1\n",
      "2\n",
      "2\n",
      "3\n",
      "3\n",
      "4\n",
      "4\n",
      "5\n",
      "5\n",
      "6\n",
      "1\n",
      "2\n",
      "1\n",
      "3\n",
      "2\n",
      "4\n",
      "3\n",
      "5\n",
      "4\n",
      "6\n",
      "5\n",
      "7\n",
      "2\n",
      "3\n",
      "1\n",
      "4\n",
      "2\n",
      "5\n",
      "3\n",
      "6\n",
      "4\n",
      "7\n",
      "5\n",
      "8\n",
      "3\n",
      "4\n",
      "1\n",
      "5\n",
      "2\n",
      "6\n",
      "3\n",
      "7\n",
      "4\n",
      "8\n",
      "5\n",
      "9\n",
      "4\n",
      "5\n",
      "1\n",
      "6\n",
      "2\n",
      "7\n",
      "3\n",
      "8\n",
      "4\n",
      "9\n",
      "5\n",
      "10\n",
      "5\n",
      "done looping\n"
     ]
    }
   ],
   "source": [
    "#Chapter 2\n",
    "for i in [1, 2, 3, 4, 5]:    \n",
    "  print (i)                     # first line in \"for i\" block    \n",
    "  for j in [1, 2, 3, 4, 5]:        \n",
    "    print (j)                # first line in \"for j\" block        \n",
    "    print (i + j)           # last line in \"for j\" block    \n",
    "  print (i)                    # last line in \"for i\" block \n",
    "print (\"done looping\")"
   ]
  },
  {
   "cell_type": "code",
   "execution_count": 22,
   "metadata": {},
   "outputs": [
    {
     "ename": "SyntaxError",
     "evalue": "unexpected character after line continuation character (<ipython-input-22-cf7b099eacaa>, line 7)",
     "output_type": "error",
     "traceback": [
      "\u001b[1;36m  File \u001b[1;32m\"<ipython-input-22-cf7b099eacaa>\"\u001b[1;36m, line \u001b[1;32m7\u001b[0m\n\u001b[1;33m    two_plus_three = 2 + \\ 3\u001b[0m\n\u001b[1;37m                            ^\u001b[0m\n\u001b[1;31mSyntaxError\u001b[0m\u001b[1;31m:\u001b[0m unexpected character after line continuation character\n"
     ]
    }
   ],
   "source": [
    "long_winded_computation = (1 + 2 + 3 + 4 + 5 + 6 + 7 + 8 + 9 + 10 + 11 + 12 + 13 + 14 + 15 + 16 + 17 + 18 + 19 + 20) \n",
    "list_of_lists = [[1, 2, 3], [4, 5, 6], [7, 8, 9]]\n",
    "easier_to_read_list_of_lists = [ [1, 2, 3], \n",
    "                                 [4, 5, 6],\n",
    "                                 [7, 8, 9] ] \n",
    "\n",
    "two_plus_three = 2 + \\ \n",
    "3\n"
   ]
  },
  {
   "cell_type": "code",
   "execution_count": 23,
   "metadata": {},
   "outputs": [],
   "source": [
    "from collections import defaultdict, Counter \n",
    "lookup = defaultdict(int) \n",
    "my_counter = Counter() "
   ]
  },
  {
   "cell_type": "code",
   "execution_count": 30,
   "metadata": {},
   "outputs": [
    {
     "data": {
      "text/plain": [
       "2"
      ]
     },
     "execution_count": 30,
     "metadata": {},
     "output_type": "execute_result"
    }
   ],
   "source": [
    "( 5 // 2 ) #  where we need integer division, we can get it with a double slash"
   ]
  },
  {
   "cell_type": "code",
   "execution_count": 29,
   "metadata": {},
   "outputs": [
    {
     "data": {
      "text/plain": [
       "2.5"
      ]
     },
     "execution_count": 29,
     "metadata": {},
     "output_type": "execute_result"
    }
   ],
   "source": [
    "from __future__ import division\n",
    "( 5 / 2 )\n"
   ]
  },
  {
   "cell_type": "code",
   "execution_count": 33,
   "metadata": {},
   "outputs": [
    {
     "data": {
      "text/plain": [
       "-5"
      ]
     },
     "execution_count": 33,
     "metadata": {},
     "output_type": "execute_result"
    }
   ],
   "source": [
    "# functions\n",
    "def double(x):    \n",
    "    \"\"\"this is where you put an optional docstring    \n",
    "    that explains what the function does.    \n",
    "    for example, this function multiplies its input by 2\"\"\"    \n",
    "    return x * 2 \n",
    "\n",
    "def apply_to_one(f):    \n",
    "    \"\"\"calls the function f with 1 as its argument\"\"\"    \n",
    "    return f(1)\n",
    "\n",
    "def subtract(a=0, b=0):\n",
    "    return a - b\n",
    "subtract(10, 5) # returns 5 \n",
    "subtract(0, 5)  # returns -5 \n",
    "subtract(b=5)   # same as previous \n",
    "    \n"
   ]
  },
  {
   "cell_type": "code",
   "execution_count": 36,
   "metadata": {},
   "outputs": [],
   "source": [
    "# Strings\n",
    "single_quoted_string = 'data science' \n",
    "double_quoted_string = \"data science\"\n",
    "tab_string = \"\\t\"       # represents the tab character\n",
    "len(tab_string)         # is 1\n",
    "not_tab_string = r\"\\t\"  # represents the characters '\\' and 't' \n",
    "len(not_tab_string)     # is 2\n",
    "multi_line_string = \"\"\"This is the first line. and this is the second line and this is the third line\"\"\" \n"
   ]
  },
  {
   "cell_type": "code",
   "execution_count": 38,
   "metadata": {},
   "outputs": [
    {
     "name": "stdout",
     "output_type": "stream",
     "text": [
      "cannot divide by zero\n"
     ]
    }
   ],
   "source": [
    "#Exceptions\n",
    "try:    print (0 / 0 )\n",
    "except ZeroDivisionError:    \n",
    "    print (\"cannot divide by zero\")"
   ]
  },
  {
   "cell_type": "code",
   "execution_count": 40,
   "metadata": {},
   "outputs": [
    {
     "ename": "TypeError",
     "evalue": "'range' object does not support item assignment",
     "output_type": "error",
     "traceback": [
      "\u001b[1;31m---------------------------------------------------------------------------\u001b[0m",
      "\u001b[1;31mTypeError\u001b[0m                                 Traceback (most recent call last)",
      "\u001b[1;32m<ipython-input-40-6f3e9d4b0dc4>\u001b[0m in \u001b[0;36m<module>\u001b[1;34m()\u001b[0m\n\u001b[0;32m     12\u001b[0m \u001b[0mnine\u001b[0m \u001b[1;33m=\u001b[0m \u001b[0mx\u001b[0m\u001b[1;33m[\u001b[0m\u001b[1;33m-\u001b[0m\u001b[1;36m1\u001b[0m\u001b[1;33m]\u001b[0m    \u001b[1;31m# equals 9, 'Pythonic' for last element\u001b[0m\u001b[1;33m\u001b[0m\u001b[0m\n\u001b[0;32m     13\u001b[0m \u001b[0meight\u001b[0m \u001b[1;33m=\u001b[0m \u001b[0mx\u001b[0m\u001b[1;33m[\u001b[0m\u001b[1;33m-\u001b[0m\u001b[1;36m2\u001b[0m\u001b[1;33m]\u001b[0m   \u001b[1;31m# equals 8, 'Pythonic' for next-to-last element\u001b[0m\u001b[1;33m\u001b[0m\u001b[0m\n\u001b[1;32m---> 14\u001b[1;33m \u001b[0mx\u001b[0m\u001b[1;33m[\u001b[0m\u001b[1;36m0\u001b[0m\u001b[1;33m]\u001b[0m \u001b[1;33m=\u001b[0m \u001b[1;33m-\u001b[0m\u001b[1;36m1\u001b[0m       \u001b[1;31m# now x is [-1, 1, 2, 3, ..., 9]\u001b[0m\u001b[1;33m\u001b[0m\u001b[0m\n\u001b[0m",
      "\u001b[1;31mTypeError\u001b[0m: 'range' object does not support item assignment"
     ]
    }
   ],
   "source": [
    "#Lists\n",
    "integer_list = [1, 2, 3] \n",
    "heterogeneous_list = [\"string\", 0.1, True] \n",
    "list_of_lists = [ integer_list, heterogeneous_list, [] ]\n",
    "list_length = len(integer_list)     # equals 3 \n",
    "list_sum    = sum(integer_list)     # equals 6 \n",
    "#--------------------------------------------------\n",
    "\n",
    "x = range(10)   # is the list [0, 1, ..., 9] \n",
    "zero = x[0]     # equals 0, lists are 0-indexed \n",
    "one = x[1]      # equals 1 \n",
    "nine = x[-1]    # equals 9, 'Pythonic' for last element \n",
    "eight = x[-2]   # equals 8, 'Pythonic' for next-to-last element \n",
    "x[0] = -1       # now x is [-1, 1, 2, 3, ..., 9] \n"
   ]
  },
  {
   "cell_type": "code",
   "execution_count": 42,
   "metadata": {},
   "outputs": [
    {
     "name": "stdout",
     "output_type": "stream",
     "text": [
      "cannot modify a tuple\n"
     ]
    }
   ],
   "source": [
    "#Tuples\n",
    "my_list = [1, 2] \n",
    "my_tuple = (1, 2) \n",
    "other_tuple = 3, 4 \n",
    "my_list[1] = 3      # my_list is now [1, 3]\n",
    "try:    \n",
    "    my_tuple[1] = 3 \n",
    "except TypeError:    \n",
    "    print (\"cannot modify a tuple\")"
   ]
  },
  {
   "cell_type": "code",
   "execution_count": 44,
   "metadata": {},
   "outputs": [],
   "source": [
    "def sum_and_product(x, y):    \n",
    "    return (x + y),(x * y)\n",
    "sp = sum_and_product(2, 3)    # equals (5, 6) \n",
    "s, p = sum_and_product(5, 10) # s is 15, p is 50 \n",
    "#----------------------------------------\n",
    "x, y = 1, 2     # now x is 1, y is 2 \n",
    "x, y = y, x     # Pythonic way to swap variables; now x is 2, y is 1 "
   ]
  },
  {
   "cell_type": "code",
   "execution_count": 46,
   "metadata": {},
   "outputs": [],
   "source": [
    "#Dictionaries \n",
    "empty_dict = {}                         # Pythonic \n",
    "empty_dict2 = dict()                    # less Pythonic \n",
    "grades = { \"Joel\" : 80, \"Tim\" : 95 }    # dictionary literal \n",
    "joels_grade = grades[\"Joel\"]            # equals 80"
   ]
  },
  {
   "cell_type": "code",
   "execution_count": 51,
   "metadata": {},
   "outputs": [
    {
     "ename": "NameError",
     "evalue": "name 'document' is not defined",
     "output_type": "error",
     "traceback": [
      "\u001b[1;31m---------------------------------------------------------------------------\u001b[0m",
      "\u001b[1;31mNameError\u001b[0m                                 Traceback (most recent call last)",
      "\u001b[1;32m<ipython-input-51-c55ee50f24e4>\u001b[0m in \u001b[0;36m<module>\u001b[1;34m()\u001b[0m\n\u001b[0;32m      1\u001b[0m \u001b[1;31m#defaultdict\u001b[0m\u001b[1;33m\u001b[0m\u001b[1;33m\u001b[0m\u001b[0m\n\u001b[0;32m      2\u001b[0m \u001b[0mword_counts\u001b[0m \u001b[1;33m=\u001b[0m \u001b[1;33m{\u001b[0m\u001b[1;33m}\u001b[0m\u001b[1;33m\u001b[0m\u001b[0m\n\u001b[1;32m----> 3\u001b[1;33m \u001b[1;32mfor\u001b[0m \u001b[0mword\u001b[0m \u001b[1;32min\u001b[0m \u001b[0mdocument\u001b[0m\u001b[1;33m:\u001b[0m\u001b[1;33m\u001b[0m\u001b[0m\n\u001b[0m\u001b[0;32m      4\u001b[0m     \u001b[1;32mif\u001b[0m \u001b[0mword\u001b[0m \u001b[1;32min\u001b[0m \u001b[0mword_counts\u001b[0m\u001b[1;33m:\u001b[0m\u001b[1;33m\u001b[0m\u001b[0m\n\u001b[0;32m      5\u001b[0m         \u001b[0mword_counts\u001b[0m\u001b[1;33m[\u001b[0m\u001b[0mword\u001b[0m\u001b[1;33m]\u001b[0m \u001b[1;33m+=\u001b[0m \u001b[1;36m1\u001b[0m\u001b[1;33m\u001b[0m\u001b[0m\n",
      "\u001b[1;31mNameError\u001b[0m: name 'document' is not defined"
     ]
    }
   ],
   "source": [
    "#defaultdict \n"
   ]
  },
  {
   "cell_type": "code",
   "execution_count": 49,
   "metadata": {},
   "outputs": [],
   "source": [
    "#Counter \n",
    "from collections import Counter \n",
    "c = Counter([0, 1, 2, 0])          # c is (basically) { 0 : 2, 1 : 1, 2 : 1 } \n"
   ]
  },
  {
   "cell_type": "code",
   "execution_count": 52,
   "metadata": {},
   "outputs": [
    {
     "ename": "NameError",
     "evalue": "name 'document' is not defined",
     "output_type": "error",
     "traceback": [
      "\u001b[1;31m---------------------------------------------------------------------------\u001b[0m",
      "\u001b[1;31mNameError\u001b[0m                                 Traceback (most recent call last)",
      "\u001b[1;32m<ipython-input-52-721f1af659e2>\u001b[0m in \u001b[0;36m<module>\u001b[1;34m()\u001b[0m\n\u001b[0;32m      1\u001b[0m \u001b[0mword_counts\u001b[0m \u001b[1;33m=\u001b[0m \u001b[1;33m{\u001b[0m\u001b[1;33m}\u001b[0m\u001b[1;33m\u001b[0m\u001b[0m\n\u001b[1;32m----> 2\u001b[1;33m \u001b[1;32mfor\u001b[0m \u001b[0mword\u001b[0m \u001b[1;32min\u001b[0m \u001b[0mdocument\u001b[0m\u001b[1;33m:\u001b[0m\u001b[1;33m\u001b[0m\u001b[0m\n\u001b[0m\u001b[0;32m      3\u001b[0m     \u001b[1;32mif\u001b[0m \u001b[0mword\u001b[0m \u001b[1;32min\u001b[0m \u001b[0mword_counts\u001b[0m\u001b[1;33m:\u001b[0m\u001b[1;33m\u001b[0m\u001b[0m\n\u001b[0;32m      4\u001b[0m         \u001b[0mword_counts\u001b[0m\u001b[1;33m[\u001b[0m\u001b[0mword\u001b[0m\u001b[1;33m]\u001b[0m \u001b[1;33m+=\u001b[0m \u001b[1;36m1\u001b[0m\u001b[1;33m\u001b[0m\u001b[0m\n\u001b[0;32m      5\u001b[0m     \u001b[1;32melse\u001b[0m\u001b[1;33m:\u001b[0m\u001b[1;33m\u001b[0m\u001b[0m\n",
      "\u001b[1;31mNameError\u001b[0m: name 'document' is not defined"
     ]
    }
   ],
   "source": [
    "\n",
    "word_counts = {} \n",
    "for word in document:    \n",
    "    if word in word_counts:        \n",
    "        word_counts[word] += 1    \n",
    "    else:        \n",
    "        word_counts[word] = 1 \n",
    "        \n",
    "word_counts = Counter(document)"
   ]
  },
  {
   "cell_type": "code",
   "execution_count": 53,
   "metadata": {},
   "outputs": [],
   "source": [
    "#Sets\n",
    "s = set() \n",
    "s.add(1)       # s is now { 1 } \n",
    "s.add(2)       # s is now { 1, 2 } \n",
    "s.add(2)       # s is still { 1, 2 } \n",
    "x = len(s)     # equals 2 \n",
    "y = 2 in s     # equals True\n",
    "z = 3 in s     # equals False "
   ]
  },
  {
   "cell_type": "code",
   "execution_count": 54,
   "metadata": {},
   "outputs": [
    {
     "ename": "NameError",
     "evalue": "name 'hundreds_of_other_words' is not defined",
     "output_type": "error",
     "traceback": [
      "\u001b[1;31m---------------------------------------------------------------------------\u001b[0m",
      "\u001b[1;31mNameError\u001b[0m                                 Traceback (most recent call last)",
      "\u001b[1;32m<ipython-input-54-795acc20b32f>\u001b[0m in \u001b[0;36m<module>\u001b[1;34m()\u001b[0m\n\u001b[1;32m----> 1\u001b[1;33m \u001b[0mstopwords_list\u001b[0m \u001b[1;33m=\u001b[0m \u001b[1;33m[\u001b[0m\u001b[1;34m\"a\"\u001b[0m\u001b[1;33m,\u001b[0m\u001b[1;34m\"an\"\u001b[0m\u001b[1;33m,\u001b[0m\u001b[1;34m\"at\"\u001b[0m\u001b[1;33m]\u001b[0m \u001b[1;33m+\u001b[0m \u001b[0mhundreds_of_other_words\u001b[0m \u001b[1;33m+\u001b[0m \u001b[1;33m[\u001b[0m\u001b[1;34m\"yet\"\u001b[0m\u001b[1;33m,\u001b[0m \u001b[1;34m\"you\"\u001b[0m\u001b[1;33m]\u001b[0m\u001b[1;33m\u001b[0m\u001b[0m\n\u001b[0m\u001b[0;32m      2\u001b[0m \u001b[1;34m\"zip\"\u001b[0m \u001b[1;32min\u001b[0m \u001b[0mstopwords_list\u001b[0m     \u001b[1;31m# False, but have to check every element\u001b[0m\u001b[1;33m\u001b[0m\u001b[0m\n\u001b[0;32m      3\u001b[0m \u001b[0mstopwords_set\u001b[0m \u001b[1;33m=\u001b[0m \u001b[0mset\u001b[0m\u001b[1;33m(\u001b[0m\u001b[0mstopwords_list\u001b[0m\u001b[1;33m)\u001b[0m\u001b[1;33m\u001b[0m\u001b[0m\n\u001b[0;32m      4\u001b[0m \u001b[1;34m\"zip\"\u001b[0m \u001b[1;32min\u001b[0m \u001b[0mstopwords_set\u001b[0m      \u001b[1;31m# very fast to check\u001b[0m\u001b[1;33m\u001b[0m\u001b[0m\n",
      "\u001b[1;31mNameError\u001b[0m: name 'hundreds_of_other_words' is not defined"
     ]
    }
   ],
   "source": [
    "stopwords_list = [\"a\",\"an\",\"at\"] + hundreds_of_other_words + [\"yet\", \"you\"]\n",
    "\"zip\" in stopwords_list     # False, but have to check every element\n",
    "stopwords_set = set(stopwords_list)\n",
    "\"zip\" in stopwords_set      # very fast to check\n"
   ]
  },
  {
   "cell_type": "code",
   "execution_count": 55,
   "metadata": {},
   "outputs": [],
   "source": [
    "item_list = [1, 2, 3, 1, 2, 3] \n",
    "num_items = len(item_list)                # 6 \n",
    "item_set = set(item_list)                 # {1, 2, 3} \n",
    "num_distinct_items = len(item_set)        # 3 \n",
    "distinct_item_list = list(item_set)       # [1, 2, 3] "
   ]
  },
  {
   "cell_type": "code",
   "execution_count": null,
   "metadata": {},
   "outputs": [],
   "source": []
  }
 ],
 "metadata": {
  "kernelspec": {
   "display_name": "Python 3",
   "language": "python",
   "name": "python3"
  },
  "language_info": {
   "codemirror_mode": {
    "name": "ipython",
    "version": 3
   },
   "file_extension": ".py",
   "mimetype": "text/x-python",
   "name": "python",
   "nbconvert_exporter": "python",
   "pygments_lexer": "ipython3",
   "version": "3.7.0"
  }
 },
 "nbformat": 4,
 "nbformat_minor": 2
}
