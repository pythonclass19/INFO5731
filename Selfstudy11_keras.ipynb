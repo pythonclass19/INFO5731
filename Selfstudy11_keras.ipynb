{
  "nbformat": 4,
  "nbformat_minor": 0,
  "metadata": {
    "colab": {
      "name": "11.ipynb",
      "version": "0.3.2",
      "provenance": []
    },
    "kernelspec": {
      "name": "python3",
      "display_name": "Python 3"
    },
    "accelerator": "TPU"
  },
  "cells": [
    {
      "metadata": {
        "id": "2QZNqqQgWCAz",
        "colab_type": "code",
        "colab": {}
      },
      "cell_type": "code",
      "source": [
        "import pickle"
      ],
      "execution_count": 0,
      "outputs": []
    },
    {
      "metadata": {
        "id": "ex10jfLSWNJO",
        "colab_type": "code",
        "colab": {}
      },
      "cell_type": "code",
      "source": [
        "import pandas as pd"
      ],
      "execution_count": 0,
      "outputs": []
    },
    {
      "metadata": {
        "id": "utdof71TWOlC",
        "colab_type": "code",
        "colab": {}
      },
      "cell_type": "code",
      "source": [
        "with open(\"imdb-review.pickle\", 'rb') as f:\n",
        "  train, test = pickle.load(f)"
      ],
      "execution_count": 0,
      "outputs": []
    },
    {
      "metadata": {
        "id": "h-126piSWteV",
        "colab_type": "code",
        "outputId": "94357d68-2414-4689-8dca-53083d8fd2fb",
        "colab": {
          "base_uri": "https://localhost:8080/",
          "height": 203
        }
      },
      "cell_type": "code",
      "source": [
        "train.head()"
      ],
      "execution_count": 0,
      "outputs": [
        {
          "output_type": "execute_result",
          "data": {
            "text/html": [
              "<div>\n",
              "<style scoped>\n",
              "    .dataframe tbody tr th:only-of-type {\n",
              "        vertical-align: middle;\n",
              "    }\n",
              "\n",
              "    .dataframe tbody tr th {\n",
              "        vertical-align: top;\n",
              "    }\n",
              "\n",
              "    .dataframe thead th {\n",
              "        text-align: right;\n",
              "    }\n",
              "</style>\n",
              "<table border=\"1\" class=\"dataframe\">\n",
              "  <thead>\n",
              "    <tr style=\"text-align: right;\">\n",
              "      <th></th>\n",
              "      <th>text</th>\n",
              "      <th>sentiment</th>\n",
              "    </tr>\n",
              "  </thead>\n",
              "  <tbody>\n",
              "    <tr>\n",
              "      <th>0</th>\n",
              "      <td>For a movie that gets no respect there sure ar...</td>\n",
              "      <td>1</td>\n",
              "    </tr>\n",
              "    <tr>\n",
              "      <th>1</th>\n",
              "      <td>Bizarre horror movie filled with famous faces ...</td>\n",
              "      <td>1</td>\n",
              "    </tr>\n",
              "    <tr>\n",
              "      <th>2</th>\n",
              "      <td>A solid, if unremarkable film. Matthau, as Ein...</td>\n",
              "      <td>1</td>\n",
              "    </tr>\n",
              "    <tr>\n",
              "      <th>3</th>\n",
              "      <td>It's a strange feeling to sit alone in a theat...</td>\n",
              "      <td>1</td>\n",
              "    </tr>\n",
              "    <tr>\n",
              "      <th>4</th>\n",
              "      <td>You probably all already know this by now, but...</td>\n",
              "      <td>1</td>\n",
              "    </tr>\n",
              "  </tbody>\n",
              "</table>\n",
              "</div>"
            ],
            "text/plain": [
              "                                                text  sentiment\n",
              "0  For a movie that gets no respect there sure ar...          1\n",
              "1  Bizarre horror movie filled with famous faces ...          1\n",
              "2  A solid, if unremarkable film. Matthau, as Ein...          1\n",
              "3  It's a strange feeling to sit alone in a theat...          1\n",
              "4  You probably all already know this by now, but...          1"
            ]
          },
          "metadata": {
            "tags": []
          },
          "execution_count": 7
        }
      ]
    },
    {
      "metadata": {
        "id": "Fk_WhGppYLyV",
        "colab_type": "text"
      },
      "cell_type": "markdown",
      "source": [
        ""
      ]
    },
    {
      "metadata": {
        "id": "rlJlcTtRYqsu",
        "colab_type": "code",
        "outputId": "3c20dafc-f7f9-4993-b9db-ee3d3de63808",
        "colab": {
          "base_uri": "https://localhost:8080/",
          "height": 287
        }
      },
      "cell_type": "code",
      "source": [
        "train.sentiment.value_counts().plot(kind='barh')"
      ],
      "execution_count": 0,
      "outputs": [
        {
          "output_type": "execute_result",
          "data": {
            "text/plain": [
              "<matplotlib.axes._subplots.AxesSubplot at 0x7f837eaa0278>"
            ]
          },
          "metadata": {
            "tags": []
          },
          "execution_count": 8
        },
        {
          "output_type": "display_data",
          "data": {
            "image/png": "[encoded data removed]",
            "text/plain": [
              "<Figure size 432x288 with 1 Axes>"
            ]
          },
          "metadata": {
            "tags": []
          }
        }
      ]
    },
    {
      "metadata": {
        "id": "iWKKR8toYr59",
        "colab_type": "code",
        "outputId": "f61e15ed-be46-4ce7-d139-f5ee1347e03b",
        "colab": {
          "base_uri": "https://localhost:8080/",
          "height": 34
        }
      },
      "cell_type": "code",
      "source": [
        "from keras.preprocessing.text import Tokenizer\n",
        "from keras.preprocessing.sequence import pad_sequences\n",
        "import numpy as np"
      ],
      "execution_count": 0,
      "outputs": [
        {
          "output_type": "stream",
          "text": [
            "Using TensorFlow backend.\n"
          ],
          "name": "stderr"
        }
      ]
    },
    {
      "metadata": {
        "id": "SeGAQkZxY1tR",
        "colab_type": "code",
        "colab": {}
      },
      "cell_type": "code",
      "source": [
        "num_words = 10000\n",
        "tokenizer = Tokenizer(num_words=num_words)\n",
        "tokenizer.fit_on_texts(train.text)\n"
      ],
      "execution_count": 0,
      "outputs": []
    },
    {
      "metadata": {
        "id": "y162SIoCZADI",
        "colab_type": "code",
        "colab": {}
      },
      "cell_type": "code",
      "source": [
        "train_sequences = tokenizer.texts_to_sequences(train.text)\n",
        "\n"
      ],
      "execution_count": 0,
      "outputs": []
    },
    {
      "metadata": {
        "id": "HZf03Yi6ZKT0",
        "colab_type": "code",
        "colab": {}
      },
      "cell_type": "code",
      "source": [
        "test_sequences = tokenizer.texts_to_sequences(test.text)"
      ],
      "execution_count": 0,
      "outputs": []
    },
    {
      "metadata": {
        "id": "rRoLwItZZWMU",
        "colab_type": "code",
        "outputId": "0ca2139e-1d91-45ca-f416-178939f9cfae",
        "colab": {
          "base_uri": "https://localhost:8080/",
          "height": 54
        }
      },
      "cell_type": "code",
      "source": [
        "train.text[0]"
      ],
      "execution_count": 0,
      "outputs": [
        {
          "output_type": "execute_result",
          "data": {
            "text/plain": [
              "'For a movie that gets no respect there sure are a lot of memorable quotes listed for this gem. Imagine a movie where Joe Piscopo is actually funny! Maureen Stapleton is a scene stealer. The Moroni character is an absolute scream. Watch for Alan \"The Skipper\" Hale jr. as a police Sgt.'"
            ]
          },
          "metadata": {
            "tags": []
          },
          "execution_count": 13
        }
      ]
    },
    {
      "metadata": {
        "id": "MF8U6iYMZXtH",
        "colab_type": "code",
        "outputId": "338cca2e-f125-4389-890f-7eee3d4a16a8",
        "colab": {
          "base_uri": "https://localhost:8080/",
          "height": 844
        }
      },
      "cell_type": "code",
      "source": [
        "train_sequences[0]"
      ],
      "execution_count": 0,
      "outputs": [
        {
          "output_type": "execute_result",
          "data": {
            "text/plain": [
              "[15,\n",
              " 3,\n",
              " 17,\n",
              " 12,\n",
              " 211,\n",
              " 54,\n",
              " 1158,\n",
              " 47,\n",
              " 249,\n",
              " 23,\n",
              " 3,\n",
              " 173,\n",
              " 4,\n",
              " 903,\n",
              " 4381,\n",
              " 3559,\n",
              " 15,\n",
              " 11,\n",
              " 1525,\n",
              " 835,\n",
              " 3,\n",
              " 17,\n",
              " 118,\n",
              " 911,\n",
              " 6,\n",
              " 162,\n",
              " 160,\n",
              " 7262,\n",
              " 6,\n",
              " 3,\n",
              " 133,\n",
              " 1,\n",
              " 106,\n",
              " 6,\n",
              " 32,\n",
              " 1552,\n",
              " 2032,\n",
              " 103,\n",
              " 15,\n",
              " 1605,\n",
              " 1,\n",
              " 8595,\n",
              " 1789,\n",
              " 14,\n",
              " 3,\n",
              " 565,\n",
              " 6259]"
            ]
          },
          "metadata": {
            "tags": []
          },
          "execution_count": 14
        }
      ]
    },
    {
      "metadata": {
        "id": "iLKM04dCZfa-",
        "colab_type": "code",
        "outputId": "f5219efb-8a31-4e1d-8229-d8e725d5555e",
        "colab": {
          "base_uri": "https://localhost:8080/",
          "height": 369
        }
      },
      "cell_type": "code",
      "source": [
        "list(tokenizer.index_word.items())[:20]"
      ],
      "execution_count": 0,
      "outputs": [
        {
          "output_type": "execute_result",
          "data": {
            "text/plain": [
              "[(1, 'the'),\n",
              " (2, 'and'),\n",
              " (3, 'a'),\n",
              " (4, 'of'),\n",
              " (5, 'to'),\n",
              " (6, 'is'),\n",
              " (7, 'br'),\n",
              " (8, 'in'),\n",
              " (9, 'it'),\n",
              " (10, 'i'),\n",
              " (11, 'this'),\n",
              " (12, 'that'),\n",
              " (13, 'was'),\n",
              " (14, 'as'),\n",
              " (15, 'for'),\n",
              " (16, 'with'),\n",
              " (17, 'movie'),\n",
              " (18, 'but'),\n",
              " (19, 'film'),\n",
              " (20, 'on')]"
            ]
          },
          "metadata": {
            "tags": []
          },
          "execution_count": 15
        }
      ]
    },
    {
      "metadata": {
        "id": "H-Q74lCHZimw",
        "colab_type": "code",
        "outputId": "e9404d7e-4b30-47a8-ce5e-9aba811401b9",
        "colab": {
          "base_uri": "https://localhost:8080/",
          "height": 34
        }
      },
      "cell_type": "code",
      "source": [
        "len(train_sequences[0])"
      ],
      "execution_count": 0,
      "outputs": [
        {
          "output_type": "execute_result",
          "data": {
            "text/plain": [
              "47"
            ]
          },
          "metadata": {
            "tags": []
          },
          "execution_count": 16
        }
      ]
    },
    {
      "metadata": {
        "id": "IHrKoyzjZj7f",
        "colab_type": "code",
        "outputId": "c080d30a-377b-4ec9-8ac4-0dca6e69e054",
        "colab": {
          "base_uri": "https://localhost:8080/",
          "height": 34
        }
      },
      "cell_type": "code",
      "source": [
        "len(train_sequences[1])"
      ],
      "execution_count": 0,
      "outputs": [
        {
          "output_type": "execute_result",
          "data": {
            "text/plain": [
              "148"
            ]
          },
          "metadata": {
            "tags": []
          },
          "execution_count": 17
        }
      ]
    },
    {
      "metadata": {
        "id": "LZxQQsFFZm7T",
        "colab_type": "code",
        "outputId": "5005dfcf-94fa-4dc6-a2ee-7318b785865c",
        "colab": {
          "base_uri": "https://localhost:8080/",
          "height": 287
        }
      },
      "cell_type": "code",
      "source": [
        "train['text_length']=train['text'].str.len()\n",
        "train.groupby(['text_length']).count().plot(kind='hist')"
      ],
      "execution_count": 0,
      "outputs": [
        {
          "output_type": "execute_result",
          "data": {
            "text/plain": [
              "<matplotlib.axes._subplots.AxesSubplot at 0x7f8366f25d68>"
            ]
          },
          "metadata": {
            "tags": []
          },
          "execution_count": 18
        },
        {
          "output_type": "display_data",
          "data": {
            "image/png": "[encoded data removed]",
            "text/plain": [
              "<Figure size 432x288 with 1 Axes>"
            ]
          },
          "metadata": {
            "tags": []
          }
        }
      ]
    },
    {
      "metadata": {
        "id": "ristndnWZokP",
        "colab_type": "code",
        "colab": {}
      },
      "cell_type": "code",
      "source": [
        "lens = [len(seq) for seq in train_sequences]"
      ],
      "execution_count": 0,
      "outputs": []
    },
    {
      "metadata": {
        "id": "ek1T02wCZxRv",
        "colab_type": "code",
        "outputId": "82c47e5a-7c01-476e-c3a5-e5b634dfecdb",
        "colab": {
          "base_uri": "https://localhost:8080/",
          "height": 17634
        }
      },
      "cell_type": "code",
      "source": [
        "lens"
      ],
      "execution_count": 0,
      "outputs": [
        {
          "output_type": "execute_result",
          "data": {
            "text/plain": [
              "[47,\n",
              " 148,\n",
              " 51,\n",
              " 393,\n",
              " 136,\n",
              " 88,\n",
              " 114,\n",
              " 116,\n",
              " 439,\n",
              " 55,\n",
              " 56,\n",
              " 322,\n",
              " 78,\n",
              " 613,\n",
              " 114,\n",
              " 44,\n",
              " 128,\n",
              " 134,\n",
              " 179,\n",
              " 139,\n",
              " 54,\n",
              " 127,\n",
              " 698,\n",
              " 150,\n",
              " 172,\n",
              " 182,\n",
              " 132,\n",
              " 414,\n",
              " 123,\n",
              " 311,\n",
              " 464,\n",
              " 143,\n",
              " 176,\n",
              " 170,\n",
              " 188,\n",
              " 106,\n",
              " 178,\n",
              " 79,\n",
              " 85,\n",
              " 251,\n",
              " 103,\n",
              " 108,\n",
              " 417,\n",
              " 254,\n",
              " 161,\n",
              " 123,\n",
              " 145,\n",
              " 131,\n",
              " 68,\n",
              " 313,\n",
              " 161,\n",
              " 244,\n",
              " 115,\n",
              " 112,\n",
              " 238,\n",
              " 800,\n",
              " 129,\n",
              " 415,\n",
              " 571,\n",
              " 305,\n",
              " 110,\n",
              " 162,\n",
              " 115,\n",
              " 149,\n",
              " 129,\n",
              " 194,\n",
              " 76,\n",
              " 259,\n",
              " 166,\n",
              " 444,\n",
              " 74,\n",
              " 137,\n",
              " 74,\n",
              " 151,\n",
              " 125,\n",
              " 303,\n",
              " 233,\n",
              " 119,\n",
              " 132,\n",
              " 293,\n",
              " 218,\n",
              " 290,\n",
              " 200,\n",
              " 127,\n",
              " 287,\n",
              " 116,\n",
              " 128,\n",
              " 328,\n",
              " 563,\n",
              " 126,\n",
              " 143,\n",
              " 176,\n",
              " 68,\n",
              " 263,\n",
              " 130,\n",
              " 121,\n",
              " 150,\n",
              " 372,\n",
              " 143,\n",
              " 105,\n",
              " 124,\n",
              " 56,\n",
              " 234,\n",
              " 77,\n",
              " 129,\n",
              " 329,\n",
              " 445,\n",
              " 517,\n",
              " 216,\n",
              " 141,\n",
              " 93,\n",
              " 132,\n",
              " 283,\n",
              " 157,\n",
              " 332,\n",
              " 396,\n",
              " 72,\n",
              " 53,\n",
              " 126,\n",
              " 431,\n",
              " 171,\n",
              " 455,\n",
              " 373,\n",
              " 119,\n",
              " 25,\n",
              " 107,\n",
              " 169,\n",
              " 180,\n",
              " 510,\n",
              " 271,\n",
              " 170,\n",
              " 308,\n",
              " 115,\n",
              " 489,\n",
              " 256,\n",
              " 220,\n",
              " 188,\n",
              " 40,\n",
              " 60,\n",
              " 412,\n",
              " 227,\n",
              " 515,\n",
              " 214,\n",
              " 140,\n",
              " 106,\n",
              " 176,\n",
              " 134,\n",
              " 419,\n",
              " 222,\n",
              " 64,\n",
              " 571,\n",
              " 218,\n",
              " 168,\n",
              " 140,\n",
              " 344,\n",
              " 230,\n",
              " 349,\n",
              " 42,\n",
              " 146,\n",
              " 47,\n",
              " 117,\n",
              " 288,\n",
              " 69,\n",
              " 299,\n",
              " 63,\n",
              " 454,\n",
              " 251,\n",
              " 103,\n",
              " 74,\n",
              " 489,\n",
              " 231,\n",
              " 180,\n",
              " 192,\n",
              " 217,\n",
              " 113,\n",
              " 63,\n",
              " 516,\n",
              " 204,\n",
              " 489,\n",
              " 716,\n",
              " 295,\n",
              " 163,\n",
              " 45,\n",
              " 94,\n",
              " 138,\n",
              " 256,\n",
              " 369,\n",
              " 241,\n",
              " 419,\n",
              " 239,\n",
              " 124,\n",
              " 746,\n",
              " 369,\n",
              " 128,\n",
              " 454,\n",
              " 82,\n",
              " 196,\n",
              " 218,\n",
              " 121,\n",
              " 363,\n",
              " 124,\n",
              " 101,\n",
              " 562,\n",
              " 402,\n",
              " 135,\n",
              " 126,\n",
              " 401,\n",
              " 382,\n",
              " 318,\n",
              " 147,\n",
              " 245,\n",
              " 220,\n",
              " 624,\n",
              " 201,\n",
              " 188,\n",
              " 280,\n",
              " 134,\n",
              " 157,\n",
              " 103,\n",
              " 228,\n",
              " 233,\n",
              " 440,\n",
              " 226,\n",
              " 113,\n",
              " 271,\n",
              " 144,\n",
              " 126,\n",
              " 104,\n",
              " 283,\n",
              " 535,\n",
              " 128,\n",
              " 114,\n",
              " 92,\n",
              " 112,\n",
              " 423,\n",
              " 97,\n",
              " 484,\n",
              " 256,\n",
              " 114,\n",
              " 369,\n",
              " 85,\n",
              " 287,\n",
              " 116,\n",
              " 127,\n",
              " 132,\n",
              " 585,\n",
              " 144,\n",
              " 375,\n",
              " 372,\n",
              " 399,\n",
              " 141,\n",
              " 402,\n",
              " 129,\n",
              " 437,\n",
              " 91,\n",
              " 145,\n",
              " 234,\n",
              " 202,\n",
              " 254,\n",
              " 218,\n",
              " 147,\n",
              " 426,\n",
              " 91,\n",
              " 221,\n",
              " 36,\n",
              " 32,\n",
              " 143,\n",
              " 263,\n",
              " 426,\n",
              " 223,\n",
              " 211,\n",
              " 316,\n",
              " 79,\n",
              " 209,\n",
              " 150,\n",
              " 573,\n",
              " 132,\n",
              " 397,\n",
              " 132,\n",
              " 195,\n",
              " 174,\n",
              " 158,\n",
              " 232,\n",
              " 112,\n",
              " 206,\n",
              " 106,\n",
              " 214,\n",
              " 249,\n",
              " 166,\n",
              " 125,\n",
              " 207,\n",
              " 82,\n",
              " 175,\n",
              " 196,\n",
              " 207,\n",
              " 129,\n",
              " 250,\n",
              " 119,\n",
              " 144,\n",
              " 389,\n",
              " 173,\n",
              " 191,\n",
              " 156,\n",
              " 154,\n",
              " 642,\n",
              " 117,\n",
              " 52,\n",
              " 67,\n",
              " 56,\n",
              " 286,\n",
              " 49,\n",
              " 266,\n",
              " 115,\n",
              " 224,\n",
              " 130,\n",
              " 196,\n",
              " 109,\n",
              " 331,\n",
              " 142,\n",
              " 109,\n",
              " 256,\n",
              " 121,\n",
              " 651,\n",
              " 136,\n",
              " 142,\n",
              " 225,\n",
              " 45,\n",
              " 197,\n",
              " 294,\n",
              " 199,\n",
              " 102,\n",
              " 140,\n",
              " 282,\n",
              " 563,\n",
              " 172,\n",
              " 543,\n",
              " 153,\n",
              " 189,\n",
              " 247,\n",
              " 797,\n",
              " 370,\n",
              " 129,\n",
              " 74,\n",
              " 302,\n",
              " 161,\n",
              " 129,\n",
              " 60,\n",
              " 283,\n",
              " 58,\n",
              " 110,\n",
              " 141,\n",
              " 572,\n",
              " 310,\n",
              " 118,\n",
              " 145,\n",
              " 129,\n",
              " 115,\n",
              " 103,\n",
              " 96,\n",
              " 317,\n",
              " 702,\n",
              " 116,\n",
              " 123,\n",
              " 148,\n",
              " 50,\n",
              " 79,\n",
              " 187,\n",
              " 263,\n",
              " 318,\n",
              " 154,\n",
              " 129,\n",
              " 249,\n",
              " 135,\n",
              " 159,\n",
              " 69,\n",
              " 153,\n",
              " 402,\n",
              " 117,\n",
              " 145,\n",
              " 191,\n",
              " 137,\n",
              " 141,\n",
              " 178,\n",
              " 118,\n",
              " 176,\n",
              " 261,\n",
              " 54,\n",
              " 162,\n",
              " 325,\n",
              " 142,\n",
              " 148,\n",
              " 328,\n",
              " 95,\n",
              " 165,\n",
              " 411,\n",
              " 135,\n",
              " 140,\n",
              " 297,\n",
              " 47,\n",
              " 107,\n",
              " 468,\n",
              " 309,\n",
              " 510,\n",
              " 71,\n",
              " 168,\n",
              " 76,\n",
              " 196,\n",
              " 183,\n",
              " 131,\n",
              " 73,\n",
              " 28,\n",
              " 101,\n",
              " 406,\n",
              " 543,\n",
              " 140,\n",
              " 115,\n",
              " 291,\n",
              " 141,\n",
              " 415,\n",
              " 110,\n",
              " 203,\n",
              " 274,\n",
              " 220,\n",
              " 103,\n",
              " 147,\n",
              " 68,\n",
              " 145,\n",
              " 445,\n",
              " 139,\n",
              " 451,\n",
              " 72,\n",
              " 506,\n",
              " 223,\n",
              " 148,\n",
              " 302,\n",
              " 112,\n",
              " 112,\n",
              " 369,\n",
              " 352,\n",
              " 268,\n",
              " 325,\n",
              " 138,\n",
              " 183,\n",
              " 86,\n",
              " 626,\n",
              " 134,\n",
              " 79,\n",
              " 167,\n",
              " 119,\n",
              " 106,\n",
              " 111,\n",
              " 112,\n",
              " 107,\n",
              " 135,\n",
              " 153,\n",
              " 267,\n",
              " 134,\n",
              " 419,\n",
              " 174,\n",
              " 413,\n",
              " 165,\n",
              " 133,\n",
              " 138,\n",
              " 272,\n",
              " 231,\n",
              " 123,\n",
              " 231,\n",
              " 107,\n",
              " 329,\n",
              " 227,\n",
              " 148,\n",
              " 226,\n",
              " 890,\n",
              " 221,\n",
              " 180,\n",
              " 240,\n",
              " 217,\n",
              " 79,\n",
              " 175,\n",
              " 55,\n",
              " 87,\n",
              " 659,\n",
              " 408,\n",
              " 162,\n",
              " 213,\n",
              " 55,\n",
              " 204,\n",
              " 106,\n",
              " 169,\n",
              " 109,\n",
              " 57,\n",
              " 620,\n",
              " 585,\n",
              " 146,\n",
              " 72,\n",
              " 140,\n",
              " 356,\n",
              " 173,\n",
              " 716,\n",
              " 219,\n",
              " 1465,\n",
              " 395,\n",
              " 222,\n",
              " 143,\n",
              " 57,\n",
              " 155,\n",
              " 255,\n",
              " 381,\n",
              " 220,\n",
              " 136,\n",
              " 348,\n",
              " 130,\n",
              " 363,\n",
              " 292,\n",
              " 89,\n",
              " 154,\n",
              " 265,\n",
              " 185,\n",
              " 83,\n",
              " 73,\n",
              " 43,\n",
              " 267,\n",
              " 154,\n",
              " 198,\n",
              " 181,\n",
              " 133,\n",
              " 268,\n",
              " 169,\n",
              " 130,\n",
              " 138,\n",
              " 400,\n",
              " 151,\n",
              " 63,\n",
              " 713,\n",
              " 186,\n",
              " 312,\n",
              " 285,\n",
              " 185,\n",
              " 44,\n",
              " 90,\n",
              " 337,\n",
              " 448,\n",
              " 61,\n",
              " 180,\n",
              " 257,\n",
              " 105,\n",
              " 246,\n",
              " 320,\n",
              " 141,\n",
              " 345,\n",
              " 96,\n",
              " 195,\n",
              " 402,\n",
              " 635,\n",
              " 44,\n",
              " 405,\n",
              " 613,\n",
              " 240,\n",
              " 125,\n",
              " 160,\n",
              " 142,\n",
              " 128,\n",
              " 777,\n",
              " 186,\n",
              " 180,\n",
              " 197,\n",
              " 59,\n",
              " 55,\n",
              " 194,\n",
              " 253,\n",
              " 189,\n",
              " 124,\n",
              " 477,\n",
              " 486,\n",
              " 315,\n",
              " 98,\n",
              " 233,\n",
              " 109,\n",
              " 77,\n",
              " 181,\n",
              " 79,\n",
              " 82,\n",
              " 166,\n",
              " 152,\n",
              " 115,\n",
              " 76,\n",
              " 153,\n",
              " 129,\n",
              " 144,\n",
              " 367,\n",
              " 604,\n",
              " 143,\n",
              " 220,\n",
              " 515,\n",
              " 109,\n",
              " 174,\n",
              " 82,\n",
              " 111,\n",
              " 89,\n",
              " 121,\n",
              " 507,\n",
              " 67,\n",
              " 208,\n",
              " 159,\n",
              " 225,\n",
              " 194,\n",
              " 174,\n",
              " 444,\n",
              " 182,\n",
              " 131,\n",
              " 157,\n",
              " 77,\n",
              " 180,\n",
              " 41,\n",
              " 175,\n",
              " 125,\n",
              " 85,\n",
              " 195,\n",
              " 257,\n",
              " 103,\n",
              " 76,\n",
              " 104,\n",
              " 68,\n",
              " 145,\n",
              " 48,\n",
              " 845,\n",
              " 142,\n",
              " 152,\n",
              " 200,\n",
              " 154,\n",
              " 122,\n",
              " 571,\n",
              " 335,\n",
              " 294,\n",
              " 147,\n",
              " 109,\n",
              " 145,\n",
              " 624,\n",
              " 105,\n",
              " 167,\n",
              " 167,\n",
              " 107,\n",
              " 170,\n",
              " 132,\n",
              " 339,\n",
              " 66,\n",
              " 115,\n",
              " 101,\n",
              " 278,\n",
              " 462,\n",
              " 170,\n",
              " 211,\n",
              " 153,\n",
              " 285,\n",
              " 154,\n",
              " 81,\n",
              " 225,\n",
              " 212,\n",
              " 168,\n",
              " 107,\n",
              " 119,\n",
              " 123,\n",
              " 130,\n",
              " 237,\n",
              " 176,\n",
              " 256,\n",
              " 114,\n",
              " 359,\n",
              " 194,\n",
              " 51,\n",
              " 74,\n",
              " 114,\n",
              " 102,\n",
              " 704,\n",
              " 103,\n",
              " 590,\n",
              " 170,\n",
              " 160,\n",
              " 161,\n",
              " 163,\n",
              " 111,\n",
              " 318,\n",
              " 575,\n",
              " 188,\n",
              " 215,\n",
              " 70,\n",
              " 64,\n",
              " 93,\n",
              " 110,\n",
              " 117,\n",
              " 263,\n",
              " 78,\n",
              " 111,\n",
              " 405,\n",
              " 783,\n",
              " 226,\n",
              " 151,\n",
              " 710,\n",
              " 339,\n",
              " 714,\n",
              " 218,\n",
              " 199,\n",
              " 61,\n",
              " 262,\n",
              " 110,\n",
              " 230,\n",
              " 245,\n",
              " 585,\n",
              " 115,\n",
              " 119,\n",
              " 60,\n",
              " 340,\n",
              " 179,\n",
              " 74,\n",
              " 178,\n",
              " 72,\n",
              " 142,\n",
              " 307,\n",
              " 401,\n",
              " 101,\n",
              " 489,\n",
              " 114,\n",
              " 290,\n",
              " 564,\n",
              " 195,\n",
              " 319,\n",
              " 129,\n",
              " 225,\n",
              " 498,\n",
              " 150,\n",
              " 421,\n",
              " 106,\n",
              " 131,\n",
              " 162,\n",
              " 61,\n",
              " 63,\n",
              " 141,\n",
              " 181,\n",
              " 120,\n",
              " 145,\n",
              " 164,\n",
              " 389,\n",
              " 256,\n",
              " 143,\n",
              " 500,\n",
              " 186,\n",
              " 133,\n",
              " 65,\n",
              " 267,\n",
              " 82,\n",
              " 174,\n",
              " 129,\n",
              " 283,\n",
              " 152,\n",
              " 134,\n",
              " 160,\n",
              " 122,\n",
              " 159,\n",
              " 66,\n",
              " 240,\n",
              " 236,\n",
              " 81,\n",
              " 458,\n",
              " 94,\n",
              " 92,\n",
              " 194,\n",
              " 191,\n",
              " 117,\n",
              " 111,\n",
              " 60,\n",
              " 194,\n",
              " 317,\n",
              " 198,\n",
              " 120,\n",
              " 478,\n",
              " 186,\n",
              " 252,\n",
              " 262,\n",
              " 78,\n",
              " 137,\n",
              " 651,\n",
              " 183,\n",
              " 372,\n",
              " 251,\n",
              " 223,\n",
              " 121,\n",
              " 233,\n",
              " 100,\n",
              " 293,\n",
              " 177,\n",
              " 240,\n",
              " 397,\n",
              " 118,\n",
              " 155,\n",
              " 219,\n",
              " 149,\n",
              " 178,\n",
              " 97,\n",
              " 244,\n",
              " 183,\n",
              " 171,\n",
              " 195,\n",
              " 596,\n",
              " 83,\n",
              " 56,\n",
              " 116,\n",
              " 181,\n",
              " 274,\n",
              " 118,\n",
              " 393,\n",
              " 213,\n",
              " 137,\n",
              " 183,\n",
              " 173,\n",
              " 188,\n",
              " 169,\n",
              " 608,\n",
              " 159,\n",
              " 151,\n",
              " 165,\n",
              " 138,\n",
              " 346,\n",
              " 895,\n",
              " 607,\n",
              " 339,\n",
              " 97,\n",
              " 397,\n",
              " 323,\n",
              " 315,\n",
              " 119,\n",
              " 500,\n",
              " 142,\n",
              " 114,\n",
              " 911,\n",
              " 57,\n",
              " 82,\n",
              " 350,\n",
              " 195,\n",
              " 283,\n",
              " 123,\n",
              " 581,\n",
              " 273,\n",
              " 123,\n",
              " 272,\n",
              " 96,\n",
              " 104,\n",
              " 219,\n",
              " 133,\n",
              " 120,\n",
              " 197,\n",
              " 185,\n",
              " 74,\n",
              " 401,\n",
              " 355,\n",
              " 168,\n",
              " 118,\n",
              " 82,\n",
              " 283,\n",
              " 133,\n",
              " 463,\n",
              " 134,\n",
              " 137,\n",
              " 134,\n",
              " 253,\n",
              " 77,\n",
              " 137,\n",
              " 98,\n",
              " 165,\n",
              " 187,\n",
              " 316,\n",
              " 287,\n",
              " 396,\n",
              " 458,\n",
              " 46,\n",
              " 286,\n",
              " 399,\n",
              " 572,\n",
              " 133,\n",
              " 385,\n",
              " 244,\n",
              " 105,\n",
              " 331,\n",
              " 181,\n",
              " 244,\n",
              " 87,\n",
              " 441,\n",
              " 800,\n",
              " 127,\n",
              " 374,\n",
              " 132,\n",
              " 269,\n",
              " 140,\n",
              " 240,\n",
              " 474,\n",
              " 142,\n",
              " 296,\n",
              " 432,\n",
              " 125,\n",
              " 258,\n",
              " 765,\n",
              " 313,\n",
              " 204,\n",
              " 160,\n",
              " 546,\n",
              " 59,\n",
              " 138,\n",
              " 422,\n",
              " 134,\n",
              " 127,\n",
              " 296,\n",
              " 121,\n",
              " 98,\n",
              " 162,\n",
              " 851,\n",
              " 29,\n",
              " 344,\n",
              " 206,\n",
              " 102,\n",
              " 150,\n",
              " 190,\n",
              " 59,\n",
              " 38,\n",
              " 188,\n",
              " 216,\n",
              " 289,\n",
              " 467,\n",
              " 554,\n",
              " 136,\n",
              " 68,\n",
              " 125,\n",
              " 228,\n",
              " 579,\n",
              " 947,\n",
              " 222,\n",
              " 439,\n",
              " 235,\n",
              " 330,\n",
              " 142,\n",
              " 161,\n",
              " 45,\n",
              " 112,\n",
              " 183,\n",
              " 73,\n",
              " 185,\n",
              " 271,\n",
              " 189,\n",
              " 53,\n",
              " 606,\n",
              " 410,\n",
              " 70,\n",
              " 132,\n",
              " 480,\n",
              " 193,\n",
              " 235,\n",
              " 178,\n",
              " 69,\n",
              " 119,\n",
              " 102,\n",
              " 180,\n",
              " 229,\n",
              " 223,\n",
              " 246,\n",
              " 220,\n",
              " 75,\n",
              " 1077,\n",
              " 305,\n",
              " 246,\n",
              " 297,\n",
              " 125,\n",
              " 676,\n",
              " 265,\n",
              " 231,\n",
              " 103,\n",
              " 108,\n",
              " 114,\n",
              " 587,\n",
              " 167,\n",
              " 711,\n",
              " 131,\n",
              " 235,\n",
              " 132,\n",
              " 187,\n",
              " 270,\n",
              " 123,\n",
              " 550,\n",
              " 79,\n",
              " 263,\n",
              " 289,\n",
              " 296,\n",
              " 372,\n",
              " 401,\n",
              " 118,\n",
              " 591,\n",
              " 63,\n",
              " 104,\n",
              " 156,\n",
              " 114,\n",
              " 109,\n",
              " 363,\n",
              " 418,\n",
              " ...]"
            ]
          },
          "metadata": {
            "tags": []
          },
          "execution_count": 20
        }
      ]
    },
    {
      "metadata": {
        "id": "u6rBFjW1ZylE",
        "colab_type": "code",
        "colab": {}
      },
      "cell_type": "code",
      "source": [
        "import matplotlib.pyplot as plt\n"
      ],
      "execution_count": 0,
      "outputs": []
    },
    {
      "metadata": {
        "id": "jc6z_fKCZ5ln",
        "colab_type": "code",
        "outputId": "05980a09-6044-4716-fe71-e59c9d9d45cd",
        "colab": {
          "base_uri": "https://localhost:8080/",
          "height": 357
        }
      },
      "cell_type": "code",
      "source": [
        "plt.hist(lens)"
      ],
      "execution_count": 0,
      "outputs": [
        {
          "output_type": "execute_result",
          "data": {
            "text/plain": [
              "(array([1.6757e+04, 5.8740e+03, 1.6080e+03, 5.4900e+02, 1.9500e+02,\n",
              "        7.0000e+00, 6.0000e+00, 2.0000e+00, 1.0000e+00, 1.0000e+00]),\n",
              " array([   9. ,  227.4,  445.8,  664.2,  882.6, 1101. , 1319.4, 1537.8,\n",
              "        1756.2, 1974.6, 2193. ]),\n",
              " <a list of 10 Patch objects>)"
            ]
          },
          "metadata": {
            "tags": []
          },
          "execution_count": 22
        },
        {
          "output_type": "display_data",
          "data": {
            "image/png": "[encoded data removed]",
            "text/plain": [
              "<Figure size 432x288 with 1 Axes>"
            ]
          },
          "metadata": {
            "tags": []
          }
        }
      ]
    },
    {
      "metadata": {
        "id": "TCRPo3HqZ5_r",
        "colab_type": "code",
        "outputId": "30c6dafb-6dde-4c56-a007-d8bc26202e9d",
        "colab": {
          "base_uri": "https://localhost:8080/",
          "height": 140
        }
      },
      "cell_type": "code",
      "source": [
        "maxlen = 400\n",
        "X_train = pad_sequences(train_sequences, maxlen=maxlen)\n",
        "X_train\n"
      ],
      "execution_count": 0,
      "outputs": [
        {
          "output_type": "execute_result",
          "data": {
            "text/plain": [
              "array([[   0,    0,    0, ...,    3,  565, 6259],\n",
              "       [   0,    0,    0, ...,  297,  238,   36],\n",
              "       [   0,    0,    0, ...,    5, 8926,    1],\n",
              "       ...,\n",
              "       [   0,    0,    0, ...,  155,    7,    7],\n",
              "       [1802, 6124,   42, ...,    1, 3476, 1873],\n",
              "       [   0,    0,    0, ...,  302,  339,  155]], dtype=int32)"
            ]
          },
          "metadata": {
            "tags": []
          },
          "execution_count": 23
        }
      ]
    },
    {
      "metadata": {
        "id": "bSRjJ5eLaCKn",
        "colab_type": "code",
        "outputId": "729d3cbf-bf44-42ab-c634-b4228b3e9665",
        "colab": {
          "base_uri": "https://localhost:8080/",
          "height": 34
        }
      },
      "cell_type": "code",
      "source": [
        "X_train.shape"
      ],
      "execution_count": 0,
      "outputs": [
        {
          "output_type": "execute_result",
          "data": {
            "text/plain": [
              "(25000, 400)"
            ]
          },
          "metadata": {
            "tags": []
          },
          "execution_count": 24
        }
      ]
    },
    {
      "metadata": {
        "id": "NEGHbbhWaC-P",
        "colab_type": "code",
        "colab": {}
      },
      "cell_type": "code",
      "source": [
        "X_test = pad_sequences(test_sequences, maxlen=maxlen)\n"
      ],
      "execution_count": 0,
      "outputs": []
    },
    {
      "metadata": {
        "id": "8brhDOBlaGrl",
        "colab_type": "code",
        "colab": {}
      },
      "cell_type": "code",
      "source": [
        "y_train = train.sentiment\n",
        "y_test = test.sentiment"
      ],
      "execution_count": 0,
      "outputs": []
    },
    {
      "metadata": {
        "id": "6Ih7vJ7uaHKN",
        "colab_type": "code",
        "colab": {}
      },
      "cell_type": "code",
      "source": [
        "import spacy\n"
      ],
      "execution_count": 0,
      "outputs": []
    },
    {
      "metadata": {
        "id": "ksmD8rmpaLPz",
        "colab_type": "code",
        "outputId": "f1cdba2f-8e55-4891-859a-230cd25c67f1",
        "colab": {
          "base_uri": "https://localhost:8080/",
          "height": 140
        }
      },
      "cell_type": "code",
      "source": [
        "spacy.cli.download(\"en_core_web_lg\")"
      ],
      "execution_count": 0,
      "outputs": [
        {
          "output_type": "stream",
          "text": [
            "\n",
            "\u001b[93m    Linking successful\u001b[0m\n",
            "    /usr/local/lib/python3.6/dist-packages/en_core_web_lg -->\n",
            "    /usr/local/lib/python3.6/dist-packages/spacy/data/en_core_web_lg\n",
            "\n",
            "    You can now load the model via spacy.load('en_core_web_lg')\n",
            "\n"
          ],
          "name": "stdout"
        }
      ]
    },
    {
      "metadata": {
        "id": "iJEZ8hzxaYnh",
        "colab_type": "code",
        "colab": {}
      },
      "cell_type": "code",
      "source": [
        "nlp = spacy.load(\"en_core_web_lg\")"
      ],
      "execution_count": 0,
      "outputs": []
    },
    {
      "metadata": {
        "id": "h--3bPB2adn3",
        "colab_type": "code",
        "outputId": "bf770936-3d10-466e-edff-81a6cc089285",
        "colab": {
          "base_uri": "https://localhost:8080/",
          "height": 1090
        }
      },
      "cell_type": "code",
      "source": [
        "nlp.vocab[\"the\"].vector"
      ],
      "execution_count": 0,
      "outputs": [
        {
          "output_type": "execute_result",
          "data": {
            "text/plain": [
              "array([ 2.7204e-01, -6.2030e-02, -1.8840e-01,  2.3225e-02, -1.8158e-02,\n",
              "        6.7192e-03, -1.3877e-01,  1.7708e-01,  1.7709e-01,  2.5882e+00,\n",
              "       -3.5179e-01, -1.7312e-01,  4.3285e-01, -1.0708e-01,  1.5006e-01,\n",
              "       -1.9982e-01, -1.9093e-01,  1.1871e+00, -1.6207e-01, -2.3538e-01,\n",
              "        3.6640e-03, -1.9156e-01, -8.5662e-02,  3.9199e-02, -6.6449e-02,\n",
              "       -4.2090e-02, -1.9122e-01,  1.1679e-02, -3.7138e-01,  2.1886e-01,\n",
              "        1.1423e-03,  4.3190e-01, -1.4205e-01,  3.8059e-01,  3.0654e-01,\n",
              "        2.0167e-02, -1.8316e-01, -6.5186e-03, -8.0549e-03, -1.2063e-01,\n",
              "        2.7507e-02,  2.9839e-01, -2.2896e-01, -2.2882e-01,  1.4671e-01,\n",
              "       -7.6301e-02, -1.2680e-01, -6.6651e-03, -5.2795e-02,  1.4258e-01,\n",
              "        1.5610e-01,  5.5510e-02, -1.6149e-01,  9.6290e-02, -7.6533e-02,\n",
              "       -4.9971e-02, -1.0195e-02, -4.7641e-02, -1.6679e-01, -2.3940e-01,\n",
              "        5.0141e-03, -4.9175e-02,  1.3338e-02,  4.1923e-01, -1.0104e-01,\n",
              "        1.5111e-02, -7.7706e-02, -1.3471e-01,  1.1900e-01,  1.0802e-01,\n",
              "        2.1061e-01, -5.1904e-02,  1.8527e-01,  1.7856e-01,  4.1293e-02,\n",
              "       -1.4385e-02, -8.2567e-02, -3.5483e-02, -7.6173e-02, -4.5367e-02,\n",
              "        8.9281e-02,  3.3672e-01, -2.2099e-01, -6.7275e-03,  2.3983e-01,\n",
              "       -2.3147e-01, -8.8592e-01,  9.1297e-02, -1.2123e-02,  1.3233e-02,\n",
              "       -2.5799e-01, -2.9720e-02,  1.6754e-02,  1.3690e-02,  3.2377e-01,\n",
              "        3.9546e-02,  4.2114e-02, -8.8243e-02,  3.0318e-01,  8.7747e-02,\n",
              "        1.6346e-01, -4.0485e-01, -4.3845e-02, -4.0697e-02,  2.0936e-01,\n",
              "       -7.7795e-01,  2.9970e-01,  2.3340e-01,  1.4891e-01, -3.9037e-01,\n",
              "       -5.3086e-02,  6.2922e-02,  6.5663e-02, -1.3906e-01,  9.4193e-02,\n",
              "        1.0344e-01, -2.7970e-01,  2.8905e-01, -3.2161e-01,  2.0687e-02,\n",
              "        6.3254e-02, -2.3257e-01, -4.3520e-01, -1.7049e-02, -3.2744e-01,\n",
              "       -4.7064e-02, -7.5149e-02, -1.8788e-01, -1.5017e-02,  2.9342e-02,\n",
              "       -3.5270e-01, -4.4278e-02, -1.3507e-01, -1.1644e-01, -1.0430e-01,\n",
              "        1.3920e-01,  3.9199e-03,  3.7603e-01,  6.7217e-02, -3.7992e-01,\n",
              "       -1.1241e+00, -5.7357e-02, -1.6826e-01,  3.9410e-02,  2.6040e-01,\n",
              "       -2.3866e-02,  1.7963e-01,  1.3553e-01,  2.1390e-01,  5.2633e-02,\n",
              "       -2.5033e-01, -1.1307e-01,  2.2234e-01,  6.6597e-02, -1.1161e-01,\n",
              "        6.2438e-02, -2.7972e-01,  1.9878e-01, -3.6262e-01, -1.0006e-05,\n",
              "       -1.7262e-01,  2.9166e-01, -1.5723e-01,  5.4295e-02,  6.1010e-02,\n",
              "       -3.9165e-01,  2.7660e-01,  5.7816e-02,  3.9709e-01,  2.5229e-02,\n",
              "        2.4672e-01, -8.9050e-02,  1.5683e-01, -2.0960e-01, -2.2196e-01,\n",
              "        5.2394e-02, -1.1360e-02,  5.0417e-02, -1.4023e-01, -4.2825e-02,\n",
              "       -3.1931e-02, -2.1336e-01, -2.0402e-01, -2.3272e-01,  7.4490e-02,\n",
              "        8.8202e-02, -1.1063e-01, -3.3526e-01, -1.4028e-02, -2.9429e-01,\n",
              "       -8.6911e-02, -1.3210e-01, -4.3616e-01,  2.0513e-01,  7.9362e-03,\n",
              "        4.8505e-01,  6.4237e-02,  1.4261e-01, -4.3711e-01,  1.2783e-01,\n",
              "       -1.3111e-01,  2.4673e-01, -2.7496e-01,  1.5896e-01,  4.3314e-01,\n",
              "        9.0286e-02,  2.4662e-01,  6.6463e-02, -2.0099e-01,  1.1010e-01,\n",
              "        3.6440e-02,  1.7359e-01, -1.5689e-01, -8.6328e-02, -1.7316e-01,\n",
              "        3.6975e-01, -4.0317e-01, -6.4814e-02, -3.4166e-02, -1.3773e-02,\n",
              "        6.2854e-02, -1.7183e-01, -1.2366e-01, -3.4663e-02, -2.2793e-01,\n",
              "       -2.3172e-01,  2.3900e-01,  2.7473e-01,  1.5332e-01,  1.0661e-01,\n",
              "       -6.0982e-02, -2.4805e-02, -1.3478e-01,  1.7932e-01, -3.7374e-01,\n",
              "       -2.8930e-02, -1.1142e-01, -8.3890e-02, -5.5932e-02,  6.8039e-02,\n",
              "       -1.0783e-01,  1.4650e-01,  9.4617e-02, -8.4554e-02,  6.7429e-02,\n",
              "       -3.2910e-01,  3.4082e-02, -1.6747e-01, -2.5997e-01, -2.2917e-01,\n",
              "        2.0159e-02, -2.7580e-02,  1.6136e-01, -1.8538e-01,  3.7665e-02,\n",
              "        5.7603e-01,  2.0684e-01,  2.7941e-01,  1.6477e-01, -1.8769e-02,\n",
              "        1.2062e-01,  6.9648e-02,  5.9022e-02, -2.3154e-01,  2.4095e-01,\n",
              "       -3.4710e-01,  4.8540e-02, -5.6502e-02,  4.1566e-01, -4.3194e-01,\n",
              "        4.8230e-01, -5.1759e-02, -2.7285e-01, -2.5893e-01,  1.6555e-01,\n",
              "       -1.8310e-01, -6.7340e-02,  4.2457e-01,  1.0346e-02,  1.4237e-01,\n",
              "        2.5939e-01,  1.7123e-01, -1.3821e-01, -6.6846e-02,  1.5981e-02,\n",
              "       -3.0193e-01,  4.3579e-02, -4.3102e-02,  3.5025e-01, -1.9681e-01,\n",
              "       -4.2810e-01,  1.6899e-01,  2.2511e-01, -2.8557e-01, -1.0280e-01,\n",
              "       -1.8168e-02,  1.1407e-01,  1.3015e-01, -1.8317e-01,  1.3230e-01],\n",
              "      dtype=float32)"
            ]
          },
          "metadata": {
            "tags": []
          },
          "execution_count": 30
        }
      ]
    },
    {
      "metadata": {
        "id": "RoheI0Jnaf4F",
        "colab_type": "code",
        "outputId": "01e5ab32-8759-4a3f-c9ad-d764df0f742b",
        "colab": {
          "base_uri": "https://localhost:8080/",
          "height": 357
        }
      },
      "cell_type": "code",
      "source": [
        "plt.hist(nlp.vocab[\"the\"].vector)"
      ],
      "execution_count": 0,
      "outputs": [
        {
          "output_type": "execute_result",
          "data": {
            "text/plain": [
              "(array([  3.,   9., 140., 133.,  13.,   0.,   1.,   0.,   0.,   1.]),\n",
              " array([-1.1241    , -0.75286996, -0.38163996, -0.01040995,  0.36082006,\n",
              "         0.73205006,  1.1032801 ,  1.4745101 ,  1.8457401 ,  2.21697   ,\n",
              "         2.5882    ], dtype=float32),\n",
              " <a list of 10 Patch objects>)"
            ]
          },
          "metadata": {
            "tags": []
          },
          "execution_count": 31
        },
        {
          "output_type": "display_data",
          "data": {
            "image/png": "[encoded data removed]",
            "text/plain": [
              "<Figure size 432x288 with 1 Axes>"
            ]
          },
          "metadata": {
            "tags": []
          }
        }
      ]
    },
    {
      "metadata": {
        "id": "rqIuOBy8agqa",
        "colab_type": "code",
        "outputId": "abe7ec52-59b9-408e-b171-5143f1b0833e",
        "colab": {
          "base_uri": "https://localhost:8080/",
          "height": 34
        }
      },
      "cell_type": "code",
      "source": [
        "embedding_dim = nlp.vocab.vectors_length\n",
        "embedding_dim"
      ],
      "execution_count": 0,
      "outputs": [
        {
          "output_type": "execute_result",
          "data": {
            "text/plain": [
              "300"
            ]
          },
          "metadata": {
            "tags": []
          },
          "execution_count": 32
        }
      ]
    },
    {
      "metadata": {
        "id": "XAH9_nf2aia8",
        "colab_type": "code",
        "outputId": "703cde53-0fc7-4c96-ce05-3cb7d3e0d732",
        "colab": {
          "base_uri": "https://localhost:8080/",
          "height": 1090
        }
      },
      "cell_type": "code",
      "source": [
        "nlp.vocab[\"you're\"].vector"
      ],
      "execution_count": 0,
      "outputs": [
        {
          "output_type": "execute_result",
          "data": {
            "text/plain": [
              "array([ 0.56767  , -0.062915 , -0.5527   ,  0.20808  ,  0.76667  ,\n",
              "       -0.33901  , -0.59938  ,  0.040888 , -0.32349  , -0.9363   ,\n",
              "       -0.1223   , -0.078781 ,  0.0023124, -0.0053164,  0.63593  ,\n",
              "       -0.7781   ,  0.24667  , -1.5936   , -0.3744   , -0.035846 ,\n",
              "        0.31343  ,  0.12871  , -0.26824  ,  0.84895  , -0.23236  ,\n",
              "        0.32443  ,  0.34335  ,  0.037217 ,  0.51691  , -0.32046  ,\n",
              "        0.11199  , -0.62312  ,  0.86988  , -0.34077  , -0.53392  ,\n",
              "        0.0083001, -0.01173  , -0.33437  , -0.010093 ,  0.13465  ,\n",
              "       -0.27184  ,  0.73015  , -0.89824  , -0.11176  , -0.15691  ,\n",
              "        0.4852   , -0.22805  , -1.4438   , -0.23564  ,  0.6219   ,\n",
              "       -0.50821  , -0.3406   ,  0.46742  , -0.79686  ,  0.43102  ,\n",
              "       -0.4575   ,  0.22786  , -1.2585   , -0.36702  ,  0.17894  ,\n",
              "       -0.063134 , -0.31222  , -0.88785  , -0.55294  , -0.10403  ,\n",
              "       -0.022094 ,  0.080045 , -0.13069  , -0.20033  , -0.18031  ,\n",
              "       -0.50601  ,  0.1914   , -0.7334   ,  0.023139 , -0.081553 ,\n",
              "       -0.095937 ,  0.16693  ,  0.57877  , -0.66214  ,  0.32616  ,\n",
              "        0.40275  , -0.34266  , -0.31924  , -0.0075768,  0.90121  ,\n",
              "        0.045565 ,  1.0533   , -0.62418  ,  0.39035  ,  0.17227  ,\n",
              "       -0.40312  , -0.008418 , -0.39009  ,  0.61754  , -0.28495  ,\n",
              "        0.37158  ,  0.059556 , -0.72039  ,  0.23606  ,  0.42962  ,\n",
              "       -0.54261  ,  0.3863   ,  0.20051  , -0.21523  ,  0.69477  ,\n",
              "       -1.1186   ,  0.21743  , -0.37277  , -0.33891  ,  0.36546  ,\n",
              "       -0.31137  , -0.27142  , -0.29532  ,  0.21949  , -0.053699 ,\n",
              "        0.57487  ,  0.61805  ,  0.93183  , -0.07982  , -0.82486  ,\n",
              "       -0.33336  , -0.15863  ,  0.23253  ,  0.50368  ,  0.28035  ,\n",
              "        0.41737  , -0.0052099, -0.81328  , -0.41117  , -0.30162  ,\n",
              "       -0.94525  , -0.72984  ,  0.20227  ,  0.13652  ,  0.64788  ,\n",
              "       -0.11493  , -0.077567 , -0.45742  , -0.37588  , -0.24443  ,\n",
              "        0.32672  , -0.31718  , -0.59455  , -0.12861  , -0.65747  ,\n",
              "       -0.10449  , -0.067938 , -0.081418 , -0.17584  ,  0.66919  ,\n",
              "        0.22483  , -0.42372  , -0.22787  , -0.27638  , -0.10272  ,\n",
              "        0.094591 ,  0.832    , -0.13095  ,  0.21013  , -0.098502 ,\n",
              "       -0.45879  ,  0.38105  ,  0.12539  ,  0.90245  ,  1.0153   ,\n",
              "       -0.043115 ,  0.15498  ,  0.089483 ,  0.11879  , -0.13619  ,\n",
              "       -0.9979   ,  0.08471  ,  0.54717  ,  0.8436   ,  0.048944 ,\n",
              "       -0.43853  , -0.13494  , -0.34239  , -0.84819  ,  0.32998  ,\n",
              "       -0.012779 ,  0.0033585,  0.5884   , -0.59729  , -0.23499  ,\n",
              "        0.96363  ,  0.27599  , -0.32648  , -0.30304  ,  0.24572  ,\n",
              "        0.53646  ,  0.11427  ,  0.0018828, -0.62511  , -0.093824 ,\n",
              "        0.46445  ,  1.4101   ,  0.13255  , -0.39726  ,  0.11326  ,\n",
              "        0.45356  , -0.30344  , -0.31592  ,  0.25431  ,  0.059437 ,\n",
              "        0.014949 ,  0.12292  , -0.66184  ,  0.21874  , -0.44505  ,\n",
              "        0.25901  , -0.073584 , -0.70177  , -0.072246 , -0.44118  ,\n",
              "       -0.12408  , -0.15183  , -0.19854  ,  0.69575  ,  0.05603  ,\n",
              "        0.64256  ,  0.040981 ,  0.31854  , -0.33822  ,  0.37394  ,\n",
              "       -0.25021  , -0.5796   , -0.017695 , -0.33615  , -1.1539   ,\n",
              "       -0.50846  ,  0.37757  , -0.85402  , -0.42616  , -0.14859  ,\n",
              "        0.3486   ,  0.50026  , -0.68492  , -0.3696   , -0.01559  ,\n",
              "        0.42896  ,  0.25513  ,  0.36323  ,  0.81993  ,  0.17317  ,\n",
              "        0.65324  , -0.22358  ,  0.09638  ,  0.44187  ,  0.47039  ,\n",
              "       -0.30611  , -0.23921  ,  0.32356  ,  0.17265  ,  0.28872  ,\n",
              "       -0.41447  , -0.20824  ,  0.062656 , -0.49708  ,  0.52698  ,\n",
              "        0.64226  , -0.16085  ,  0.55375  , -0.52898  ,  0.42007  ,\n",
              "        1.1939   , -0.063401 ,  0.36855  ,  0.049858 ,  0.24746  ,\n",
              "       -0.69055  , -0.39903  ,  0.06308  ,  0.22885  ,  0.31297  ,\n",
              "       -0.4987   ,  0.53965  , -0.011636 ,  0.77687  , -0.39051  ,\n",
              "       -0.36812  , -0.24747  , -0.8673   , -0.4054   ,  0.35747  ,\n",
              "       -0.61891  , -0.056749 , -0.31181  , -0.13215  , -0.21394  ,\n",
              "        0.022443 , -0.30726  , -0.36444  , -0.31938  ,  0.16653  ,\n",
              "       -0.2202   , -0.73083  , -0.026381 ,  0.077433 , -0.39221  ],\n",
              "      dtype=float32)"
            ]
          },
          "metadata": {
            "tags": []
          },
          "execution_count": 33
        }
      ]
    },
    {
      "metadata": {
        "id": "W_nbQ8GAaqYJ",
        "colab_type": "code",
        "outputId": "2b097ad0-2fa9-4587-e0ad-d2090a274113",
        "colab": {
          "base_uri": "https://localhost:8080/",
          "height": 369
        }
      },
      "cell_type": "code",
      "source": [
        "list(tokenizer.index_word.items())[:20]"
      ],
      "execution_count": 0,
      "outputs": [
        {
          "output_type": "execute_result",
          "data": {
            "text/plain": [
              "[(1, 'the'),\n",
              " (2, 'and'),\n",
              " (3, 'a'),\n",
              " (4, 'of'),\n",
              " (5, 'to'),\n",
              " (6, 'is'),\n",
              " (7, 'br'),\n",
              " (8, 'in'),\n",
              " (9, 'it'),\n",
              " (10, 'i'),\n",
              " (11, 'this'),\n",
              " (12, 'that'),\n",
              " (13, 'was'),\n",
              " (14, 'as'),\n",
              " (15, 'for'),\n",
              " (16, 'with'),\n",
              " (17, 'movie'),\n",
              " (18, 'but'),\n",
              " (19, 'film'),\n",
              " (20, 'on')]"
            ]
          },
          "metadata": {
            "tags": []
          },
          "execution_count": 34
        }
      ]
    },
    {
      "metadata": {
        "id": "DSP10xzxa07R",
        "colab_type": "code",
        "outputId": "57c63b73-5f9d-4bed-935b-98323a452dea",
        "colab": {
          "base_uri": "https://localhost:8080/",
          "height": 897
        }
      },
      "cell_type": "code",
      "source": [
        "list(tokenizer.index_word.items())[9950:10000]"
      ],
      "execution_count": 0,
      "outputs": [
        {
          "output_type": "execute_result",
          "data": {
            "text/plain": [
              "[(9951, \"day's\"),\n",
              " (9952, 'ewan'),\n",
              " (9953, \"murphy's\"),\n",
              " (9954, 'uniquely'),\n",
              " (9955, 'wicker'),\n",
              " (9956, 'maniacal'),\n",
              " (9957, 'devastated'),\n",
              " (9958, 'lamas'),\n",
              " (9959, 'transform'),\n",
              " (9960, 'willy'),\n",
              " (9961, \"ben's\"),\n",
              " (9962, 'unsuccessful'),\n",
              " (9963, 'decoration'),\n",
              " (9964, 'olympia'),\n",
              " (9965, 'perfected'),\n",
              " (9966, 'mattei'),\n",
              " (9967, 'indulge'),\n",
              " (9968, 'frenchman'),\n",
              " (9969, \"streisand's\"),\n",
              " (9970, 'starving'),\n",
              " (9971, 'mismatched'),\n",
              " (9972, 'cambodia'),\n",
              " (9973, 'transcends'),\n",
              " (9974, 'exhausted'),\n",
              " (9975, 'bickering'),\n",
              " (9976, 'researched'),\n",
              " (9977, 'complains'),\n",
              " (9978, 'washing'),\n",
              " (9979, 'weaves'),\n",
              " (9980, 'raping'),\n",
              " (9981, 'kusturica'),\n",
              " (9982, 'lamarr'),\n",
              " (9983, 'exceedingly'),\n",
              " (9984, 'tent'),\n",
              " (9985, 'enthralled'),\n",
              " (9986, 'liza'),\n",
              " (9987, 'geeky'),\n",
              " (9988, 'sentiments'),\n",
              " (9989, 'transferred'),\n",
              " (9990, 'blends'),\n",
              " (9991, 'voters'),\n",
              " (9992, 'stevenson'),\n",
              " (9993, 'retrospect'),\n",
              " (9994, 'praying'),\n",
              " (9995, 'secluded'),\n",
              " (9996, 'crowds'),\n",
              " (9997, 'boarding'),\n",
              " (9998, 'contacts'),\n",
              " (9999, 'di'),\n",
              " (10000, 'logo')]"
            ]
          },
          "metadata": {
            "tags": []
          },
          "execution_count": 35
        }
      ]
    },
    {
      "metadata": {
        "id": "gGnzWlbKa2ow",
        "colab_type": "code",
        "outputId": "04b75ff3-edb8-4486-94d5-cd9bbb144f58",
        "colab": {
          "base_uri": "https://localhost:8080/",
          "height": 334
        }
      },
      "cell_type": "code",
      "source": [
        "nlp.vocab['n1st'].vector"
      ],
      "execution_count": 0,
      "outputs": [
        {
          "output_type": "execute_result",
          "data": {
            "text/plain": [
              "array([0., 0., 0., 0., 0., 0., 0., 0., 0., 0., 0., 0., 0., 0., 0., 0., 0.,\n",
              "       0., 0., 0., 0., 0., 0., 0., 0., 0., 0., 0., 0., 0., 0., 0., 0., 0.,\n",
              "       0., 0., 0., 0., 0., 0., 0., 0., 0., 0., 0., 0., 0., 0., 0., 0., 0.,\n",
              "       0., 0., 0., 0., 0., 0., 0., 0., 0., 0., 0., 0., 0., 0., 0., 0., 0.,\n",
              "       0., 0., 0., 0., 0., 0., 0., 0., 0., 0., 0., 0., 0., 0., 0., 0., 0.,\n",
              "       0., 0., 0., 0., 0., 0., 0., 0., 0., 0., 0., 0., 0., 0., 0., 0., 0.,\n",
              "       0., 0., 0., 0., 0., 0., 0., 0., 0., 0., 0., 0., 0., 0., 0., 0., 0.,\n",
              "       0., 0., 0., 0., 0., 0., 0., 0., 0., 0., 0., 0., 0., 0., 0., 0., 0.,\n",
              "       0., 0., 0., 0., 0., 0., 0., 0., 0., 0., 0., 0., 0., 0., 0., 0., 0.,\n",
              "       0., 0., 0., 0., 0., 0., 0., 0., 0., 0., 0., 0., 0., 0., 0., 0., 0.,\n",
              "       0., 0., 0., 0., 0., 0., 0., 0., 0., 0., 0., 0., 0., 0., 0., 0., 0.,\n",
              "       0., 0., 0., 0., 0., 0., 0., 0., 0., 0., 0., 0., 0., 0., 0., 0., 0.,\n",
              "       0., 0., 0., 0., 0., 0., 0., 0., 0., 0., 0., 0., 0., 0., 0., 0., 0.,\n",
              "       0., 0., 0., 0., 0., 0., 0., 0., 0., 0., 0., 0., 0., 0., 0., 0., 0.,\n",
              "       0., 0., 0., 0., 0., 0., 0., 0., 0., 0., 0., 0., 0., 0., 0., 0., 0.,\n",
              "       0., 0., 0., 0., 0., 0., 0., 0., 0., 0., 0., 0., 0., 0., 0., 0., 0.,\n",
              "       0., 0., 0., 0., 0., 0., 0., 0., 0., 0., 0., 0., 0., 0., 0., 0., 0.,\n",
              "       0., 0., 0., 0., 0., 0., 0., 0., 0., 0., 0.], dtype=float32)"
            ]
          },
          "metadata": {
            "tags": []
          },
          "execution_count": 36
        }
      ]
    },
    {
      "metadata": {
        "id": "0jaCP_4ha4ik",
        "colab_type": "code",
        "colab": {}
      },
      "cell_type": "code",
      "source": [
        "embedding_matrix = np.random.rand(num_words + 1, embedding_dim)"
      ],
      "execution_count": 0,
      "outputs": []
    },
    {
      "metadata": {
        "id": "UYaukKtra6Qv",
        "colab_type": "code",
        "outputId": "aa8407b8-aafb-4247-f267-b94d901d0abf",
        "colab": {
          "base_uri": "https://localhost:8080/",
          "height": 34
        }
      },
      "cell_type": "code",
      "source": [
        "embedding_matrix.shape"
      ],
      "execution_count": 0,
      "outputs": [
        {
          "output_type": "execute_result",
          "data": {
            "text/plain": [
              "(10001, 300)"
            ]
          },
          "metadata": {
            "tags": []
          },
          "execution_count": 38
        }
      ]
    },
    {
      "metadata": {
        "id": "ghhkydu6a7mJ",
        "colab_type": "code",
        "outputId": "1042ce39-34de-40fb-e364-8b49658b78b1",
        "colab": {
          "base_uri": "https://localhost:8080/",
          "height": 357
        }
      },
      "cell_type": "code",
      "source": [
        "plt.hist(embedding_matrix[0])"
      ],
      "execution_count": 0,
      "outputs": [
        {
          "output_type": "execute_result",
          "data": {
            "text/plain": [
              "(array([33., 40., 36., 33., 25., 25., 27., 35., 24., 22.]),\n",
              " array([0.01351246, 0.11198238, 0.2104523 , 0.30892222, 0.40739213,\n",
              "        0.50586205, 0.60433197, 0.70280189, 0.80127181, 0.89974173,\n",
              "        0.99821165]),\n",
              " <a list of 10 Patch objects>)"
            ]
          },
          "metadata": {
            "tags": []
          },
          "execution_count": 39
        },
        {
          "output_type": "display_data",
          "data": {
            "image/png": "[encoded data removed]",
            "text/plain": [
              "<Figure size 432x288 with 1 Axes>"
            ]
          },
          "metadata": {
            "tags": []
          }
        }
      ]
    },
    {
      "metadata": {
        "id": "2JaLzgWva9Rg",
        "colab_type": "code",
        "colab": {}
      },
      "cell_type": "code",
      "source": [
        "embedding_matrix = (embedding_matrix - 0.5) * 4"
      ],
      "execution_count": 0,
      "outputs": []
    },
    {
      "metadata": {
        "id": "E8ho5klFbtrk",
        "colab_type": "code",
        "outputId": "0c1059ae-ef7f-4e01-f875-7ab437bf6ccf",
        "colab": {
          "base_uri": "https://localhost:8080/",
          "height": 357
        }
      },
      "cell_type": "code",
      "source": [
        "plt.hist(embedding_matrix[0])"
      ],
      "execution_count": 0,
      "outputs": [
        {
          "output_type": "execute_result",
          "data": {
            "text/plain": [
              "(array([33., 40., 36., 33., 25., 25., 27., 35., 24., 22.]),\n",
              " array([-1.94595016, -1.55207049, -1.15819081, -0.76431114, -0.37043146,\n",
              "         0.02344821,  0.41732789,  0.81120757,  1.20508724,  1.59896692,\n",
              "         1.99284659]),\n",
              " <a list of 10 Patch objects>)"
            ]
          },
          "metadata": {
            "tags": []
          },
          "execution_count": 41
        },
        {
          "output_type": "display_data",
          "data": {
            "image/png": "[encoded data removed]",
            "text/plain": [
              "<Figure size 432x288 with 1 Axes>"
            ]
          },
          "metadata": {
            "tags": []
          }
        }
      ]
    },
    {
      "metadata": {
        "id": "piKOlc8qbvLf",
        "colab_type": "code",
        "colab": {}
      },
      "cell_type": "code",
      "source": [
        "for word, i in list(tokenizer.word_index.items())[:num_words]:\n",
        "  try:\n",
        "    embedding_vector = nlp.vocab[word].vector\n",
        "    embedding_matrix[i] = embedding_vector\n",
        "  except:\n",
        "    pass"
      ],
      "execution_count": 0,
      "outputs": []
    },
    {
      "metadata": {
        "id": "3MPP-ie4cI58",
        "colab_type": "code",
        "outputId": "b2723b60-f49a-49dc-d707-f699929bc0ab",
        "colab": {
          "base_uri": "https://localhost:8080/",
          "height": 246
        }
      },
      "cell_type": "code",
      "source": [
        "embedding_matrix[:10]"
      ],
      "execution_count": 0,
      "outputs": [
        {
          "output_type": "execute_result",
          "data": {
            "text/plain": [
              "array([[ 1.15420789e+00,  9.20558061e-01,  1.82435686e+00, ...,\n",
              "        -4.02199558e-01, -1.08431816e+00, -1.54435049e+00],\n",
              "       [ 2.72040009e-01, -6.20299987e-02, -1.88400000e-01, ...,\n",
              "         1.30150005e-01, -1.83170006e-01,  1.32300004e-01],\n",
              "       [-1.85670003e-01,  6.60080016e-02, -2.52090007e-01, ...,\n",
              "        -2.34520007e-02,  1.23020001e-01,  3.31200004e-01],\n",
              "       ...,\n",
              "       [ 1.82070002e-01, -2.15480000e-01, -1.03340000e-01, ...,\n",
              "         9.85630006e-02,  2.98720002e-02, -1.80759996e-01],\n",
              "       [ 8.91870037e-02,  2.57919997e-01,  2.62820005e-01, ...,\n",
              "         1.44209996e-01, -1.69000000e-01,  2.65009999e-01],\n",
              "       [ 1.36290002e-03,  3.56530011e-01, -5.54970019e-02, ...,\n",
              "        -1.12369999e-01,  7.82589987e-02,  2.23979995e-01]])"
            ]
          },
          "metadata": {
            "tags": []
          },
          "execution_count": 43
        }
      ]
    },
    {
      "metadata": {
        "id": "EaOa2e2CcKdH",
        "colab_type": "code",
        "colab": {}
      },
      "cell_type": "code",
      "source": [
        "from keras.models import Sequential\n",
        "from keras.layers import Embedding, Flatten, Dense, LSTM"
      ],
      "execution_count": 0,
      "outputs": []
    },
    {
      "metadata": {
        "id": "CMv4oBkgcQmg",
        "colab_type": "code",
        "colab": {}
      },
      "cell_type": "code",
      "source": [
        "units = 32"
      ],
      "execution_count": 0,
      "outputs": []
    },
    {
      "metadata": {
        "id": "xoBGuvBZcRTU",
        "colab_type": "code",
        "colab": {}
      },
      "cell_type": "code",
      "source": [
        "model = Sequential()"
      ],
      "execution_count": 0,
      "outputs": []
    },
    {
      "metadata": {
        "id": "_V5XAm4WcSgg",
        "colab_type": "code",
        "outputId": "cbc5944b-4e8d-4a01-9888-8d960dd5f43a",
        "colab": {
          "base_uri": "https://localhost:8080/",
          "height": 90
        }
      },
      "cell_type": "code",
      "source": [
        "model.add(Embedding(num_words + 1, embedding_dim))\n",
        "model.add(LSTM(units))\n",
        "model.add(Dense(1, activation='sigmoid'))"
      ],
      "execution_count": 0,
      "outputs": [
        {
          "output_type": "stream",
          "text": [
            "WARNING:tensorflow:From /usr/local/lib/python3.6/dist-packages/tensorflow/python/framework/op_def_library.py:263: colocate_with (from tensorflow.python.framework.ops) is deprecated and will be removed in a future version.\n",
            "Instructions for updating:\n",
            "Colocations handled automatically by placer.\n"
          ],
          "name": "stdout"
        }
      ]
    },
    {
      "metadata": {
        "id": "zunHasWCcT6n",
        "colab_type": "code",
        "outputId": "45ac4979-74f3-4084-f0a0-86e5cc4e69d1",
        "colab": {
          "base_uri": "https://localhost:8080/",
          "height": 246
        }
      },
      "cell_type": "code",
      "source": [
        "model.summary()"
      ],
      "execution_count": 0,
      "outputs": [
        {
          "output_type": "stream",
          "text": [
            "_________________________________________________________________\n",
            "Layer (type)                 Output Shape              Param #   \n",
            "=================================================================\n",
            "embedding_1 (Embedding)      (None, None, 300)         3000300   \n",
            "_________________________________________________________________\n",
            "lstm_1 (LSTM)                (None, 32)                42624     \n",
            "_________________________________________________________________\n",
            "dense_1 (Dense)              (None, 1)                 33        \n",
            "=================================================================\n",
            "Total params: 3,042,957\n",
            "Trainable params: 3,042,957\n",
            "Non-trainable params: 0\n",
            "_________________________________________________________________\n"
          ],
          "name": "stdout"
        }
      ]
    },
    {
      "metadata": {
        "id": "GbU7TtXIciJ9",
        "colab_type": "code",
        "colab": {}
      },
      "cell_type": "code",
      "source": [
        "model.layers[0].set_weights([embedding_matrix])\n",
        "model.layers[0].trainable = False\n",
        "model.compile(optimizer='rmsprop', loss='binary_crossentropy', metrics=['acc'])"
      ],
      "execution_count": 0,
      "outputs": []
    },
    {
      "metadata": {
        "id": "bZcMP-Zkcvne",
        "colab_type": "code",
        "outputId": "7c8eb6d6-bbcc-4d55-924b-887ad2afa875",
        "colab": {
          "base_uri": "https://localhost:8080/",
          "height": 439
        }
      },
      "cell_type": "code",
      "source": [
        "history = model.fit(X_train, y_train, \n",
        "                   epochs=10,\n",
        "                   batch_size=32,\n",
        "                   validation_data = (X_test, y_test))"
      ],
      "execution_count": 50,
      "outputs": [
        {
          "output_type": "stream",
          "text": [
            "WARNING:tensorflow:From /usr/local/lib/python3.6/dist-packages/tensorflow/python/ops/math_ops.py:3066: to_int32 (from tensorflow.python.ops.math_ops) is deprecated and will be removed in a future version.\n",
            "Instructions for updating:\n",
            "Use tf.cast instead.\n",
            "Train on 25000 samples, validate on 25000 samples\n",
            "Epoch 1/10\n",
            "25000/25000 [==============================] - 266s 11ms/step - loss: 0.4528 - acc: 0.7914 - val_loss: 0.3450 - val_acc: 0.8550\n",
            "Epoch 2/10\n",
            "25000/25000 [==============================] - 256s 10ms/step - loss: 0.3329 - acc: 0.8608 - val_loss: 0.2940 - val_acc: 0.8747\n",
            "Epoch 3/10\n",
            "25000/25000 [==============================] - 255s 10ms/step - loss: 0.2802 - acc: 0.8837 - val_loss: 0.2640 - val_acc: 0.8926\n",
            "Epoch 4/10\n",
            "25000/25000 [==============================] - 253s 10ms/step - loss: 0.2486 - acc: 0.9003 - val_loss: 0.2614 - val_acc: 0.8917\n",
            "Epoch 5/10\n",
            "25000/25000 [==============================] - 249s 10ms/step - loss: 0.2226 - acc: 0.9127 - val_loss: 0.3032 - val_acc: 0.8852\n",
            "Epoch 6/10\n",
            "25000/25000 [==============================] - 246s 10ms/step - loss: 0.2005 - acc: 0.9214 - val_loss: 0.2687 - val_acc: 0.9000\n",
            "Epoch 7/10\n",
            "25000/25000 [==============================] - 249s 10ms/step - loss: 0.1801 - acc: 0.9305 - val_loss: 0.2481 - val_acc: 0.8996\n",
            "Epoch 8/10\n",
            "25000/25000 [==============================] - 249s 10ms/step - loss: 0.1634 - acc: 0.9375 - val_loss: 0.2644 - val_acc: 0.9000\n",
            "Epoch 9/10\n",
            "25000/25000 [==============================] - 250s 10ms/step - loss: 0.1456 - acc: 0.9452 - val_loss: 0.2499 - val_acc: 0.8980\n",
            "Epoch 10/10\n",
            "25000/25000 [==============================] - 247s 10ms/step - loss: 0.1307 - acc: 0.9522 - val_loss: 0.2693 - val_acc: 0.8990\n"
          ],
          "name": "stdout"
        }
      ]
    },
    {
      "metadata": {
        "id": "vi_xYFPIcy6P",
        "colab_type": "code",
        "colab": {}
      },
      "cell_type": "code",
      "source": [
        ""
      ],
      "execution_count": 0,
      "outputs": []
    }
  ]
}