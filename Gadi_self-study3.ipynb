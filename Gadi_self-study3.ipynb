{
 "cells": [
  {
   "cell_type": "code",
   "execution_count": 1,
   "metadata": {},
   "outputs": [
    {
     "name": "stdout",
     "output_type": "stream",
     "text": [
      "0\n"
     ]
    }
   ],
   "source": [
    "#Ch. 9\n",
    "#If you run your Python scripts at the command line, you can pipe data through them using sys.stdin and sys.stdout.\n",
    "# egrep.py \n",
    "import sys, re\n",
    "# sys.argv is the list of command-line arguments \n",
    "# sys.argv[0] is the name of the program itself \n",
    "# sys.argv[1] will be the regex specified at the command line \n",
    "regex = sys.argv[1]\n",
    "# for every line passed into the script \n",
    "for line in sys.stdin:    # if it matches the regex, write it to stdout \n",
    "    if re.search(regex, line):        \n",
    "        sys.stdout.write(line)\n",
    "# line_count.py import sys\n",
    "count = 0 \n",
    "for line in sys.stdin:    \n",
    "    count += 1\n",
    "# print goes to sys.stdout \n",
    "print (count)"
   ]
  },
  {
   "cell_type": "code",
   "execution_count": 5,
   "metadata": {},
   "outputs": [
    {
     "name": "stdout",
     "output_type": "stream",
     "text": [
      "0\n"
     ]
    }
   ],
   "source": [
    " "
   ]
  },
  {
   "cell_type": "code",
   "execution_count": 2,
   "metadata": {},
   "outputs": [
    {
     "ename": "SyntaxError",
     "evalue": "invalid syntax (<ipython-input-2-51698c18a39b>, line 1)",
     "output_type": "error",
     "traceback": [
      "\u001b[1;36m  File \u001b[1;32m\"<ipython-input-2-51698c18a39b>\"\u001b[1;36m, line \u001b[1;32m1\u001b[0m\n\u001b[1;33m    type SomeFile.txt\u001b[0m\n\u001b[1;37m                ^\u001b[0m\n\u001b[1;31mSyntaxError\u001b[0m\u001b[1;31m:\u001b[0m invalid syntax\n"
     ]
    }
   ],
   "source": [
    "type SomeFile.txt \n",
    "egrep.py \"[0-9]\" \n",
    "line_count.py  \n"
   ]
  },
  {
   "cell_type": "code",
   "execution_count": 16,
   "metadata": {},
   "outputs": [
    {
     "name": "stdout",
     "output_type": "stream",
     "text": [
      "usage: most_common_words.py num_words\n"
     ]
    },
    {
     "ename": "SystemExit",
     "evalue": "1",
     "output_type": "error",
     "traceback": [
      "An exception has occurred, use %tb to see the full traceback.\n",
      "\u001b[1;31mSystemExit\u001b[0m\u001b[1;31m:\u001b[0m 1\n"
     ]
    },
    {
     "name": "stderr",
     "output_type": "stream",
     "text": [
      "C:\\Users\\USER\\Anaconda3\\lib\\site-packages\\IPython\\core\\interactiveshell.py:2969: UserWarning: To exit: use 'exit', 'quit', or Ctrl-D.\n",
      "  warn(\"To exit: use 'exit', 'quit', or Ctrl-D.\", stacklevel=1)\n"
     ]
    }
   ],
   "source": [
    "# most_common_words.py \n",
    "import sys \n",
    "from collections import Counter\n",
    "# pass in number of words as first argument \n",
    "\n",
    "try:    \n",
    "    num_words = int(sys.argv[1])\n",
    "except:    \n",
    "    print (\"usage: most_common_words.py num_words\")   \n",
    "    sys.exit(1)   # non-zero exit code indicates error\n",
    "counter = Counter(word.lower()                      # lowercase words\n",
    "                  for line in sys.stdin             #\n",
    "                  for word in line.strip().split()  # split on spaces\n",
    "                  if word)                          # skip empty 'words'\n",
    "\n",
    "for word, count in counter.most_common(num_words):    \n",
    "    sys.stdout.write(str(count))    \n",
    "    sys.stdout.write(\"\\t\")\n",
    "    sys.stdout.write(word)    \n",
    "    sys.stdout.write(\"\\n\") \n"
   ]
  },
  {
   "cell_type": "code",
   "execution_count": 3,
   "metadata": {},
   "outputs": [
    {
     "ename": "FileNotFoundError",
     "evalue": "[Errno 2] No such file or directory: 'reading_file.txt'",
     "output_type": "error",
     "traceback": [
      "\u001b[1;31m---------------------------------------------------------------------------\u001b[0m",
      "\u001b[1;31mFileNotFoundError\u001b[0m                         Traceback (most recent call last)",
      "\u001b[1;32m<ipython-input-3-409eb50c06f6>\u001b[0m in \u001b[0;36m<module>\u001b[1;34m()\u001b[0m\n\u001b[0;32m      1\u001b[0m \u001b[1;33m\u001b[0m\u001b[0m\n\u001b[0;32m      2\u001b[0m \u001b[1;31m# 'r' means read-only\u001b[0m\u001b[1;33m\u001b[0m\u001b[1;33m\u001b[0m\u001b[0m\n\u001b[1;32m----> 3\u001b[1;33m \u001b[0mfile_for_reading\u001b[0m \u001b[1;33m=\u001b[0m \u001b[0mopen\u001b[0m\u001b[1;33m(\u001b[0m\u001b[1;34m'reading_file.txt'\u001b[0m\u001b[1;33m,\u001b[0m \u001b[1;34m'r'\u001b[0m\u001b[1;33m)\u001b[0m\u001b[1;33m\u001b[0m\u001b[0m\n\u001b[0m\u001b[0;32m      4\u001b[0m \u001b[1;31m# 'w' is write -- will destroy the file if it already exists!\u001b[0m\u001b[1;33m\u001b[0m\u001b[1;33m\u001b[0m\u001b[0m\n\u001b[0;32m      5\u001b[0m \u001b[0mfile_for_writing\u001b[0m \u001b[1;33m=\u001b[0m \u001b[0mopen\u001b[0m\u001b[1;33m(\u001b[0m\u001b[1;34m'writing_file.txt'\u001b[0m\u001b[1;33m,\u001b[0m \u001b[1;34m'w'\u001b[0m\u001b[1;33m)\u001b[0m\u001b[1;33m\u001b[0m\u001b[0m\n",
      "\u001b[1;31mFileNotFoundError\u001b[0m: [Errno 2] No such file or directory: 'reading_file.txt'"
     ]
    }
   ],
   "source": [
    "\n",
    "# 'r' means read-only \n",
    "file_for_reading = open('reading_file.txt', 'r')\n",
    "# 'w' is write -- will destroy the file if it already exists! \n",
    "file_for_writing = open('writing_file.txt', 'w')\n",
    "# 'a' is append -- for adding to the end of the file \n",
    "file_for_appending = open('appending_file.txt', 'a')\n",
    "# don't forget to close your files when you're done \n",
    "file_for_writing.close()\n",
    "with open(filename,'r') as f:    \n",
    "    data = function_that_gets_data_from(f)\n",
    "# at this point f has already been closed, so don't try to use it \n",
    "process(data) \n",
    "\n"
   ]
  },
  {
   "cell_type": "code",
   "execution_count": 8,
   "metadata": {},
   "outputs": [
    {
     "name": "stdout",
     "output_type": "stream",
     "text": [
      "39\n",
      "41\n",
      "write this text to the newtext.txt file\n",
      " add this text to m the newtext.txt file\n"
     ]
    }
   ],
   "source": [
    "#To write the file by printing the content\n",
    "file_for_writing = open('newtext.txt', 'w')\n",
    "print(file_for_writing.write('write this text to the newtext.txt file'))\n",
    "file_for_writing.close()\n",
    "\n",
    "#To add new text to an exist file \n",
    "file_for_writing = open('newtext.txt', 'a')\n",
    "print(file_for_writing.write('\\n add this text to m the newtext.txt file'))\n",
    "file_for_writing.close()\n",
    "\n",
    "# To read the file by printing the content\n",
    "file_for_reading = open('newtext.txt', 'r')\n",
    "print(file_for_reading.read())\n",
    "file_for_reading.close()\n",
    "\n",
    "\n"
   ]
  },
  {
   "cell_type": "code",
   "execution_count": 16,
   "metadata": {
    "scrolled": true
   },
   "outputs": [
    {
     "ename": "SyntaxError",
     "evalue": "(unicode error) 'unicodeescape' codec can't decode bytes in position 2-3: truncated \\UXXXXXXXX escape (<ipython-input-16-0d8b38a8930c>, line 9)",
     "output_type": "error",
     "traceback": [
      "\u001b[1;36m  File \u001b[1;32m\"<ipython-input-16-0d8b38a8930c>\"\u001b[1;36m, line \u001b[1;32m9\u001b[0m\n\u001b[1;33m    os.chdir('C:\\Users\\USER\\Desktop\\UNT\\SPRING19\\INFO 5731')\u001b[0m\n\u001b[1;37m            ^\u001b[0m\n\u001b[1;31mSyntaxError\u001b[0m\u001b[1;31m:\u001b[0m (unicode error) 'unicodeescape' codec can't decode bytes in position 2-3: truncated \\UXXXXXXXX escape\n"
     ]
    }
   ],
   "source": [
    "# this code does not work\n",
    "# error \"(unicode error) 'unicodeescape' codec can't decode bytes in position 2-3: truncated \\UXXXXXXXX escape\"\n",
    "\n",
    "\n",
    "def get_domains(emails):\n",
    "    \"\"\"split on @ and return the last piece\"\"\"\n",
    "    return emails.lower().split('@')[-1]\n",
    "\n",
    "\n",
    "import sys \n",
    "from collections import Counter\n",
    "import os\n",
    "os.chdir(\"C:\\Users\\USER\\Desktop\\UNT\\SPRING19\\INFO 5731\")\n",
    "\n",
    "with open('domain.txt', 'r') as f:\n",
    "    domain_counts = Counter(get_domain(line.strip())\n",
    "                           for line in f\n",
    "                           if '@' in line)\n",
    "print(emails.read())\n",
    "e.close()"
   ]
  },
  {
   "cell_type": "code",
   "execution_count": 23,
   "metadata": {},
   "outputs": [
    {
     "ename": "Error",
     "evalue": "iterator should return strings, not bytes (did you open the file in text mode?)",
     "output_type": "error",
     "traceback": [
      "\u001b[1;31m---------------------------------------------------------------------------\u001b[0m",
      "\u001b[1;31mError\u001b[0m                                     Traceback (most recent call last)",
      "\u001b[1;32m<ipython-input-23-8570cc4aaec1>\u001b[0m in \u001b[0;36m<module>\u001b[1;34m()\u001b[0m\n\u001b[0;32m      5\u001b[0m \u001b[1;32mwith\u001b[0m \u001b[0mopen\u001b[0m\u001b[1;33m(\u001b[0m\u001b[1;34m'words.txt'\u001b[0m\u001b[1;33m,\u001b[0m \u001b[1;34m'rb'\u001b[0m\u001b[1;33m)\u001b[0m \u001b[1;32mas\u001b[0m \u001b[0mf\u001b[0m\u001b[1;33m:\u001b[0m\u001b[1;33m\u001b[0m\u001b[0m\n\u001b[0;32m      6\u001b[0m     \u001b[0mreader\u001b[0m \u001b[1;33m=\u001b[0m \u001b[0mcsv\u001b[0m\u001b[1;33m.\u001b[0m\u001b[0mreader\u001b[0m\u001b[1;33m(\u001b[0m\u001b[0mf\u001b[0m\u001b[1;33m,\u001b[0m \u001b[0mdelimiter\u001b[0m\u001b[1;33m=\u001b[0m \u001b[1;34m\",\"\u001b[0m\u001b[1;33m)\u001b[0m\u001b[1;33m\u001b[0m\u001b[0m\n\u001b[1;32m----> 7\u001b[1;33m     \u001b[1;32mfor\u001b[0m \u001b[0mrow\u001b[0m \u001b[1;32min\u001b[0m \u001b[0mreader\u001b[0m\u001b[1;33m:\u001b[0m\u001b[1;33m\u001b[0m\u001b[0m\n\u001b[0m\u001b[0;32m      8\u001b[0m         \u001b[0mdate\u001b[0m \u001b[1;33m=\u001b[0m \u001b[0mrow\u001b[0m\u001b[1;33m[\u001b[0m\u001b[1;36m0\u001b[0m\u001b[1;33m]\u001b[0m\u001b[1;33m\u001b[0m\u001b[0m\n\u001b[0;32m      9\u001b[0m         \u001b[0msymbol\u001b[0m \u001b[1;33m=\u001b[0m \u001b[0mrow\u001b[0m\u001b[1;33m[\u001b[0m\u001b[1;36m1\u001b[0m\u001b[1;33m]\u001b[0m\u001b[1;33m\u001b[0m\u001b[0m\n",
      "\u001b[1;31mError\u001b[0m: iterator should return strings, not bytes (did you open the file in text mode?)"
     ]
    }
   ],
   "source": [
    "# Delimited Files\n",
    "# not working \n",
    "#  Error: iterator should return strings, not bytes (did you open the file in text mode?)\n",
    "\n",
    "import csv  \n",
    "\n",
    "with open('words.txt', 'rb') as f: \n",
    "    reader = csv.reader(f, delimiter= \",\") \n",
    "    for row in reader: \n",
    "        date = row[0] \n",
    "        symbol = row[1] \n",
    "        closing_price = float(row[2]) \n",
    "        process(date, symbol, closing_price)\n",
    "        \n",
    "with open('words.txt', 'r') as f:\n",
    "    reader = csv.reader(f) \n",
    "    for row in reader:\n",
    "        print(row)  "
   ]
  },
  {
   "cell_type": "code",
   "execution_count": 24,
   "metadata": {},
   "outputs": [
    {
     "name": "stdout",
     "output_type": "stream",
     "text": [
      "Requirement already satisfied: beautifulsoup4 in c:\\users\\user\\anaconda3\\lib\\site-packages (4.6.3)\n"
     ]
    },
    {
     "name": "stderr",
     "output_type": "stream",
     "text": [
      "twisted 18.7.0 requires PyHamcrest>=1.9.0, which is not installed.\n",
      "You are using pip version 10.0.1, however version 19.0.1 is available.\n",
      "You should consider upgrading via the 'python -m pip install --upgrade pip' command.\n"
     ]
    }
   ],
   "source": []
  },
  {
   "cell_type": "code",
   "execution_count": 28,
   "metadata": {},
   "outputs": [
    {
     "name": "stdout",
     "output_type": "stream",
     "text": [
      "© 2019 - Privacy - Terms\n",
      "['©', '2019', '-', 'Privacy', '-', 'Terms']\n"
     ]
    }
   ],
   "source": [
    "#scraping the web\n",
    "# add it if not in the library !pip install beautifulsoup4\n",
    "from bs4 import BeautifulSoup \n",
    "\n",
    "import requests\n",
    "\n",
    "html = requests.get(\"http://www.google.com\").text \n",
    "soup = BeautifulSoup(html, 'html5lib')\n",
    "\n",
    "first_paragraph_text = soup.p.text \n",
    "first_paragraph_words = soup.p.text.split()\n",
    "\n",
    "print(first_paragraph_text)\n",
    "print(first_paragraph_words)\n",
    "\n",
    "\n"
   ]
  },
  {
   "cell_type": "code",
   "execution_count": 40,
   "metadata": {},
   "outputs": [
    {
     "name": "stdout",
     "output_type": "stream",
     "text": [
      "11333\n"
     ]
    }
   ],
   "source": [
    "tds = requests.get(\"http://www.google.com\").text\n",
    "print (len (tds))"
   ]
  },
  {
   "cell_type": "code",
   "execution_count": null,
   "metadata": {},
   "outputs": [],
   "source": []
  },
  {
   "cell_type": "code",
   "execution_count": null,
   "metadata": {},
   "outputs": [],
   "source": []
  },
  {
   "cell_type": "code",
   "execution_count": 43,
   "metadata": {},
   "outputs": [
    {
     "ename": "TypeError",
     "evalue": "'str' object is not callable",
     "output_type": "error",
     "traceback": [
      "\u001b[1;31m---------------------------------------------------------------------------\u001b[0m",
      "\u001b[1;31mTypeError\u001b[0m                                 Traceback (most recent call last)",
      "\u001b[1;32m<ipython-input-43-1a41be585e4d>\u001b[0m in \u001b[0;36m<module>\u001b[1;34m()\u001b[0m\n\u001b[0;32m     10\u001b[0m \u001b[1;33m\u001b[0m\u001b[0m\n\u001b[0;32m     11\u001b[0m \u001b[1;33m\u001b[0m\u001b[0m\n\u001b[1;32m---> 12\u001b[1;33m \u001b[0mprint\u001b[0m \u001b[1;33m(\u001b[0m\u001b[0mlen\u001b[0m \u001b[1;33m(\u001b[0m\u001b[1;33m[\u001b[0m\u001b[0mtd\u001b[0m \u001b[1;32mfor\u001b[0m \u001b[0mtd\u001b[0m \u001b[1;32min\u001b[0m \u001b[0mtds\u001b[0m \u001b[1;32mif\u001b[0m \u001b[1;32mnot\u001b[0m \u001b[0mis_video\u001b[0m\u001b[1;33m(\u001b[0m\u001b[0mtd\u001b[0m\u001b[1;33m)\u001b[0m\u001b[1;33m]\u001b[0m\u001b[1;33m)\u001b[0m\u001b[1;33m)\u001b[0m\u001b[1;33m\u001b[0m\u001b[0m\n\u001b[0m",
      "\u001b[1;32m<ipython-input-43-1a41be585e4d>\u001b[0m in \u001b[0;36m<listcomp>\u001b[1;34m(.0)\u001b[0m\n\u001b[0;32m     10\u001b[0m \u001b[1;33m\u001b[0m\u001b[0m\n\u001b[0;32m     11\u001b[0m \u001b[1;33m\u001b[0m\u001b[0m\n\u001b[1;32m---> 12\u001b[1;33m \u001b[0mprint\u001b[0m \u001b[1;33m(\u001b[0m\u001b[0mlen\u001b[0m \u001b[1;33m(\u001b[0m\u001b[1;33m[\u001b[0m\u001b[0mtd\u001b[0m \u001b[1;32mfor\u001b[0m \u001b[0mtd\u001b[0m \u001b[1;32min\u001b[0m \u001b[0mtds\u001b[0m \u001b[1;32mif\u001b[0m \u001b[1;32mnot\u001b[0m \u001b[0mis_video\u001b[0m\u001b[1;33m(\u001b[0m\u001b[0mtd\u001b[0m\u001b[1;33m)\u001b[0m\u001b[1;33m]\u001b[0m\u001b[1;33m)\u001b[0m\u001b[1;33m)\u001b[0m\u001b[1;33m\u001b[0m\u001b[0m\n\u001b[0m",
      "\u001b[1;32m<ipython-input-43-1a41be585e4d>\u001b[0m in \u001b[0;36mis_video\u001b[1;34m(td)\u001b[0m\n\u001b[0;32m      4\u001b[0m \u001b[1;32mdef\u001b[0m \u001b[0mis_video\u001b[0m\u001b[1;33m(\u001b[0m\u001b[0mtd\u001b[0m\u001b[1;33m)\u001b[0m\u001b[1;33m:\u001b[0m\u001b[1;33m\u001b[0m\u001b[0m\n\u001b[0;32m      5\u001b[0m     \u001b[1;34m\"\"\"it's a video if it has exactly one pricelabel, and if the stripped text inside that pricelabel starts with 'Video'\"\"\"\u001b[0m\u001b[1;33m\u001b[0m\u001b[0m\n\u001b[1;32m----> 6\u001b[1;33m     \u001b[0mpricelabels\u001b[0m \u001b[1;33m=\u001b[0m \u001b[0mtd\u001b[0m\u001b[1;33m(\u001b[0m\u001b[1;34m'span'\u001b[0m\u001b[1;33m,\u001b[0m \u001b[1;34m'pricelabel'\u001b[0m\u001b[1;33m)\u001b[0m\u001b[1;33m\u001b[0m\u001b[0m\n\u001b[0m\u001b[0;32m      7\u001b[0m     \u001b[1;32mreturn\u001b[0m \u001b[1;33m(\u001b[0m\u001b[0mlen\u001b[0m\u001b[1;33m(\u001b[0m\u001b[0mpricelabels\u001b[0m\u001b[1;33m)\u001b[0m \u001b[1;33m==\u001b[0m \u001b[1;36m1\u001b[0m \u001b[1;32mand\u001b[0m \u001b[0mpricelabels\u001b[0m\u001b[1;33m[\u001b[0m\u001b[1;36m0\u001b[0m\u001b[1;33m]\u001b[0m\u001b[1;33m.\u001b[0m\u001b[0mtext\u001b[0m\u001b[1;33m.\u001b[0m\u001b[0mstrip\u001b[0m\u001b[1;33m(\u001b[0m\u001b[1;33m)\u001b[0m\u001b[1;33m.\u001b[0m\u001b[0mstartswith\u001b[0m\u001b[1;33m(\u001b[0m\u001b[1;34m\"Video\"\u001b[0m\u001b[1;33m)\u001b[0m\u001b[1;33m)\u001b[0m\u001b[1;33m\u001b[0m\u001b[0m\n\u001b[0;32m      8\u001b[0m \u001b[1;33m\u001b[0m\u001b[0m\n",
      "\u001b[1;31mTypeError\u001b[0m: 'str' object is not callable"
     ]
    }
   ],
   "source": [
    "# finding video\n",
    "# is not working \n",
    "\n",
    "def is_video(td): \n",
    "    \"\"\"it's a video if it has exactly one pricelabel, and if the stripped text inside that pricelabel starts with 'Video'\"\"\"\n",
    "    pricelabels = td('span', 'pricelabel')\n",
    "    return (len(pricelabels) == 1 and pricelabels[0].text.strip().startswith(\"Video\")) \n",
    "\n",
    "tds = requests.get(\"http://www.youtube.com\").text\n",
    "\n",
    "\n",
    "print (len ([td for td in tds if not is_video(td)]))"
   ]
  },
  {
   "cell_type": "code",
   "execution_count": 46,
   "metadata": {},
   "outputs": [
    {
     "name": "stdout",
     "output_type": "stream",
     "text": [
      "{'title': 'Data Science Book', 'author': 'Joel Grus', 'publicationYear': 2014, 'topics': ['data', 'science', 'data science']}\n"
     ]
    }
   ],
   "source": [
    "#Using APIs \n",
    "#JSON (and XML)\n",
    "import json\n",
    "serialized = \"\"\"{ \"title\" : \"Data Science Book\", \n",
    "                  \"author\" : \"Joel Grus\", \n",
    "                  \"publicationYear\" : 2014, \n",
    "                  \"topics\" : [ \"data\", \"science\", \"data science\"] }\"\"\"\n",
    "\n",
    "deserialized = json.loads(serialized) \n",
    "if \"data science\" in deserialized[\"topics\"]: \n",
    "    print(deserialized)"
   ]
  },
  {
   "cell_type": "code",
   "execution_count": 45,
   "metadata": {},
   "outputs": [],
   "source": [
    "#Getting Credentials\n",
    "#Using an Unauthenticated API\n",
    "import requests , json \n",
    "endpoint = \"https://api.github.com/users/joelgrus/repos\" \n",
    "repos = json.loads(requests.get(endpoint).text)\n"
   ]
  },
  {
   "cell_type": "code",
   "execution_count": null,
   "metadata": {},
   "outputs": [],
   "source": []
  },
  {
   "cell_type": "code",
   "execution_count": 78,
   "metadata": {},
   "outputs": [
    {
     "name": "stdout",
     "output_type": "stream",
     "text": [
      "['user_id', 'name', 'num_friends'] \n",
      " {'user_id': 0, 'name': 'Hero', 'num_friends': 0} \n",
      " {'user_id': 1, 'name': 'Dunn', 'num_friends': 2} \n",
      " {'user_id': 2, 'name': 'Sue', 'num_friends': 3} \n",
      " {'user_id': 3, 'name': 'Chi', 'num_friends': 3} \n",
      " {'user_id': 4, 'name': 'Thor', 'num_friends': 3} \n",
      " {'user_id': 5, 'name': 'Clive', 'num_friends': 2} \n",
      " {'user_id': 6, 'name': 'Hicks', 'num_friends': 3} \n",
      " {'user_id': 7, 'name': 'Devin', 'num_friends': 2} \n",
      " {'user_id': 8, 'name': 'Kate', 'num_friends': 2} \n",
      " {'user_id': 9, 'name': 'Klein', 'num_friends': 3} \n",
      " {'user_id': 10, 'name': 'Jen', 'num_friends': 1}\n"
     ]
    }
   ],
   "source": [
    "#Chapter 23\n",
    "#Table class\n",
    "# this code is not working\n",
    "\n",
    "class Table : \n",
    "    def __init__(self, columns): \n",
    "        self.columns = columns \n",
    "        self.rows = []\n",
    "        \n",
    "    def __repr__(self):  \n",
    "        \"\"\"pretty representation of the table: columns then rows\"\"\" \n",
    "        return str(self.columns) + \" \\n \" + \" \\n \".join(map(str, self.rows))\n",
    "\n",
    "    def insert(self, row_values): \n",
    "        if len(row_values) != len(self.columns): \n",
    "            raise TypeError (\"wrong number of elements\") \n",
    "        row_dict = dict(zip(self.columns, row_values)) \n",
    "        self.rows.append(row_dict)\n",
    "        \n",
    "    def update(self, updates, predicate): \n",
    "        for row in self.rows: \n",
    "            if predicate(row): \n",
    "                for column, new_value in updates.iteritems(): \n",
    "                    row[column] = new_value\n",
    "\n",
    "    def delete(self, predicate= lambda row: True):\n",
    "        \"\"\"delete all rows matching predicate \n",
    "        or all rows if no predicate supplied\"\"\"\n",
    "        self.rows = [row for row in self.rows if not (predicate(row))]\n",
    "        \n",
    "                \n",
    "    def select(self, keep_columns=None, additional_columns=None): \n",
    "        if keep_columns is None: \n",
    "            keep_columns = self.columns\n",
    "        if additional_columns is None: \n",
    "            additional_columns = {}\n",
    "        #new table for results    \n",
    "        result_table = Table(keep_columns + additional_columns.keys())\n",
    "\n",
    "        for row in self.rows: \n",
    "            new_row = [row[column] for column in keep_columns] \n",
    "            for column_name, calculation in additional_columns.iteritems(): \n",
    "                new_row.append(calculation(row)) \n",
    "            result_table.insert(new_row) \n",
    "        return result_table\n",
    "\n",
    "    def where(self, predicate= lambda row: True): \n",
    "        \"\"\"return only the rows that satisfy the supplied predicate\"\"\" \n",
    "        where_table = Table(self.columns) \n",
    "        where_table.rows = filter(predicate, self.rows) \n",
    "        return where_table\n",
    "\n",
    "    def limit(self, num_rows): \n",
    "        \"\"\"return only the first num_rows rows\"\"\" \n",
    "        limit_table = Table(self.columns) \n",
    "        limit_table.rows = self.rows[:num_rows] \n",
    "        return limit_table\n",
    "\n",
    "    def name_length(row): return len(row[\"name\"])\n",
    "    \n",
    "    \n",
    "    def group_by(self, group_by_columns, aggregates, having=None): \n",
    "        grouped_rows = defaultdict(list) # populate groups \n",
    "        for row in self.rows: \n",
    "            key = tuple(row[column] for column in group_by_columns) \n",
    "            grouped_rows[key].append(row) \n",
    "            \n",
    "            result_table = Table(group_by_columns + aggregates.keys()) \n",
    "\n",
    "            for key, rows in grouped_rows.iteritems(): \n",
    "                if having is None or having(rows): \n",
    "                    new_row = list(key) \n",
    "                    for aggregate_name, aggregate_fn in aggregates.iteritems(): \n",
    "                        new_row.append(aggregate_fn(rows)) \n",
    "                        result_table.insert(new_row)\n",
    "        return result_table \n",
    "    \n",
    "    def min_user_id(rows): return min(row[\"user_id\"] for row in rows)\n",
    "    \n",
    "\n",
    "    def first_letter_of_name(row): \n",
    "        return row[\"name\"][0] if row[\"name\"] else \"\"\n",
    "\n",
    "    def average_num_friends(rows): \n",
    "        return sum(row[\"num_friends\"] for row in rows) / len(rows)\n",
    "\n",
    "    def enough_friends(rows): \n",
    "        return average_num_friends(rows) > 1\n",
    "    \n",
    "    def sum_user_ids(rows): return sum(row[\"user_id\"] for row in rows)\n",
    "    \n",
    "    def order_by(self, order): \n",
    "        new_table = self.select() \n",
    "        new_table.rows.sort(key=order) \n",
    "        return new_table\n",
    "    \n",
    "    def join(self, other_table, left_join=False): \n",
    "        join_on_columns = [c for c in self.columns \n",
    "                           if c in other_table.columns]\n",
    "\n",
    "        additional_columns = [c for c in other_table.columns  \n",
    "                              if c not in join_on_columns]\n",
    "\n",
    "        join_table = Table(self.columns + additional_columns) \n",
    "        for row in self.rows: \n",
    "            def is_join(other_row): \n",
    "                return all(other_row[c] == row[c] for c in join_on_columns) \n",
    "            other_rows = other_table.where(is_join).rows\n",
    "\n",
    "            for other_row in other_rows: \n",
    "                join_table.insert([row[c] for c in self.columns] + \n",
    "                                  [other_row[c] for c in additional_columns])\n",
    "\n",
    "            if left_join and not other_rows: \n",
    "                join_table.insert([row[c] for c in self.columns] +\n",
    "\n",
    "                                  [None for c in additional_columns])\n",
    "        return join_table\n",
    "           \n",
    "users = Table ([\"user_id\", \"name\", \"num_friends\"]) \n",
    "users.insert([0, \"Hero\", 0]) \n",
    "users.insert([1, \"Dunn\", 2]) \n",
    "users.insert([2, \"Sue\", 3]) \n",
    "users.insert([3, \"Chi\", 3]) \n",
    "users.insert([4, \"Thor\", 3]) \n",
    "users.insert([5, \"Clive\", 2]) \n",
    "users.insert([6, \"Hicks\", 3]) \n",
    "users.insert([7, \"Devin\", 2]) \n",
    "users.insert([8, \"Kate\", 2]) \n",
    "users.insert([9, \"Klein\", 3]) \n",
    "users.insert([10, \"Jen\", 1])\n",
    "print(users)\n",
    "\n",
    "\n",
    "\n",
    "\n",
    "\n",
    "\n",
    "\n"
   ]
  },
  {
   "cell_type": "code",
   "execution_count": 76,
   "metadata": {},
   "outputs": [
    {
     "ename": "AttributeError",
     "evalue": "'dict' object has no attribute 'iteritems'",
     "output_type": "error",
     "traceback": [
      "\u001b[1;31m---------------------------------------------------------------------------\u001b[0m",
      "\u001b[1;31mAttributeError\u001b[0m                            Traceback (most recent call last)",
      "\u001b[1;32m<ipython-input-76-3aae28b9ce10>\u001b[0m in \u001b[0;36m<module>\u001b[1;34m()\u001b[0m\n\u001b[0;32m      1\u001b[0m \u001b[1;31m# update Table\u001b[0m\u001b[1;33m\u001b[0m\u001b[1;33m\u001b[0m\u001b[0m\n\u001b[1;32m----> 2\u001b[1;33m \u001b[0musers\u001b[0m\u001b[1;33m.\u001b[0m\u001b[0mupdate\u001b[0m\u001b[1;33m(\u001b[0m\u001b[1;33m{\u001b[0m\u001b[1;34m'num_friends'\u001b[0m \u001b[1;33m:\u001b[0m \u001b[1;36m3\u001b[0m\u001b[1;33m}\u001b[0m\u001b[1;33m,\u001b[0m \u001b[1;32mlambda\u001b[0m \u001b[0mrow\u001b[0m\u001b[1;33m:\u001b[0m \u001b[0mrow\u001b[0m\u001b[1;33m[\u001b[0m\u001b[1;34m'user_id'\u001b[0m\u001b[1;33m]\u001b[0m \u001b[1;33m==\u001b[0m \u001b[1;36m1\u001b[0m\u001b[1;33m)\u001b[0m\u001b[1;33m\u001b[0m\u001b[0m\n\u001b[0m",
      "\u001b[1;32m<ipython-input-74-6bcace71a536>\u001b[0m in \u001b[0;36mupdate\u001b[1;34m(self, updates, predicate)\u001b[0m\n\u001b[0;32m     21\u001b[0m         \u001b[1;32mfor\u001b[0m \u001b[0mrow\u001b[0m \u001b[1;32min\u001b[0m \u001b[0mself\u001b[0m\u001b[1;33m.\u001b[0m\u001b[0mrows\u001b[0m\u001b[1;33m:\u001b[0m\u001b[1;33m\u001b[0m\u001b[0m\n\u001b[0;32m     22\u001b[0m             \u001b[1;32mif\u001b[0m \u001b[0mpredicate\u001b[0m\u001b[1;33m(\u001b[0m\u001b[0mrow\u001b[0m\u001b[1;33m)\u001b[0m\u001b[1;33m:\u001b[0m\u001b[1;33m\u001b[0m\u001b[0m\n\u001b[1;32m---> 23\u001b[1;33m                 \u001b[1;32mfor\u001b[0m \u001b[0mcolumn\u001b[0m\u001b[1;33m,\u001b[0m \u001b[0mnew_value\u001b[0m \u001b[1;32min\u001b[0m \u001b[0mupdates\u001b[0m\u001b[1;33m.\u001b[0m\u001b[0miteritems\u001b[0m\u001b[1;33m(\u001b[0m\u001b[1;33m)\u001b[0m\u001b[1;33m:\u001b[0m\u001b[1;33m\u001b[0m\u001b[0m\n\u001b[0m\u001b[0;32m     24\u001b[0m                     \u001b[0mrow\u001b[0m\u001b[1;33m[\u001b[0m\u001b[0mcolumn\u001b[0m\u001b[1;33m]\u001b[0m \u001b[1;33m=\u001b[0m \u001b[0mnew_value\u001b[0m\u001b[1;33m\u001b[0m\u001b[0m\n\u001b[0;32m     25\u001b[0m \u001b[1;33m\u001b[0m\u001b[0m\n",
      "\u001b[1;31mAttributeError\u001b[0m: 'dict' object has no attribute 'iteritems'"
     ]
    }
   ],
   "source": [
    "# update Table\n",
    "users.update({'num_friends' : 3}, lambda row: row['user_id'] == 1)"
   ]
  },
  {
   "cell_type": "code",
   "execution_count": 81,
   "metadata": {},
   "outputs": [],
   "source": [
    "#delete\n",
    "users.delete( lambda row: row[\"user_id\"] == 1) \n",
    "users.delete()\n"
   ]
  },
  {
   "cell_type": "code",
   "execution_count": 82,
   "metadata": {},
   "outputs": [
    {
     "ename": "TypeError",
     "evalue": "can only concatenate list (not \"dict_keys\") to list",
     "output_type": "error",
     "traceback": [
      "\u001b[1;31m---------------------------------------------------------------------------\u001b[0m",
      "\u001b[1;31mTypeError\u001b[0m                                 Traceback (most recent call last)",
      "\u001b[1;32m<ipython-input-82-6bae47ccf27c>\u001b[0m in \u001b[0;36m<module>\u001b[1;34m()\u001b[0m\n\u001b[0;32m      1\u001b[0m \u001b[1;31m#select\u001b[0m\u001b[1;33m\u001b[0m\u001b[1;33m\u001b[0m\u001b[0m\n\u001b[1;32m----> 2\u001b[1;33m \u001b[0musers\u001b[0m\u001b[1;33m.\u001b[0m\u001b[0mselect\u001b[0m\u001b[1;33m(\u001b[0m\u001b[1;33m)\u001b[0m\u001b[1;33m\u001b[0m\u001b[0m\n\u001b[0m\u001b[0;32m      3\u001b[0m \u001b[0musers\u001b[0m\u001b[1;33m.\u001b[0m\u001b[0mlimit\u001b[0m\u001b[1;33m(\u001b[0m\u001b[1;36m2\u001b[0m\u001b[1;33m)\u001b[0m\u001b[1;33m\u001b[0m\u001b[0m\n\u001b[0;32m      4\u001b[0m \u001b[0musers\u001b[0m\u001b[1;33m.\u001b[0m\u001b[0mselect\u001b[0m\u001b[1;33m(\u001b[0m\u001b[0mkeep_columns\u001b[0m\u001b[1;33m=\u001b[0m\u001b[1;33m[\u001b[0m\u001b[1;34m\"user_id\"\u001b[0m\u001b[1;33m]\u001b[0m\u001b[1;33m)\u001b[0m\u001b[1;33m\u001b[0m\u001b[0m\n\u001b[0;32m      5\u001b[0m \u001b[1;33m\u001b[0m\u001b[0m\n",
      "\u001b[1;32m<ipython-input-78-6bcace71a536>\u001b[0m in \u001b[0;36mselect\u001b[1;34m(self, keep_columns, additional_columns)\u001b[0m\n\u001b[0;32m     36\u001b[0m             \u001b[0madditional_columns\u001b[0m \u001b[1;33m=\u001b[0m \u001b[1;33m{\u001b[0m\u001b[1;33m}\u001b[0m\u001b[1;33m\u001b[0m\u001b[0m\n\u001b[0;32m     37\u001b[0m         \u001b[1;31m#new table for results\u001b[0m\u001b[1;33m\u001b[0m\u001b[1;33m\u001b[0m\u001b[0m\n\u001b[1;32m---> 38\u001b[1;33m         \u001b[0mresult_table\u001b[0m \u001b[1;33m=\u001b[0m \u001b[0mTable\u001b[0m\u001b[1;33m(\u001b[0m\u001b[0mkeep_columns\u001b[0m \u001b[1;33m+\u001b[0m \u001b[0madditional_columns\u001b[0m\u001b[1;33m.\u001b[0m\u001b[0mkeys\u001b[0m\u001b[1;33m(\u001b[0m\u001b[1;33m)\u001b[0m\u001b[1;33m)\u001b[0m\u001b[1;33m\u001b[0m\u001b[0m\n\u001b[0m\u001b[0;32m     39\u001b[0m \u001b[1;33m\u001b[0m\u001b[0m\n\u001b[0;32m     40\u001b[0m         \u001b[1;32mfor\u001b[0m \u001b[0mrow\u001b[0m \u001b[1;32min\u001b[0m \u001b[0mself\u001b[0m\u001b[1;33m.\u001b[0m\u001b[0mrows\u001b[0m\u001b[1;33m:\u001b[0m\u001b[1;33m\u001b[0m\u001b[0m\n",
      "\u001b[1;31mTypeError\u001b[0m: can only concatenate list (not \"dict_keys\") to list"
     ]
    }
   ],
   "source": [
    "#select\n",
    "users.select()\n",
    "users.limit(2)\n",
    "users.select(keep_columns=[\"user_id\"])\n",
    "\n",
    "users.where( lambda row: row[\"name\"] == \"Dunn\").select(keep_columns=[\"user_id\"])\n",
    "users.select(keep_columns=[],additional_columns = { \"name_length\" : name_length })"
   ]
  },
  {
   "cell_type": "code",
   "execution_count": null,
   "metadata": {},
   "outputs": [],
   "source": [
    "stats_by_length = users \\ \n",
    "        .select(additional_columns={\"name_length\" : name_length}) \\ \n",
    "        .group_by(group_by_columns=[\"name_length\"],\n",
    "                  aggregates={ \"min_user_id\" : min_user_id, \n",
    "                               \"num_users\" : len })"
   ]
  },
  {
   "cell_type": "code",
   "execution_count": 60,
   "metadata": {},
   "outputs": [
    {
     "ename": "AttributeError",
     "evalue": "'dict' object has no attribute 'iteritems'",
     "output_type": "error",
     "traceback": [
      "\u001b[1;31m---------------------------------------------------------------------------\u001b[0m",
      "\u001b[1;31mAttributeError\u001b[0m                            Traceback (most recent call last)",
      "\u001b[1;32m<ipython-input-60-8d83533cee63>\u001b[0m in \u001b[0;36m<module>\u001b[1;34m()\u001b[0m\n\u001b[0;32m      1\u001b[0m \u001b[1;31m# update Table\u001b[0m\u001b[1;33m\u001b[0m\u001b[1;33m\u001b[0m\u001b[0m\n\u001b[0;32m      2\u001b[0m users.update({'num_friends' : 3}, \n\u001b[1;32m----> 3\u001b[1;33m              lambda row: row['user_id'] == 1)\n\u001b[0m",
      "\u001b[1;32m<ipython-input-59-50290a3d049a>\u001b[0m in \u001b[0;36mupdate\u001b[1;34m(self, updates, predicate)\u001b[0m\n\u001b[0;32m     20\u001b[0m         \u001b[1;32mfor\u001b[0m \u001b[0mrow\u001b[0m \u001b[1;32min\u001b[0m \u001b[0mself\u001b[0m\u001b[1;33m.\u001b[0m\u001b[0mrows\u001b[0m\u001b[1;33m:\u001b[0m\u001b[1;33m\u001b[0m\u001b[0m\n\u001b[0;32m     21\u001b[0m             \u001b[1;32mif\u001b[0m \u001b[0mpredicate\u001b[0m\u001b[1;33m(\u001b[0m\u001b[0mrow\u001b[0m\u001b[1;33m)\u001b[0m\u001b[1;33m:\u001b[0m\u001b[1;33m\u001b[0m\u001b[0m\n\u001b[1;32m---> 22\u001b[1;33m                 \u001b[1;32mfor\u001b[0m \u001b[0mcolumn\u001b[0m\u001b[1;33m,\u001b[0m \u001b[0mnew_value\u001b[0m \u001b[1;32min\u001b[0m \u001b[0mupdates\u001b[0m\u001b[1;33m.\u001b[0m\u001b[0miteritems\u001b[0m\u001b[1;33m(\u001b[0m\u001b[1;33m)\u001b[0m\u001b[1;33m:\u001b[0m\u001b[1;33m\u001b[0m\u001b[0m\n\u001b[0m\u001b[0;32m     23\u001b[0m                     \u001b[0mrow\u001b[0m\u001b[1;33m[\u001b[0m\u001b[0mcolumn\u001b[0m\u001b[1;33m]\u001b[0m \u001b[1;33m=\u001b[0m \u001b[0mnew_value\u001b[0m\u001b[1;33m\u001b[0m\u001b[0m\n\u001b[0;32m     24\u001b[0m \u001b[1;33m\u001b[0m\u001b[0m\n",
      "\u001b[1;31mAttributeError\u001b[0m: 'dict' object has no attribute 'iteritems'"
     ]
    }
   ],
   "source": [
    "avg_friends_by_letter = users \\ \n",
    "    .select(additional_columns={'first_letter' : first_letter_of_name}) \\ \n",
    "    .group_by(group_by_columns=['first_letter'], \n",
    "              aggregates={ \"avg_num_friends\" : average_num_friends }, \n",
    "              having=enough_friends)"
   ]
  },
  {
   "cell_type": "code",
   "execution_count": 66,
   "metadata": {},
   "outputs": [
    {
     "ename": "SyntaxError",
     "evalue": "unexpected character after line continuation character (<ipython-input-66-81b5e5cc311f>, line 1)",
     "output_type": "error",
     "traceback": [
      "\u001b[1;36m  File \u001b[1;32m\"<ipython-input-66-81b5e5cc311f>\"\u001b[1;36m, line \u001b[1;32m1\u001b[0m\n\u001b[1;33m    user_id_sum = users \\\u001b[0m\n\u001b[1;37m                          ^\u001b[0m\n\u001b[1;31mSyntaxError\u001b[0m\u001b[1;31m:\u001b[0m unexpected character after line continuation character\n"
     ]
    }
   ],
   "source": [
    "user_id_sum = users \\ \n",
    "    .where( lambda row: row[\"user_id\"] > 1) \\ \n",
    "    .group_by(group_by_columns=[], \n",
    "              aggregates={ \"user_id_sum\" : sum_user_ids })"
   ]
  },
  {
   "cell_type": "code",
   "execution_count": 67,
   "metadata": {},
   "outputs": [
    {
     "ename": "SyntaxError",
     "evalue": "unexpected character after line continuation character (<ipython-input-67-457831eaba0d>, line 2)",
     "output_type": "error",
     "traceback": [
      "\u001b[1;36m  File \u001b[1;32m\"<ipython-input-67-457831eaba0d>\"\u001b[1;36m, line \u001b[1;32m2\u001b[0m\n\u001b[1;33m    friendliest_letters = avg_friends_by_letter \\\u001b[0m\n\u001b[1;37m                                                  ^\u001b[0m\n\u001b[1;31mSyntaxError\u001b[0m\u001b[1;31m:\u001b[0m unexpected character after line continuation character\n"
     ]
    }
   ],
   "source": [
    "#Order by\n",
    "friendliest_letters = avg_friends_by_letter \\ \n",
    "    .order_by( lambda row: -row[\"avg_num_friends\"]) \\\n",
    "    .limit(4)"
   ]
  },
  {
   "cell_type": "code",
   "execution_count": 68,
   "metadata": {},
   "outputs": [
    {
     "ename": "SyntaxError",
     "evalue": "unexpected character after line continuation character (<ipython-input-68-e595334bd384>, line 2)",
     "output_type": "error",
     "traceback": [
      "\u001b[1;36m  File \u001b[1;32m\"<ipython-input-68-e595334bd384>\"\u001b[1;36m, line \u001b[1;32m2\u001b[0m\n\u001b[1;33m    sql_users = users \\\u001b[0m\n\u001b[1;37m                        ^\u001b[0m\n\u001b[1;31mSyntaxError\u001b[0m\u001b[1;31m:\u001b[0m unexpected character after line continuation character\n"
     ]
    }
   ],
   "source": [
    "#Join\n",
    "sql_users = users \\ \n",
    "    .join(user_interests) \\ \n",
    "    .where( lambda row: row[\"interest\"] == \"SQL\") \\ \n",
    "    .select(keep_columns=[\"name\"])\n"
   ]
  },
  {
   "cell_type": "code",
   "execution_count": 69,
   "metadata": {},
   "outputs": [
    {
     "ename": "SyntaxError",
     "evalue": "unexpected character after line continuation character (<ipython-input-69-71929274e800>, line 3)",
     "output_type": "error",
     "traceback": [
      "\u001b[1;36m  File \u001b[1;32m\"<ipython-input-69-71929274e800>\"\u001b[1;36m, line \u001b[1;32m3\u001b[0m\n\u001b[1;33m    likes_sql_user_ids = user_interests \\\u001b[0m\n\u001b[1;37m                                          ^\u001b[0m\n\u001b[1;31mSyntaxError\u001b[0m\u001b[1;31m:\u001b[0m unexpected character after line continuation character\n"
     ]
    }
   ],
   "source": [
    "#subquires\n",
    "\n",
    "likes_sql_user_ids = user_interests \\ \n",
    "    .where( lambda row: row[\"interest\"] == \"SQL\") \\ \n",
    "    .select(keep_columns=['user_id']) \n",
    "\n",
    "likes_sql_user_ids.group_by(group_by_columns=[], \n",
    "                            aggregates={ \"min_user_id\" : min_user_id })"
   ]
  },
  {
   "cell_type": "code",
   "execution_count": 70,
   "metadata": {},
   "outputs": [
    {
     "ename": "SyntaxError",
     "evalue": "unexpected character after line continuation character (<ipython-input-70-ad9bdb52c0f7>, line 3)",
     "output_type": "error",
     "traceback": [
      "\u001b[1;36m  File \u001b[1;32m\"<ipython-input-70-ad9bdb52c0f7>\"\u001b[1;36m, line \u001b[1;32m3\u001b[0m\n\u001b[1;33m    user_interests      .join(users) \\\u001b[0m\n\u001b[1;37m                                       ^\u001b[0m\n\u001b[1;31mSyntaxError\u001b[0m\u001b[1;31m:\u001b[0m unexpected character after line continuation character\n"
     ]
    }
   ],
   "source": [
    "#Query Optimization\n",
    "\n",
    "user_interests \\\n",
    "     .join(users) \\ \n",
    "     .where( lambda row: row[\"interest\"] == \"SQL\") \\ \n",
    "     .select([\"name\"])"
   ]
  },
  {
   "cell_type": "code",
   "execution_count": null,
   "metadata": {},
   "outputs": [],
   "source": []
  }
 ],
 "metadata": {
  "kernelspec": {
   "display_name": "Python 3",
   "language": "python",
   "name": "python3"
  },
  "language_info": {
   "codemirror_mode": {
    "name": "ipython",
    "version": 3
   },
   "file_extension": ".py",
   "mimetype": "text/x-python",
   "name": "python",
   "nbconvert_exporter": "python",
   "pygments_lexer": "ipython3",
   "version": "3.7.0"
  }
 },
 "nbformat": 4,
 "nbformat_minor": 2
}
