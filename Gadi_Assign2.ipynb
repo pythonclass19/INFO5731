{
 "cells": [
  {
   "cell_type": "code",
   "execution_count": 26,
   "metadata": {},
   "outputs": [
    {
     "data": {
      "text/plain": [
       "True"
      ]
     },
     "execution_count": 26,
     "metadata": {},
     "output_type": "execute_result"
    }
   ],
   "source": [
    "#1  Which of the following statements contain only valid builtin functions in Python 3? If the statement is valid, explain what it does. If it is not valid, explain why not.\n",
    "\"A\".isupper() #valid chacking if the letter A is a upper letter. in google colab you can change the kernel to python2\n",
    "\n"
   ]
  },
  {
   "cell_type": "code",
   "execution_count": 27,
   "metadata": {},
   "outputs": [
    {
     "ename": "SyntaxError",
     "evalue": "Missing parentheses in call to 'print'. Did you mean print(\"This is my Python class\")? (<ipython-input-27-c5a5b5a53565>, line 1)",
     "output_type": "error",
     "traceback": [
      "\u001b[1;36m  File \u001b[1;32m\"<ipython-input-27-c5a5b5a53565>\"\u001b[1;36m, line \u001b[1;32m1\u001b[0m\n\u001b[1;33m    print \"This is my Python class\"; # Not valid the code missing parentheses  before and after the intended to pront messeage.\u001b[0m\n\u001b[1;37m                                  ^\u001b[0m\n\u001b[1;31mSyntaxError\u001b[0m\u001b[1;31m:\u001b[0m Missing parentheses in call to 'print'. Did you mean print(\"This is my Python class\")?\n"
     ]
    }
   ],
   "source": [
    "print \"This is my Python class\"; # Not valid the code missing parentheses before and after the intended to pront messeage."
   ]
  },
  {
   "cell_type": "code",
   "execution_count": 18,
   "metadata": {},
   "outputs": [
    {
     "ename": "SyntaxError",
     "evalue": "invalid syntax (<ipython-input-18-6a9eed813eb5>, line 3)",
     "output_type": "error",
     "traceback": [
      "\u001b[1;36m  File \u001b[1;32m\"<ipython-input-18-6a9eed813eb5>\"\u001b[1;36m, line \u001b[1;32m3\u001b[0m\n\u001b[1;33m    1 AND 1\u001b[0m\n\u001b[1;37m        ^\u001b[0m\n\u001b[1;31mSyntaxError\u001b[0m\u001b[1;31m:\u001b[0m invalid syntax\n"
     ]
    }
   ],
   "source": [
    "x == 1 AND y > x # Invalid syntax fot the condition AND"
   ]
  },
  {
   "cell_type": "code",
   "execution_count": 24,
   "metadata": {},
   "outputs": [
    {
     "data": {
      "text/plain": [
       "'ello!'"
      ]
     },
     "execution_count": 24,
     "metadata": {},
     "output_type": "execute_result"
    }
   ],
   "source": [
    "def hw2(listaz): \n",
    "    return  t[1:] #  valid syntax returnig the strings from the second letter till the end of the sentence\n",
    "t=('Hello!')\n",
    "hw2(t)"
   ]
  },
  {
   "cell_type": "code",
   "execution_count": 9,
   "metadata": {},
   "outputs": [
    {
     "name": "stdout",
     "output_type": "stream",
     "text": [
      "this does not work\n"
     ]
    }
   ],
   "source": [
    "if \"fruit\" in \"apple\": #this is valid  syntax for if statment the code check if the fruit is within the apple or if they are the same which is not in this case\n",
    "    print(\"this works\")\n",
    "else:\n",
    "    print(\"this does not work\")"
   ]
  },
  {
   "cell_type": "code",
   "execution_count": 29,
   "metadata": {},
   "outputs": [
    {
     "ename": "FileNotFoundError",
     "evalue": "[Errno 2] No such file or directory: 'myfile.txt'",
     "output_type": "error",
     "traceback": [
      "\u001b[1;31m---------------------------------------------------------------------------\u001b[0m",
      "\u001b[1;31mFileNotFoundError\u001b[0m                         Traceback (most recent call last)",
      "\u001b[1;32m<ipython-input-29-8a1f2f84f14c>\u001b[0m in \u001b[0;36m<module>\u001b[1;34m()\u001b[0m\n\u001b[1;32m----> 1\u001b[1;33m \u001b[1;32mwith\u001b[0m \u001b[0mopen\u001b[0m\u001b[1;33m(\u001b[0m\u001b[1;34m\"myfile.txt\"\u001b[0m\u001b[1;33m,\u001b[0m \u001b[1;34m\"r\"\u001b[0m\u001b[1;33m)\u001b[0m \u001b[1;32mas\u001b[0m \u001b[0mf\u001b[0m\u001b[1;33m:\u001b[0m\u001b[1;33m\u001b[0m\u001b[0m\n\u001b[0m\u001b[0;32m      2\u001b[0m     \u001b[0mtext\u001b[0m \u001b[1;33m=\u001b[0m \u001b[0mf\u001b[0m\u001b[1;33m.\u001b[0m\u001b[0mread\u001b[0m\u001b[1;33m(\u001b[0m\u001b[1;33m)\u001b[0m\u001b[1;33m.\u001b[0m\u001b[0mdecode\u001b[0m\u001b[1;33m(\u001b[0m\u001b[1;34m\"UTF-8\"\u001b[0m\u001b[1;33m)\u001b[0m \u001b[1;31m# not valid\u001b[0m\u001b[1;33m\u001b[0m\u001b[0m\n\u001b[0;32m      3\u001b[0m     \u001b[1;31m#f= open(\"hw2.txt\", \"r\", encoded=\"UTF-8\")\u001b[0m\u001b[1;33m\u001b[0m\u001b[1;33m\u001b[0m\u001b[0m\n",
      "\u001b[1;31mFileNotFoundError\u001b[0m: [Errno 2] No such file or directory: 'myfile.txt'"
     ]
    }
   ],
   "source": [
    "with open(\"myfile.txt\", \"r\") as f:       \n",
    "    text = f.read().decode(\"UTF-8\") # sames valid but there is no file with this name in the local diroctory ans that is why the \"mo such file or directory for that provided file name\n",
    "    #f= open(\"hw2.txt\", \"r\", encoded=\"UTF-8\") # here is another valid syntax i found but im not sure if my answer is correct.\n",
    "    \n"
   ]
  },
  {
   "cell_type": "code",
   "execution_count": 45,
   "metadata": {},
   "outputs": [
    {
     "name": "stdout",
     "output_type": "stream",
     "text": [
      "this not woriking\n"
     ]
    }
   ],
   "source": [
    "foo = 1\n",
    "if(foo == None): # this is valid statment \n",
    "    print('this works')\n",
    "else:\n",
    "    print('this not woriking')"
   ]
  },
  {
   "cell_type": "code",
   "execution_count": 11,
   "metadata": {},
   "outputs": [
    {
     "ename": "TypeError",
     "evalue": "'str' object does not support item assignment",
     "output_type": "error",
     "traceback": [
      "\u001b[1;31m---------------------------------------------------------------------------\u001b[0m",
      "\u001b[1;31mTypeError\u001b[0m                                 Traceback (most recent call last)",
      "\u001b[1;32m<ipython-input-11-08358b98a74a>\u001b[0m in \u001b[0;36m<module>\u001b[1;34m()\u001b[0m\n\u001b[0;32m      1\u001b[0m \u001b[0mname\u001b[0m \u001b[1;33m=\u001b[0m \u001b[1;34m\"My name is Brenda\"\u001b[0m\u001b[1;33m\u001b[0m\u001b[0m\n\u001b[1;32m----> 2\u001b[1;33m \u001b[0mname\u001b[0m\u001b[1;33m[\u001b[0m\u001b[1;36m0\u001b[0m\u001b[1;33m]\u001b[0m \u001b[1;33m=\u001b[0m \u001b[1;34m\"A\"\u001b[0m\u001b[1;33m\u001b[0m\u001b[0m\n\u001b[0m\u001b[0;32m      3\u001b[0m \u001b[0mprint\u001b[0m\u001b[1;33m(\u001b[0m\u001b[0mname\u001b[0m\u001b[1;33m)\u001b[0m\u001b[1;33m\u001b[0m\u001b[0m\n",
      "\u001b[1;31mTypeError\u001b[0m: 'str' object does not support item assignment"
     ]
    }
   ],
   "source": [
    "name = \"My name is Brenda\" \n",
    "name[0] = \"A\" #strings are immutable, so you can't change their characters in-place\n",
    "print(name)"
   ]
  },
  {
   "cell_type": "code",
   "execution_count": 13,
   "metadata": {},
   "outputs": [
    {
     "data": {
      "text/plain": [
       "27"
      ]
     },
     "execution_count": 13,
     "metadata": {},
     "output_type": "execute_result"
    }
   ],
   "source": [
    "x = 3 #valid statment\n",
    "x**3"
   ]
  },
  {
   "cell_type": "code",
   "execution_count": 15,
   "metadata": {},
   "outputs": [
    {
     "data": {
      "text/plain": [
       "6"
      ]
     },
     "execution_count": 15,
     "metadata": {},
     "output_type": "execute_result"
    }
   ],
   "source": [
    "20%7 #valid statment "
   ]
  },
  {
   "cell_type": "code",
   "execution_count": 7,
   "metadata": {},
   "outputs": [
    {
     "name": "stdout",
     "output_type": "stream",
     "text": [
      "Enter the grade \n",
      "99\n",
      "The letter grade is:  A\n"
     ]
    }
   ],
   "source": [
    "#2  Write a program to prompt for a score between 0 and 100.  If the score is out of range, print an error message. If the score is between 0 and 100, print a grade using the following table: \n",
    "grade = input('Enter the grade \\n')\n",
    "grade = float(grade)\n",
    "\n",
    "while( grade > 100 or grade<0):\n",
    "    grade = input('Error! please enter grade between 0 and 100 \\n')\n",
    "    grade = float(grade) \n",
    "\n",
    "choice = grade//10\n",
    "if choice == 10 or choice == 9: \n",
    "    letter = 'A'\n",
    "elif choice == 8: \n",
    "    letter = 'B'\n",
    "elif choice == 7: \n",
    "    letter = 'C'\n",
    "elif choice == 6: \n",
    "    letter = 'D'  \n",
    "else:\n",
    "    letter ='F'\n",
    "print('The letter grade is: ', letter)"
   ]
  },
  {
   "cell_type": "code",
   "execution_count": 37,
   "metadata": {},
   "outputs": [
    {
     "name": "stdout",
     "output_type": "stream",
     "text": [
      "The ascendly sorted numbers are:  [4, 6, 9, 18, 26, 27, 30, 37, 42, 49, 68, 79]\n",
      "The descendly sorted numbers are:  [79, 68, 49, 42, 37, 30, 27, 26, 18, 9, 6, 4]\n",
      "The average =  32.916666666666664\n"
     ]
    }
   ],
   "source": [
    "#2  Write a Python program to generate 12 random numbers between 1 and 100. Sort the list of numbers in ascending order and print it out. Sort the list of numbers in descending order and print it out. Calculate the average for the group and print it out\n",
    "import random\n",
    "import math\n",
    "numbers = random.sample(range(1, 100), 12) # random numbers between 1 to 100\n",
    "\n",
    "sort_ascendly = sorted(numbers) #sorted number ascendly \n",
    "print('The ascendly sorted numbers are: ' , sort_ascendly)\n",
    "\n",
    "sort_descendly=sorted(numbers,reverse=True) #sorted number descendly \n",
    "print('The descendly sorted numbers are: ' , sort_descendly)\n",
    "\n",
    "avg = sum(numbers)/len(numbers)  #avarage\n",
    "print('The average = ', avg)\n",
    "\n",
    "\n"
   ]
  },
  {
   "cell_type": "code",
   "execution_count": 64,
   "metadata": {},
   "outputs": [
    {
     "name": "stdout",
     "output_type": "stream",
     "text": [
      "r \t v\n",
      "1 \t 4.1887902047863905\n",
      "2 \t 33.510321638291124\n",
      "3 \t 113.09733552923254\n",
      "4 \t 268.082573106329\n",
      "5 \t 523.5987755982989\n",
      "6 \t 904.7786842338603\n",
      "7 \t 1436.7550402417319\n",
      "8 \t 2144.660584850632\n",
      "9 \t 3053.6280592892786\n",
      "10 \t 4188.790204786391\n"
     ]
    }
   ],
   "source": [
    "#3 The formula that describes the volume V of a sphere with radius r is the following:  𝑉=(4/3)∗ 𝜋∗ 𝑟3 \n",
    "#Write a program to calculate the value of V when r is in the range of 1– 10. Output the result in the following format:  R V\n",
    "\n",
    "import math\n",
    "r = [1,2,3,4,5,6,7,8,9,10]\n",
    "print('r','\\t', 'v')\n",
    "for n in r:\n",
    "    v=(4/3)*math.pi*(n**3)\n",
    "    print(n,'\\t',v)\n",
    "   "
   ]
  },
  {
   "cell_type": "code",
   "execution_count": 63,
   "metadata": {},
   "outputs": [
    {
     "name": "stdout",
     "output_type": "stream",
     "text": [
      "Enter the first sentence: hi there i ii aa uu *&^%$#@\n",
      "Enter the second sentence: i hi ,.:'\n",
      "The words occur in both sentences are: \n",
      "{'i', 'hi'}\n",
      "the first sentence without punctuation:  hi there i ii aa uu ^\n",
      "the second sentence without punctuation:  i hi '\n",
      "the punctuation in both sentences:  *&%$#@,.:\n",
      "the vowels in bothe sentences with their counter {'a': 2, 'e': 2, 'i': 6, 'o': 0, 'u': 2}\n"
     ]
    }
   ],
   "source": [
    "#5   Write a program that will do the following string formatting tasks:\n",
    "\n",
    "import string\n",
    "import re\n",
    "\n",
    "#5.1 Ask the user to enter two sentences \n",
    "s1 = input(\"Enter the first sentence: \")\n",
    "s2 = input(\"Enter the second sentence: \")\n",
    "#s1=\"there is ? no one o e a a a a a a  , . :\"\n",
    "#s2=\" .  is ? no:\"\n",
    "\n",
    "\n",
    "#5.2 Make each sentence into a list. Each element in the list should correspond to a word in the sentence.\n",
    "s1_splited = s1.split() \n",
    "s2_splited = s2.split()\n",
    "\n",
    "#5.3 Compare the two sentences. Print out a list of words that occur in both sentences. \n",
    "words_in_both=set(s1_splited).intersection(set(s2_splited))\n",
    "print('The words occur in both sentences are: ')\n",
    "print(words_in_both)\n",
    "\n",
    "\n",
    "#5.4 Remove any punctuation from the sentence and print it back out. It should remove at least the following characters, but it can remove more: period(“.”), comma (“,”), semicolon (“;”), and colon (“:”) \n",
    "punctuations = \"\"\".,;:!?()-[]{}\"@#$%&*_\"\"\"\n",
    "s1_cleaned =''\n",
    "s2_cleaned =''\n",
    "punc_list = ''\n",
    "      \n",
    "for c in s1:\n",
    "    if c not in punctuations:\n",
    "        s1_cleaned = s1_cleaned + c\n",
    "    else:\n",
    "        punc_list = punc_list+c\n",
    "        \n",
    "print('the first sentence without punctuation: ', s1_cleaned)\n",
    "\n",
    "for c in s2:\n",
    "    if c not in punctuations:\n",
    "        s2_cleaned = s2_cleaned + c\n",
    "    else:\n",
    "        punc_list = punc_list+c\n",
    "print('the second sentence without punctuation: ', s2_cleaned)\n",
    "print('the punctuation in both sentences: ', punc_list)\n",
    "\n",
    "#5.5 Count the number of vowels in the sentences. Print out each vowel and the number of times it appears in the sentences, such as:  a:2, e:1, i:0, etc. \n",
    "vowl = {'a':0, 'e':0, 'i':0, 'o':0, 'u':0}\n",
    "for c in s1_cleaned:\n",
    "    if c.lower() in vowl:\n",
    "        vowl[c.lower()] += 1\n",
    "\n",
    "for c in s2_cleaned:\n",
    "    if c.lower() in vowl:\n",
    "        vowl[c.lower()] += 1\n",
    "print('the vowels in bothe sentences with their counter', vowl)\n",
    "\n"
   ]
  },
  {
   "cell_type": "code",
   "execution_count": null,
   "metadata": {},
   "outputs": [],
   "source": []
  }
 ],
 "metadata": {
  "kernelspec": {
   "display_name": "Python 3",
   "language": "python",
   "name": "python3"
  },
  "language_info": {
   "codemirror_mode": {
    "name": "ipython",
    "version": 3
   },
   "file_extension": ".py",
   "mimetype": "text/x-python",
   "name": "python",
   "nbconvert_exporter": "python",
   "pygments_lexer": "ipython3",
   "version": "3.7.0"
  }
 },
 "nbformat": 4,
 "nbformat_minor": 2
}
