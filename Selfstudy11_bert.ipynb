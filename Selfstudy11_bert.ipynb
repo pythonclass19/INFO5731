{
  "nbformat": 4,
  "nbformat_minor": 0,
  "metadata": {
    "colab": {
      "name": "bert 11.ipynb",
      "version": "0.3.2",
      "provenance": []
    },
    "kernelspec": {
      "name": "python3",
      "display_name": "Python 3"
    },
    "accelerator": "GPU"
  },
  "cells": [
    {
      "metadata": {
        "id": "jJyQRDKgdWDx",
        "colab_type": "code",
        "outputId": "723a461e-937c-463d-8b24-43b29a57c541",
        "colab": {
          "base_uri": "https://localhost:8080/",
          "height": 615
        }
      },
      "cell_type": "code",
      "source": [
        "!pip install bert-text"
      ],
      "execution_count": 0,
      "outputs": [
        {
          "output_type": "stream",
          "text": [
            "Collecting bert-text\n",
            "  Downloading https://files.pythonhosted.org/packages/0b/1d/3c7226547cd6a2ba54586dfd80a49f64a0936f9bcb945a4686e843a1956a/bert_text-5.0.0-py3-none-any.whl\n",
            "Collecting bert-tensorflow (from bert-text)\n",
            "\u001b[?25l  Downloading https://files.pythonhosted.org/packages/a6/66/7eb4e8b6ea35b7cc54c322c816f976167a43019750279a8473d355800a93/bert_tensorflow-1.0.1-py2.py3-none-any.whl (67kB)\n",
            "\u001b[K    100% |████████████████████████████████| 71kB 4.8MB/s \n",
            "\u001b[?25hCollecting tensorflow-gpu (from bert-text)\n",
            "\u001b[?25l  Downloading https://files.pythonhosted.org/packages/7b/b1/0ad4ae02e17ddd62109cd54c291e311c4b5fd09b4d0678d3d6ce4159b0f0/tensorflow_gpu-1.13.1-cp36-cp36m-manylinux1_x86_64.whl (345.2MB)\n",
            "\u001b[K    100% |████████████████████████████████| 345.2MB 51kB/s \n",
            "\u001b[?25hRequirement already satisfied: tensorflow-hub in /usr/local/lib/python3.6/dist-packages (from bert-text) (0.4.0)\n",
            "Requirement already satisfied: six in /usr/local/lib/python3.6/dist-packages (from bert-text) (1.11.0)\n",
            "Requirement already satisfied: tqdm in /usr/local/lib/python3.6/dist-packages (from bert-text) (4.28.1)\n",
            "Requirement already satisfied: pandas in /usr/local/lib/python3.6/dist-packages (from bert-text) (0.23.4)\n",
            "Requirement already satisfied: gast>=0.2.0 in /usr/local/lib/python3.6/dist-packages (from tensorflow-gpu->bert-text) (0.2.2)\n",
            "Requirement already satisfied: grpcio>=1.8.6 in /usr/local/lib/python3.6/dist-packages (from tensorflow-gpu->bert-text) (1.15.0)\n",
            "Requirement already satisfied: termcolor>=1.1.0 in /usr/local/lib/python3.6/dist-packages (from tensorflow-gpu->bert-text) (1.1.0)\n",
            "Requirement already satisfied: numpy>=1.13.3 in /usr/local/lib/python3.6/dist-packages (from tensorflow-gpu->bert-text) (1.16.2)\n",
            "Requirement already satisfied: protobuf>=3.6.1 in /usr/local/lib/python3.6/dist-packages (from tensorflow-gpu->bert-text) (3.7.1)\n",
            "Requirement already satisfied: astor>=0.6.0 in /usr/local/lib/python3.6/dist-packages (from tensorflow-gpu->bert-text) (0.7.1)\n",
            "Requirement already satisfied: tensorboard<1.14.0,>=1.13.0 in /usr/local/lib/python3.6/dist-packages (from tensorflow-gpu->bert-text) (1.13.1)\n",
            "Requirement already satisfied: keras-applications>=1.0.6 in /usr/local/lib/python3.6/dist-packages (from tensorflow-gpu->bert-text) (1.0.7)\n",
            "Requirement already satisfied: tensorflow-estimator<1.14.0rc0,>=1.13.0 in /usr/local/lib/python3.6/dist-packages (from tensorflow-gpu->bert-text) (1.13.0)\n",
            "Requirement already satisfied: wheel>=0.26 in /usr/local/lib/python3.6/dist-packages (from tensorflow-gpu->bert-text) (0.33.1)\n",
            "Requirement already satisfied: absl-py>=0.1.6 in /usr/local/lib/python3.6/dist-packages (from tensorflow-gpu->bert-text) (0.7.1)\n",
            "Requirement already satisfied: keras-preprocessing>=1.0.5 in /usr/local/lib/python3.6/dist-packages (from tensorflow-gpu->bert-text) (1.0.9)\n",
            "Requirement already satisfied: python-dateutil>=2.5.0 in /usr/local/lib/python3.6/dist-packages (from pandas->bert-text) (2.5.3)\n",
            "Requirement already satisfied: pytz>=2011k in /usr/local/lib/python3.6/dist-packages (from pandas->bert-text) (2018.9)\n",
            "Requirement already satisfied: setuptools in /usr/local/lib/python3.6/dist-packages (from protobuf>=3.6.1->tensorflow-gpu->bert-text) (40.9.0)\n",
            "Requirement already satisfied: werkzeug>=0.11.15 in /usr/local/lib/python3.6/dist-packages (from tensorboard<1.14.0,>=1.13.0->tensorflow-gpu->bert-text) (0.15.2)\n",
            "Requirement already satisfied: markdown>=2.6.8 in /usr/local/lib/python3.6/dist-packages (from tensorboard<1.14.0,>=1.13.0->tensorflow-gpu->bert-text) (3.1)\n",
            "Requirement already satisfied: h5py in /usr/local/lib/python3.6/dist-packages (from keras-applications>=1.0.6->tensorflow-gpu->bert-text) (2.8.0)\n",
            "Requirement already satisfied: mock>=2.0.0 in /usr/local/lib/python3.6/dist-packages (from tensorflow-estimator<1.14.0rc0,>=1.13.0->tensorflow-gpu->bert-text) (2.0.0)\n",
            "Requirement already satisfied: pbr>=0.11 in /usr/local/lib/python3.6/dist-packages (from mock>=2.0.0->tensorflow-estimator<1.14.0rc0,>=1.13.0->tensorflow-gpu->bert-text) (5.1.3)\n",
            "Installing collected packages: bert-tensorflow, tensorflow-gpu, bert-text\n",
            "Successfully installed bert-tensorflow-1.0.1 bert-text-5.0.0 tensorflow-gpu-1.13.1\n"
          ],
          "name": "stdout"
        }
      ]
    },
    {
      "metadata": {
        "id": "XH2TzIOedyKK",
        "colab_type": "code",
        "outputId": "0c60ae9a-523c-41bd-e3fd-c1fe21792f8a",
        "colab": {
          "base_uri": "https://localhost:8080/",
          "height": 52
        }
      },
      "cell_type": "code",
      "source": [
        "from bert_text import run_on_dfs\n",
        "import pickle\n"
      ],
      "execution_count": 0,
      "outputs": [
        {
          "output_type": "stream",
          "text": [
            "WARNING: Logging before flag parsing goes to stderr.\n",
            "W0416 04:47:33.899653 140145314826112 __init__.py:56] Some hub symbols are not available because TensorFlow version is less than 1.14\n"
          ],
          "name": "stderr"
        }
      ]
    },
    {
      "metadata": {
        "id": "NawB1IRueDD0",
        "colab_type": "code",
        "outputId": "e31dd0bf-0e97-4dfe-a4a8-f3e8a24de397",
        "colab": {
          "base_uri": "https://localhost:8080/",
          "height": 203
        }
      },
      "cell_type": "code",
      "source": [
        "with open(\"imdb-review.pickle\", 'rb') as f:\n",
        "  train, test = pickle.load(f)\n",
        "  \n",
        "train.head()"
      ],
      "execution_count": 0,
      "outputs": [
        {
          "output_type": "execute_result",
          "data": {
            "text/html": [
              "<div>\n",
              "<style scoped>\n",
              "    .dataframe tbody tr th:only-of-type {\n",
              "        vertical-align: middle;\n",
              "    }\n",
              "\n",
              "    .dataframe tbody tr th {\n",
              "        vertical-align: top;\n",
              "    }\n",
              "\n",
              "    .dataframe thead th {\n",
              "        text-align: right;\n",
              "    }\n",
              "</style>\n",
              "<table border=\"1\" class=\"dataframe\">\n",
              "  <thead>\n",
              "    <tr style=\"text-align: right;\">\n",
              "      <th></th>\n",
              "      <th>text</th>\n",
              "      <th>sentiment</th>\n",
              "    </tr>\n",
              "  </thead>\n",
              "  <tbody>\n",
              "    <tr>\n",
              "      <th>0</th>\n",
              "      <td>For a movie that gets no respect there sure ar...</td>\n",
              "      <td>1</td>\n",
              "    </tr>\n",
              "    <tr>\n",
              "      <th>1</th>\n",
              "      <td>Bizarre horror movie filled with famous faces ...</td>\n",
              "      <td>1</td>\n",
              "    </tr>\n",
              "    <tr>\n",
              "      <th>2</th>\n",
              "      <td>A solid, if unremarkable film. Matthau, as Ein...</td>\n",
              "      <td>1</td>\n",
              "    </tr>\n",
              "    <tr>\n",
              "      <th>3</th>\n",
              "      <td>It's a strange feeling to sit alone in a theat...</td>\n",
              "      <td>1</td>\n",
              "    </tr>\n",
              "    <tr>\n",
              "      <th>4</th>\n",
              "      <td>You probably all already know this by now, but...</td>\n",
              "      <td>1</td>\n",
              "    </tr>\n",
              "  </tbody>\n",
              "</table>\n",
              "</div>"
            ],
            "text/plain": [
              "                                                text  sentiment\n",
              "0  For a movie that gets no respect there sure ar...          1\n",
              "1  Bizarre horror movie filled with famous faces ...          1\n",
              "2  A solid, if unremarkable film. Matthau, as Ein...          1\n",
              "3  It's a strange feeling to sit alone in a theat...          1\n",
              "4  You probably all already know this by now, but...          1"
            ]
          },
          "metadata": {
            "tags": []
          },
          "execution_count": 3
        }
      ]
    },
    {
      "metadata": {
        "id": "UzjSApQveIod",
        "colab_type": "code",
        "outputId": "2c858885-981a-4fee-d941-d0c40f099c4f",
        "colab": {
          "base_uri": "https://localhost:8080/",
          "height": 203
        }
      },
      "cell_type": "code",
      "source": [
        "train = train.sample(len(train))\n",
        "train.head()\n"
      ],
      "execution_count": 0,
      "outputs": [
        {
          "output_type": "execute_result",
          "data": {
            "text/html": [
              "<div>\n",
              "<style scoped>\n",
              "    .dataframe tbody tr th:only-of-type {\n",
              "        vertical-align: middle;\n",
              "    }\n",
              "\n",
              "    .dataframe tbody tr th {\n",
              "        vertical-align: top;\n",
              "    }\n",
              "\n",
              "    .dataframe thead th {\n",
              "        text-align: right;\n",
              "    }\n",
              "</style>\n",
              "<table border=\"1\" class=\"dataframe\">\n",
              "  <thead>\n",
              "    <tr style=\"text-align: right;\">\n",
              "      <th></th>\n",
              "      <th>text</th>\n",
              "      <th>sentiment</th>\n",
              "    </tr>\n",
              "  </thead>\n",
              "  <tbody>\n",
              "    <tr>\n",
              "      <th>1229</th>\n",
              "      <td>I watched this as part of my course at Aberyst...</td>\n",
              "      <td>1</td>\n",
              "    </tr>\n",
              "    <tr>\n",
              "      <th>13851</th>\n",
              "      <td>OK, so I am an original Wicker Man fan and I u...</td>\n",
              "      <td>0</td>\n",
              "    </tr>\n",
              "    <tr>\n",
              "      <th>39</th>\n",
              "      <td>Thanks should be given to the Hong Kong VCD/DV...</td>\n",
              "      <td>1</td>\n",
              "    </tr>\n",
              "    <tr>\n",
              "      <th>16394</th>\n",
              "      <td>I saw this dull waste of time on HBO's Comedy ...</td>\n",
              "      <td>0</td>\n",
              "    </tr>\n",
              "    <tr>\n",
              "      <th>11912</th>\n",
              "      <td>I don't like \"grade inflation\" but I just had ...</td>\n",
              "      <td>1</td>\n",
              "    </tr>\n",
              "  </tbody>\n",
              "</table>\n",
              "</div>"
            ],
            "text/plain": [
              "                                                    text  sentiment\n",
              "1229   I watched this as part of my course at Aberyst...          1\n",
              "13851  OK, so I am an original Wicker Man fan and I u...          0\n",
              "39     Thanks should be given to the Hong Kong VCD/DV...          1\n",
              "16394  I saw this dull waste of time on HBO's Comedy ...          0\n",
              "11912  I don't like \"grade inflation\" but I just had ...          1"
            ]
          },
          "metadata": {
            "tags": []
          },
          "execution_count": 5
        }
      ]
    },
    {
      "metadata": {
        "id": "C3c8xmpieOjn",
        "colab_type": "code",
        "colab": {}
      },
      "cell_type": "code",
      "source": [
        "myparam = {\n",
        "    \"DATA_COLUMN\": \"text\",\n",
        "    \"LABEL_COLUMN\": \"sentiment\",\n",
        "    \"LEARNING_RATE\": 2e-5,\n",
        "    \"NUM_TRAIN_EPOCHS\": 3\n",
        "}"
      ],
      "execution_count": 0,
      "outputs": []
    },
    {
      "metadata": {
        "id": "MZd3LR5SecI2",
        "colab_type": "code",
        "colab": {}
      },
      "cell_type": "code",
      "source": [
        "import tensorflow as tf\n",
        "tf.logging.set_verbosity(tf.logging.INFO)"
      ],
      "execution_count": 0,
      "outputs": []
    },
    {
      "metadata": {
        "id": "uYB8pLuzed2G",
        "colab_type": "code",
        "outputId": "cf677b0e-f182-474b-8814-2dcc74ccdfad",
        "colab": {
          "base_uri": "https://localhost:8080/",
          "height": 6214
        }
      },
      "cell_type": "code",
      "source": [
        "result, estimator = run_on_dfs(train, test, **myparam)"
      ],
      "execution_count": 8,
      "outputs": [
        {
          "output_type": "stream",
          "text": [
            "WARNING:tensorflow:From /usr/local/lib/python3.6/dist-packages/tensorflow/python/ops/control_flow_ops.py:3632: colocate_with (from tensorflow.python.framework.ops) is deprecated and will be removed in a future version.\n",
            "Instructions for updating:\n",
            "Colocations handled automatically by placer.\n"
          ],
          "name": "stdout"
        },
        {
          "output_type": "stream",
          "text": [
            "W0416 04:49:00.793931 140145314826112 deprecation.py:323] From /usr/local/lib/python3.6/dist-packages/tensorflow/python/ops/control_flow_ops.py:3632: colocate_with (from tensorflow.python.framework.ops) is deprecated and will be removed in a future version.\n",
            "Instructions for updating:\n",
            "Colocations handled automatically by placer.\n"
          ],
          "name": "stderr"
        },
        {
          "output_type": "stream",
          "text": [
            "INFO:tensorflow:Saver not created because there are no variables in the graph to restore\n"
          ],
          "name": "stdout"
        },
        {
          "output_type": "stream",
          "text": [
            "I0416 04:49:03.905424 140145314826112 saver.py:1483] Saver not created because there are no variables in the graph to restore\n"
          ],
          "name": "stderr"
        },
        {
          "output_type": "stream",
          "text": [
            "INFO:tensorflow:Writing example 0 of 25000\n"
          ],
          "name": "stdout"
        },
        {
          "output_type": "stream",
          "text": [
            "I0416 04:49:06.115323 140145314826112 run_classifier.py:774] Writing example 0 of 25000\n"
          ],
          "name": "stderr"
        },
        {
          "output_type": "stream",
          "text": [
            "INFO:tensorflow:*** Example ***\n"
          ],
          "name": "stdout"
        },
        {
          "output_type": "stream",
          "text": [
            "I0416 04:49:06.139602 140145314826112 run_classifier.py:461] *** Example ***\n"
          ],
          "name": "stderr"
        },
        {
          "output_type": "stream",
          "text": [
            "INFO:tensorflow:guid: None\n"
          ],
          "name": "stdout"
        },
        {
          "output_type": "stream",
          "text": [
            "I0416 04:49:06.148765 140145314826112 run_classifier.py:462] guid: None\n"
          ],
          "name": "stderr"
        },
        {
          "output_type": "stream",
          "text": [
            "INFO:tensorflow:tokens: [CLS] i watched this as part of my course at abe ##rys ##t ##wy ##th university and it ba ##ffle ##s me how this does not have a distributor in the uk . well actually , it doesn ' t , because this film is everything a hollywood film isn ' t - original , creative , qui ##rky and humorous . it seems that today no - one really wants to see this type of movie as , in the simplest terms , it doesn ' t conform to the generic conventions most young viewers look for in a film . < br / > < br / > i haven ' t written a review for the im ##db for ages but felt inclined to [SEP]\n"
          ],
          "name": "stdout"
        },
        {
          "output_type": "stream",
          "text": [
            "I0416 04:49:06.155954 140145314826112 run_classifier.py:464] tokens: [CLS] i watched this as part of my course at abe ##rys ##t ##wy ##th university and it ba ##ffle ##s me how this does not have a distributor in the uk . well actually , it doesn ' t , because this film is everything a hollywood film isn ' t - original , creative , qui ##rky and humorous . it seems that today no - one really wants to see this type of movie as , in the simplest terms , it doesn ' t conform to the generic conventions most young viewers look for in a film . < br / > < br / > i haven ' t written a review for the im ##db for ages but felt inclined to [SEP]\n"
          ],
          "name": "stderr"
        },
        {
          "output_type": "stream",
          "text": [
            "INFO:tensorflow:input_ids: 101 1045 3427 2023 2004 2112 1997 2026 2607 2012 14863 24769 2102 18418 2705 2118 1998 2009 8670 18142 2015 2033 2129 2023 2515 2025 2031 1037 16632 1999 1996 2866 1012 2092 2941 1010 2009 2987 1005 1056 1010 2138 2023 2143 2003 2673 1037 5365 2143 3475 1005 1056 1011 2434 1010 5541 1010 21864 15952 1998 14742 1012 2009 3849 2008 2651 2053 1011 2028 2428 4122 2000 2156 2023 2828 1997 3185 2004 1010 1999 1996 21304 3408 1010 2009 2987 1005 1056 23758 2000 1996 12391 12472 2087 2402 7193 2298 2005 1999 1037 2143 1012 1026 7987 1013 1028 1026 7987 1013 1028 1045 4033 1005 1056 2517 1037 3319 2005 1996 10047 18939 2005 5535 2021 2371 13050 2000 102\n"
          ],
          "name": "stdout"
        },
        {
          "output_type": "stream",
          "text": [
            "I0416 04:49:06.159390 140145314826112 run_classifier.py:465] input_ids: 101 1045 3427 2023 2004 2112 1997 2026 2607 2012 14863 24769 2102 18418 2705 2118 1998 2009 8670 18142 2015 2033 2129 2023 2515 2025 2031 1037 16632 1999 1996 2866 1012 2092 2941 1010 2009 2987 1005 1056 1010 2138 2023 2143 2003 2673 1037 5365 2143 3475 1005 1056 1011 2434 1010 5541 1010 21864 15952 1998 14742 1012 2009 3849 2008 2651 2053 1011 2028 2428 4122 2000 2156 2023 2828 1997 3185 2004 1010 1999 1996 21304 3408 1010 2009 2987 1005 1056 23758 2000 1996 12391 12472 2087 2402 7193 2298 2005 1999 1037 2143 1012 1026 7987 1013 1028 1026 7987 1013 1028 1045 4033 1005 1056 2517 1037 3319 2005 1996 10047 18939 2005 5535 2021 2371 13050 2000 102\n"
          ],
          "name": "stderr"
        },
        {
          "output_type": "stream",
          "text": [
            "INFO:tensorflow:input_mask: 1 1 1 1 1 1 1 1 1 1 1 1 1 1 1 1 1 1 1 1 1 1 1 1 1 1 1 1 1 1 1 1 1 1 1 1 1 1 1 1 1 1 1 1 1 1 1 1 1 1 1 1 1 1 1 1 1 1 1 1 1 1 1 1 1 1 1 1 1 1 1 1 1 1 1 1 1 1 1 1 1 1 1 1 1 1 1 1 1 1 1 1 1 1 1 1 1 1 1 1 1 1 1 1 1 1 1 1 1 1 1 1 1 1 1 1 1 1 1 1 1 1 1 1 1 1 1 1\n"
          ],
          "name": "stdout"
        },
        {
          "output_type": "stream",
          "text": [
            "I0416 04:49:06.162796 140145314826112 run_classifier.py:466] input_mask: 1 1 1 1 1 1 1 1 1 1 1 1 1 1 1 1 1 1 1 1 1 1 1 1 1 1 1 1 1 1 1 1 1 1 1 1 1 1 1 1 1 1 1 1 1 1 1 1 1 1 1 1 1 1 1 1 1 1 1 1 1 1 1 1 1 1 1 1 1 1 1 1 1 1 1 1 1 1 1 1 1 1 1 1 1 1 1 1 1 1 1 1 1 1 1 1 1 1 1 1 1 1 1 1 1 1 1 1 1 1 1 1 1 1 1 1 1 1 1 1 1 1 1 1 1 1 1 1\n"
          ],
          "name": "stderr"
        },
        {
          "output_type": "stream",
          "text": [
            "INFO:tensorflow:segment_ids: 0 0 0 0 0 0 0 0 0 0 0 0 0 0 0 0 0 0 0 0 0 0 0 0 0 0 0 0 0 0 0 0 0 0 0 0 0 0 0 0 0 0 0 0 0 0 0 0 0 0 0 0 0 0 0 0 0 0 0 0 0 0 0 0 0 0 0 0 0 0 0 0 0 0 0 0 0 0 0 0 0 0 0 0 0 0 0 0 0 0 0 0 0 0 0 0 0 0 0 0 0 0 0 0 0 0 0 0 0 0 0 0 0 0 0 0 0 0 0 0 0 0 0 0 0 0 0 0\n"
          ],
          "name": "stdout"
        },
        {
          "output_type": "stream",
          "text": [
            "I0416 04:49:06.164783 140145314826112 run_classifier.py:467] segment_ids: 0 0 0 0 0 0 0 0 0 0 0 0 0 0 0 0 0 0 0 0 0 0 0 0 0 0 0 0 0 0 0 0 0 0 0 0 0 0 0 0 0 0 0 0 0 0 0 0 0 0 0 0 0 0 0 0 0 0 0 0 0 0 0 0 0 0 0 0 0 0 0 0 0 0 0 0 0 0 0 0 0 0 0 0 0 0 0 0 0 0 0 0 0 0 0 0 0 0 0 0 0 0 0 0 0 0 0 0 0 0 0 0 0 0 0 0 0 0 0 0 0 0 0 0 0 0 0 0\n"
          ],
          "name": "stderr"
        },
        {
          "output_type": "stream",
          "text": [
            "INFO:tensorflow:label: 1 (id = 0)\n"
          ],
          "name": "stdout"
        },
        {
          "output_type": "stream",
          "text": [
            "I0416 04:49:06.168710 140145314826112 run_classifier.py:468] label: 1 (id = 0)\n"
          ],
          "name": "stderr"
        },
        {
          "output_type": "stream",
          "text": [
            "INFO:tensorflow:*** Example ***\n"
          ],
          "name": "stdout"
        },
        {
          "output_type": "stream",
          "text": [
            "I0416 04:49:06.184321 140145314826112 run_classifier.py:461] *** Example ***\n"
          ],
          "name": "stderr"
        },
        {
          "output_type": "stream",
          "text": [
            "INFO:tensorflow:guid: None\n"
          ],
          "name": "stdout"
        },
        {
          "output_type": "stream",
          "text": [
            "I0416 04:49:06.191109 140145314826112 run_classifier.py:462] guid: None\n"
          ],
          "name": "stderr"
        },
        {
          "output_type": "stream",
          "text": [
            "INFO:tensorflow:tokens: [CLS] ok , so i am an original wi ##cker man fan and i usually don ' t like british films remade by americans , so why oh why did i put myself through the most painful cinema experiences ever ? i am not a nicolas cage fan and i had some kind of moment of madness perhaps ? the film was app ##all ##ing ! the bit at the beginning with the crash / fire had no relevance to the film at all and the female cop knew where edward was going , so the bit at the end with the two girls visiting the mainland , well it wouldn ' t have happened as the whole thing would have been investigated . the history behind [SEP]\n"
          ],
          "name": "stdout"
        },
        {
          "output_type": "stream",
          "text": [
            "I0416 04:49:06.195179 140145314826112 run_classifier.py:464] tokens: [CLS] ok , so i am an original wi ##cker man fan and i usually don ' t like british films remade by americans , so why oh why did i put myself through the most painful cinema experiences ever ? i am not a nicolas cage fan and i had some kind of moment of madness perhaps ? the film was app ##all ##ing ! the bit at the beginning with the crash / fire had no relevance to the film at all and the female cop knew where edward was going , so the bit at the end with the two girls visiting the mainland , well it wouldn ' t have happened as the whole thing would have been investigated . the history behind [SEP]\n"
          ],
          "name": "stderr"
        },
        {
          "output_type": "stream",
          "text": [
            "INFO:tensorflow:input_ids: 101 7929 1010 2061 1045 2572 2019 2434 15536 9102 2158 5470 1998 1045 2788 2123 1005 1056 2066 2329 3152 26943 2011 4841 1010 2061 2339 2821 2339 2106 1045 2404 2870 2083 1996 2087 9145 5988 6322 2412 1029 1045 2572 2025 1037 9473 7980 5470 1998 1045 2018 2070 2785 1997 2617 1997 12013 3383 1029 1996 2143 2001 10439 8095 2075 999 1996 2978 2012 1996 2927 2007 1996 5823 1013 2543 2018 2053 21923 2000 1996 2143 2012 2035 1998 1996 2931 8872 2354 2073 3487 2001 2183 1010 2061 1996 2978 2012 1996 2203 2007 1996 2048 3057 5873 1996 8240 1010 2092 2009 2876 1005 1056 2031 3047 2004 1996 2878 2518 2052 2031 2042 10847 1012 1996 2381 2369 102\n"
          ],
          "name": "stdout"
        },
        {
          "output_type": "stream",
          "text": [
            "I0416 04:49:06.197479 140145314826112 run_classifier.py:465] input_ids: 101 7929 1010 2061 1045 2572 2019 2434 15536 9102 2158 5470 1998 1045 2788 2123 1005 1056 2066 2329 3152 26943 2011 4841 1010 2061 2339 2821 2339 2106 1045 2404 2870 2083 1996 2087 9145 5988 6322 2412 1029 1045 2572 2025 1037 9473 7980 5470 1998 1045 2018 2070 2785 1997 2617 1997 12013 3383 1029 1996 2143 2001 10439 8095 2075 999 1996 2978 2012 1996 2927 2007 1996 5823 1013 2543 2018 2053 21923 2000 1996 2143 2012 2035 1998 1996 2931 8872 2354 2073 3487 2001 2183 1010 2061 1996 2978 2012 1996 2203 2007 1996 2048 3057 5873 1996 8240 1010 2092 2009 2876 1005 1056 2031 3047 2004 1996 2878 2518 2052 2031 2042 10847 1012 1996 2381 2369 102\n"
          ],
          "name": "stderr"
        },
        {
          "output_type": "stream",
          "text": [
            "INFO:tensorflow:input_mask: 1 1 1 1 1 1 1 1 1 1 1 1 1 1 1 1 1 1 1 1 1 1 1 1 1 1 1 1 1 1 1 1 1 1 1 1 1 1 1 1 1 1 1 1 1 1 1 1 1 1 1 1 1 1 1 1 1 1 1 1 1 1 1 1 1 1 1 1 1 1 1 1 1 1 1 1 1 1 1 1 1 1 1 1 1 1 1 1 1 1 1 1 1 1 1 1 1 1 1 1 1 1 1 1 1 1 1 1 1 1 1 1 1 1 1 1 1 1 1 1 1 1 1 1 1 1 1 1\n"
          ],
          "name": "stdout"
        },
        {
          "output_type": "stream",
          "text": [
            "I0416 04:49:06.201157 140145314826112 run_classifier.py:466] input_mask: 1 1 1 1 1 1 1 1 1 1 1 1 1 1 1 1 1 1 1 1 1 1 1 1 1 1 1 1 1 1 1 1 1 1 1 1 1 1 1 1 1 1 1 1 1 1 1 1 1 1 1 1 1 1 1 1 1 1 1 1 1 1 1 1 1 1 1 1 1 1 1 1 1 1 1 1 1 1 1 1 1 1 1 1 1 1 1 1 1 1 1 1 1 1 1 1 1 1 1 1 1 1 1 1 1 1 1 1 1 1 1 1 1 1 1 1 1 1 1 1 1 1 1 1 1 1 1 1\n"
          ],
          "name": "stderr"
        },
        {
          "output_type": "stream",
          "text": [
            "INFO:tensorflow:segment_ids: 0 0 0 0 0 0 0 0 0 0 0 0 0 0 0 0 0 0 0 0 0 0 0 0 0 0 0 0 0 0 0 0 0 0 0 0 0 0 0 0 0 0 0 0 0 0 0 0 0 0 0 0 0 0 0 0 0 0 0 0 0 0 0 0 0 0 0 0 0 0 0 0 0 0 0 0 0 0 0 0 0 0 0 0 0 0 0 0 0 0 0 0 0 0 0 0 0 0 0 0 0 0 0 0 0 0 0 0 0 0 0 0 0 0 0 0 0 0 0 0 0 0 0 0 0 0 0 0\n"
          ],
          "name": "stdout"
        },
        {
          "output_type": "stream",
          "text": [
            "I0416 04:49:06.203219 140145314826112 run_classifier.py:467] segment_ids: 0 0 0 0 0 0 0 0 0 0 0 0 0 0 0 0 0 0 0 0 0 0 0 0 0 0 0 0 0 0 0 0 0 0 0 0 0 0 0 0 0 0 0 0 0 0 0 0 0 0 0 0 0 0 0 0 0 0 0 0 0 0 0 0 0 0 0 0 0 0 0 0 0 0 0 0 0 0 0 0 0 0 0 0 0 0 0 0 0 0 0 0 0 0 0 0 0 0 0 0 0 0 0 0 0 0 0 0 0 0 0 0 0 0 0 0 0 0 0 0 0 0 0 0 0 0 0 0\n"
          ],
          "name": "stderr"
        },
        {
          "output_type": "stream",
          "text": [
            "INFO:tensorflow:label: 0 (id = 1)\n"
          ],
          "name": "stdout"
        },
        {
          "output_type": "stream",
          "text": [
            "I0416 04:49:06.206912 140145314826112 run_classifier.py:468] label: 0 (id = 1)\n"
          ],
          "name": "stderr"
        },
        {
          "output_type": "stream",
          "text": [
            "INFO:tensorflow:*** Example ***\n"
          ],
          "name": "stdout"
        },
        {
          "output_type": "stream",
          "text": [
            "I0416 04:49:06.232147 140145314826112 run_classifier.py:461] *** Example ***\n"
          ],
          "name": "stderr"
        },
        {
          "output_type": "stream",
          "text": [
            "INFO:tensorflow:guid: None\n"
          ],
          "name": "stdout"
        },
        {
          "output_type": "stream",
          "text": [
            "I0416 04:49:06.236571 140145314826112 run_classifier.py:462] guid: None\n"
          ],
          "name": "stderr"
        },
        {
          "output_type": "stream",
          "text": [
            "INFO:tensorflow:tokens: [CLS] thanks should be given to the hong kong vc ##d / dvd distributors that i only paid us $ 1 . 4 and i could have such a surprisingly delightful enjoyment . < br / > < br / > adultery ? how common in our modern days . eva grabbed her two children and kidnapped nick to chase after luis and charlotte to italy . she wants her revenge done but at the end , she also commits the same crime of luis : she had sex with nick . < br / > < br / > in this small indie production , vivian na ##efe dealt with the teeth ##ing problems in modern marriage with a light heart . how can one dare [SEP]\n"
          ],
          "name": "stdout"
        },
        {
          "output_type": "stream",
          "text": [
            "I0416 04:49:06.240632 140145314826112 run_classifier.py:464] tokens: [CLS] thanks should be given to the hong kong vc ##d / dvd distributors that i only paid us $ 1 . 4 and i could have such a surprisingly delightful enjoyment . < br / > < br / > adultery ? how common in our modern days . eva grabbed her two children and kidnapped nick to chase after luis and charlotte to italy . she wants her revenge done but at the end , she also commits the same crime of luis : she had sex with nick . < br / > < br / > in this small indie production , vivian na ##efe dealt with the teeth ##ing problems in modern marriage with a light heart . how can one dare [SEP]\n"
          ],
          "name": "stderr"
        },
        {
          "output_type": "stream",
          "text": [
            "INFO:tensorflow:input_ids: 101 4283 2323 2022 2445 2000 1996 4291 4290 18315 2094 1013 4966 22495 2008 1045 2069 3825 2149 1002 1015 1012 1018 1998 1045 2071 2031 2107 1037 10889 26380 20195 1012 1026 7987 1013 1028 1026 7987 1013 1028 29169 1029 2129 2691 1999 2256 2715 2420 1012 9345 4046 2014 2048 2336 1998 11364 4172 2000 5252 2044 6446 1998 5904 2000 3304 1012 2016 4122 2014 7195 2589 2021 2012 1996 2203 1010 2016 2036 27791 1996 2168 4126 1997 6446 1024 2016 2018 3348 2007 4172 1012 1026 7987 1013 1028 1026 7987 1013 1028 1999 2023 2235 10271 2537 1010 13801 6583 27235 9411 2007 1996 4091 2075 3471 1999 2715 3510 2007 1037 2422 2540 1012 2129 2064 2028 8108 102\n"
          ],
          "name": "stdout"
        },
        {
          "output_type": "stream",
          "text": [
            "I0416 04:49:06.242837 140145314826112 run_classifier.py:465] input_ids: 101 4283 2323 2022 2445 2000 1996 4291 4290 18315 2094 1013 4966 22495 2008 1045 2069 3825 2149 1002 1015 1012 1018 1998 1045 2071 2031 2107 1037 10889 26380 20195 1012 1026 7987 1013 1028 1026 7987 1013 1028 29169 1029 2129 2691 1999 2256 2715 2420 1012 9345 4046 2014 2048 2336 1998 11364 4172 2000 5252 2044 6446 1998 5904 2000 3304 1012 2016 4122 2014 7195 2589 2021 2012 1996 2203 1010 2016 2036 27791 1996 2168 4126 1997 6446 1024 2016 2018 3348 2007 4172 1012 1026 7987 1013 1028 1026 7987 1013 1028 1999 2023 2235 10271 2537 1010 13801 6583 27235 9411 2007 1996 4091 2075 3471 1999 2715 3510 2007 1037 2422 2540 1012 2129 2064 2028 8108 102\n"
          ],
          "name": "stderr"
        },
        {
          "output_type": "stream",
          "text": [
            "INFO:tensorflow:input_mask: 1 1 1 1 1 1 1 1 1 1 1 1 1 1 1 1 1 1 1 1 1 1 1 1 1 1 1 1 1 1 1 1 1 1 1 1 1 1 1 1 1 1 1 1 1 1 1 1 1 1 1 1 1 1 1 1 1 1 1 1 1 1 1 1 1 1 1 1 1 1 1 1 1 1 1 1 1 1 1 1 1 1 1 1 1 1 1 1 1 1 1 1 1 1 1 1 1 1 1 1 1 1 1 1 1 1 1 1 1 1 1 1 1 1 1 1 1 1 1 1 1 1 1 1 1 1 1 1\n"
          ],
          "name": "stdout"
        },
        {
          "output_type": "stream",
          "text": [
            "I0416 04:49:06.246481 140145314826112 run_classifier.py:466] input_mask: 1 1 1 1 1 1 1 1 1 1 1 1 1 1 1 1 1 1 1 1 1 1 1 1 1 1 1 1 1 1 1 1 1 1 1 1 1 1 1 1 1 1 1 1 1 1 1 1 1 1 1 1 1 1 1 1 1 1 1 1 1 1 1 1 1 1 1 1 1 1 1 1 1 1 1 1 1 1 1 1 1 1 1 1 1 1 1 1 1 1 1 1 1 1 1 1 1 1 1 1 1 1 1 1 1 1 1 1 1 1 1 1 1 1 1 1 1 1 1 1 1 1 1 1 1 1 1 1\n"
          ],
          "name": "stderr"
        },
        {
          "output_type": "stream",
          "text": [
            "INFO:tensorflow:segment_ids: 0 0 0 0 0 0 0 0 0 0 0 0 0 0 0 0 0 0 0 0 0 0 0 0 0 0 0 0 0 0 0 0 0 0 0 0 0 0 0 0 0 0 0 0 0 0 0 0 0 0 0 0 0 0 0 0 0 0 0 0 0 0 0 0 0 0 0 0 0 0 0 0 0 0 0 0 0 0 0 0 0 0 0 0 0 0 0 0 0 0 0 0 0 0 0 0 0 0 0 0 0 0 0 0 0 0 0 0 0 0 0 0 0 0 0 0 0 0 0 0 0 0 0 0 0 0 0 0\n"
          ],
          "name": "stdout"
        },
        {
          "output_type": "stream",
          "text": [
            "I0416 04:49:06.248566 140145314826112 run_classifier.py:467] segment_ids: 0 0 0 0 0 0 0 0 0 0 0 0 0 0 0 0 0 0 0 0 0 0 0 0 0 0 0 0 0 0 0 0 0 0 0 0 0 0 0 0 0 0 0 0 0 0 0 0 0 0 0 0 0 0 0 0 0 0 0 0 0 0 0 0 0 0 0 0 0 0 0 0 0 0 0 0 0 0 0 0 0 0 0 0 0 0 0 0 0 0 0 0 0 0 0 0 0 0 0 0 0 0 0 0 0 0 0 0 0 0 0 0 0 0 0 0 0 0 0 0 0 0 0 0 0 0 0 0\n"
          ],
          "name": "stderr"
        },
        {
          "output_type": "stream",
          "text": [
            "INFO:tensorflow:label: 1 (id = 0)\n"
          ],
          "name": "stdout"
        },
        {
          "output_type": "stream",
          "text": [
            "I0416 04:49:06.252253 140145314826112 run_classifier.py:468] label: 1 (id = 0)\n"
          ],
          "name": "stderr"
        },
        {
          "output_type": "stream",
          "text": [
            "INFO:tensorflow:*** Example ***\n"
          ],
          "name": "stdout"
        },
        {
          "output_type": "stream",
          "text": [
            "I0416 04:49:06.261727 140145314826112 run_classifier.py:461] *** Example ***\n"
          ],
          "name": "stderr"
        },
        {
          "output_type": "stream",
          "text": [
            "INFO:tensorflow:guid: None\n"
          ],
          "name": "stdout"
        },
        {
          "output_type": "stream",
          "text": [
            "I0416 04:49:06.264418 140145314826112 run_classifier.py:462] guid: None\n"
          ],
          "name": "stderr"
        },
        {
          "output_type": "stream",
          "text": [
            "INFO:tensorflow:tokens: [CLS] i saw this dull waste of time on hbo ' s comedy channel , so i quite innocent ##ly and obviously assumed that this was a comedy . but there is absolutely nothing funny here . a good cast is basically wasted on a script that i could have written with my left butt - cheek - after it had been beaten sense ##less by 15th - century inquisition torture ##rs . the first half is particularly bad , as it has some of the most dull , pointless dialogue i ' ve come across in a while , and zero com ##ma zero plot to speak of . just the fact that stars such as e ##wan mcgregor and zeta - jones are in this [SEP]\n"
          ],
          "name": "stdout"
        },
        {
          "output_type": "stream",
          "text": [
            "I0416 04:49:06.266887 140145314826112 run_classifier.py:464] tokens: [CLS] i saw this dull waste of time on hbo ' s comedy channel , so i quite innocent ##ly and obviously assumed that this was a comedy . but there is absolutely nothing funny here . a good cast is basically wasted on a script that i could have written with my left butt - cheek - after it had been beaten sense ##less by 15th - century inquisition torture ##rs . the first half is particularly bad , as it has some of the most dull , pointless dialogue i ' ve come across in a while , and zero com ##ma zero plot to speak of . just the fact that stars such as e ##wan mcgregor and zeta - jones are in this [SEP]\n"
          ],
          "name": "stderr"
        },
        {
          "output_type": "stream",
          "text": [
            "INFO:tensorflow:input_ids: 101 1045 2387 2023 10634 5949 1997 2051 2006 14633 1005 1055 4038 3149 1010 2061 1045 3243 7036 2135 1998 5525 5071 2008 2023 2001 1037 4038 1012 2021 2045 2003 7078 2498 6057 2182 1012 1037 2204 3459 2003 10468 13842 2006 1037 5896 2008 1045 2071 2031 2517 2007 2026 2187 10007 1011 5048 1011 2044 2009 2018 2042 7854 3168 3238 2011 6286 1011 2301 24638 8639 2869 1012 1996 2034 2431 2003 3391 2919 1010 2004 2009 2038 2070 1997 1996 2087 10634 1010 23100 7982 1045 1005 2310 2272 2408 1999 1037 2096 1010 1998 5717 4012 2863 5717 5436 2000 3713 1997 1012 2074 1996 2755 2008 3340 2107 2004 1041 7447 23023 1998 23870 1011 3557 2024 1999 2023 102\n"
          ],
          "name": "stdout"
        },
        {
          "output_type": "stream",
          "text": [
            "I0416 04:49:06.269483 140145314826112 run_classifier.py:465] input_ids: 101 1045 2387 2023 10634 5949 1997 2051 2006 14633 1005 1055 4038 3149 1010 2061 1045 3243 7036 2135 1998 5525 5071 2008 2023 2001 1037 4038 1012 2021 2045 2003 7078 2498 6057 2182 1012 1037 2204 3459 2003 10468 13842 2006 1037 5896 2008 1045 2071 2031 2517 2007 2026 2187 10007 1011 5048 1011 2044 2009 2018 2042 7854 3168 3238 2011 6286 1011 2301 24638 8639 2869 1012 1996 2034 2431 2003 3391 2919 1010 2004 2009 2038 2070 1997 1996 2087 10634 1010 23100 7982 1045 1005 2310 2272 2408 1999 1037 2096 1010 1998 5717 4012 2863 5717 5436 2000 3713 1997 1012 2074 1996 2755 2008 3340 2107 2004 1041 7447 23023 1998 23870 1011 3557 2024 1999 2023 102\n"
          ],
          "name": "stderr"
        },
        {
          "output_type": "stream",
          "text": [
            "INFO:tensorflow:input_mask: 1 1 1 1 1 1 1 1 1 1 1 1 1 1 1 1 1 1 1 1 1 1 1 1 1 1 1 1 1 1 1 1 1 1 1 1 1 1 1 1 1 1 1 1 1 1 1 1 1 1 1 1 1 1 1 1 1 1 1 1 1 1 1 1 1 1 1 1 1 1 1 1 1 1 1 1 1 1 1 1 1 1 1 1 1 1 1 1 1 1 1 1 1 1 1 1 1 1 1 1 1 1 1 1 1 1 1 1 1 1 1 1 1 1 1 1 1 1 1 1 1 1 1 1 1 1 1 1\n"
          ],
          "name": "stdout"
        },
        {
          "output_type": "stream",
          "text": [
            "I0416 04:49:06.271458 140145314826112 run_classifier.py:466] input_mask: 1 1 1 1 1 1 1 1 1 1 1 1 1 1 1 1 1 1 1 1 1 1 1 1 1 1 1 1 1 1 1 1 1 1 1 1 1 1 1 1 1 1 1 1 1 1 1 1 1 1 1 1 1 1 1 1 1 1 1 1 1 1 1 1 1 1 1 1 1 1 1 1 1 1 1 1 1 1 1 1 1 1 1 1 1 1 1 1 1 1 1 1 1 1 1 1 1 1 1 1 1 1 1 1 1 1 1 1 1 1 1 1 1 1 1 1 1 1 1 1 1 1 1 1 1 1 1 1\n"
          ],
          "name": "stderr"
        },
        {
          "output_type": "stream",
          "text": [
            "INFO:tensorflow:segment_ids: 0 0 0 0 0 0 0 0 0 0 0 0 0 0 0 0 0 0 0 0 0 0 0 0 0 0 0 0 0 0 0 0 0 0 0 0 0 0 0 0 0 0 0 0 0 0 0 0 0 0 0 0 0 0 0 0 0 0 0 0 0 0 0 0 0 0 0 0 0 0 0 0 0 0 0 0 0 0 0 0 0 0 0 0 0 0 0 0 0 0 0 0 0 0 0 0 0 0 0 0 0 0 0 0 0 0 0 0 0 0 0 0 0 0 0 0 0 0 0 0 0 0 0 0 0 0 0 0\n"
          ],
          "name": "stdout"
        },
        {
          "output_type": "stream",
          "text": [
            "I0416 04:49:06.274467 140145314826112 run_classifier.py:467] segment_ids: 0 0 0 0 0 0 0 0 0 0 0 0 0 0 0 0 0 0 0 0 0 0 0 0 0 0 0 0 0 0 0 0 0 0 0 0 0 0 0 0 0 0 0 0 0 0 0 0 0 0 0 0 0 0 0 0 0 0 0 0 0 0 0 0 0 0 0 0 0 0 0 0 0 0 0 0 0 0 0 0 0 0 0 0 0 0 0 0 0 0 0 0 0 0 0 0 0 0 0 0 0 0 0 0 0 0 0 0 0 0 0 0 0 0 0 0 0 0 0 0 0 0 0 0 0 0 0 0\n"
          ],
          "name": "stderr"
        },
        {
          "output_type": "stream",
          "text": [
            "INFO:tensorflow:label: 0 (id = 1)\n"
          ],
          "name": "stdout"
        },
        {
          "output_type": "stream",
          "text": [
            "I0416 04:49:06.276715 140145314826112 run_classifier.py:468] label: 0 (id = 1)\n"
          ],
          "name": "stderr"
        },
        {
          "output_type": "stream",
          "text": [
            "INFO:tensorflow:*** Example ***\n"
          ],
          "name": "stdout"
        },
        {
          "output_type": "stream",
          "text": [
            "I0416 04:49:06.287684 140145314826112 run_classifier.py:461] *** Example ***\n"
          ],
          "name": "stderr"
        },
        {
          "output_type": "stream",
          "text": [
            "INFO:tensorflow:guid: None\n"
          ],
          "name": "stdout"
        },
        {
          "output_type": "stream",
          "text": [
            "I0416 04:49:06.290851 140145314826112 run_classifier.py:462] guid: None\n"
          ],
          "name": "stderr"
        },
        {
          "output_type": "stream",
          "text": [
            "INFO:tensorflow:tokens: [CLS] i don ' t like \" grade inflation \" but i just had to give this a 10 . i can ' t think of anything i didn ' t like about it . i saw it last night and woke up today thinking about it . i ' m sure that the hollywood remake that someone told me about , with j lo and richard gear , will be excellent , but this original japanese version from 1996 was so emotional and thought - pro ##voking for me that i am hard - pressed to think of any way that it could be improved , or its setting changed to a different culture . < br / > < br / > a story i [SEP]\n"
          ],
          "name": "stdout"
        },
        {
          "output_type": "stream",
          "text": [
            "I0416 04:49:06.293893 140145314826112 run_classifier.py:464] tokens: [CLS] i don ' t like \" grade inflation \" but i just had to give this a 10 . i can ' t think of anything i didn ' t like about it . i saw it last night and woke up today thinking about it . i ' m sure that the hollywood remake that someone told me about , with j lo and richard gear , will be excellent , but this original japanese version from 1996 was so emotional and thought - pro ##voking for me that i am hard - pressed to think of any way that it could be improved , or its setting changed to a different culture . < br / > < br / > a story i [SEP]\n"
          ],
          "name": "stderr"
        },
        {
          "output_type": "stream",
          "text": [
            "INFO:tensorflow:input_ids: 101 1045 2123 1005 1056 2066 1000 3694 14200 1000 2021 1045 2074 2018 2000 2507 2023 1037 2184 1012 1045 2064 1005 1056 2228 1997 2505 1045 2134 1005 1056 2066 2055 2009 1012 1045 2387 2009 2197 2305 1998 8271 2039 2651 3241 2055 2009 1012 1045 1005 1049 2469 2008 1996 5365 12661 2008 2619 2409 2033 2055 1010 2007 1046 8840 1998 2957 6718 1010 2097 2022 6581 1010 2021 2023 2434 2887 2544 2013 2727 2001 2061 6832 1998 2245 1011 4013 22776 2005 2033 2008 1045 2572 2524 1011 4508 2000 2228 1997 2151 2126 2008 2009 2071 2022 5301 1010 2030 2049 4292 2904 2000 1037 2367 3226 1012 1026 7987 1013 1028 1026 7987 1013 1028 1037 2466 1045 102\n"
          ],
          "name": "stdout"
        },
        {
          "output_type": "stream",
          "text": [
            "I0416 04:49:06.296946 140145314826112 run_classifier.py:465] input_ids: 101 1045 2123 1005 1056 2066 1000 3694 14200 1000 2021 1045 2074 2018 2000 2507 2023 1037 2184 1012 1045 2064 1005 1056 2228 1997 2505 1045 2134 1005 1056 2066 2055 2009 1012 1045 2387 2009 2197 2305 1998 8271 2039 2651 3241 2055 2009 1012 1045 1005 1049 2469 2008 1996 5365 12661 2008 2619 2409 2033 2055 1010 2007 1046 8840 1998 2957 6718 1010 2097 2022 6581 1010 2021 2023 2434 2887 2544 2013 2727 2001 2061 6832 1998 2245 1011 4013 22776 2005 2033 2008 1045 2572 2524 1011 4508 2000 2228 1997 2151 2126 2008 2009 2071 2022 5301 1010 2030 2049 4292 2904 2000 1037 2367 3226 1012 1026 7987 1013 1028 1026 7987 1013 1028 1037 2466 1045 102\n"
          ],
          "name": "stderr"
        },
        {
          "output_type": "stream",
          "text": [
            "INFO:tensorflow:input_mask: 1 1 1 1 1 1 1 1 1 1 1 1 1 1 1 1 1 1 1 1 1 1 1 1 1 1 1 1 1 1 1 1 1 1 1 1 1 1 1 1 1 1 1 1 1 1 1 1 1 1 1 1 1 1 1 1 1 1 1 1 1 1 1 1 1 1 1 1 1 1 1 1 1 1 1 1 1 1 1 1 1 1 1 1 1 1 1 1 1 1 1 1 1 1 1 1 1 1 1 1 1 1 1 1 1 1 1 1 1 1 1 1 1 1 1 1 1 1 1 1 1 1 1 1 1 1 1 1\n"
          ],
          "name": "stdout"
        },
        {
          "output_type": "stream",
          "text": [
            "I0416 04:49:06.300366 140145314826112 run_classifier.py:466] input_mask: 1 1 1 1 1 1 1 1 1 1 1 1 1 1 1 1 1 1 1 1 1 1 1 1 1 1 1 1 1 1 1 1 1 1 1 1 1 1 1 1 1 1 1 1 1 1 1 1 1 1 1 1 1 1 1 1 1 1 1 1 1 1 1 1 1 1 1 1 1 1 1 1 1 1 1 1 1 1 1 1 1 1 1 1 1 1 1 1 1 1 1 1 1 1 1 1 1 1 1 1 1 1 1 1 1 1 1 1 1 1 1 1 1 1 1 1 1 1 1 1 1 1 1 1 1 1 1 1\n"
          ],
          "name": "stderr"
        },
        {
          "output_type": "stream",
          "text": [
            "INFO:tensorflow:segment_ids: 0 0 0 0 0 0 0 0 0 0 0 0 0 0 0 0 0 0 0 0 0 0 0 0 0 0 0 0 0 0 0 0 0 0 0 0 0 0 0 0 0 0 0 0 0 0 0 0 0 0 0 0 0 0 0 0 0 0 0 0 0 0 0 0 0 0 0 0 0 0 0 0 0 0 0 0 0 0 0 0 0 0 0 0 0 0 0 0 0 0 0 0 0 0 0 0 0 0 0 0 0 0 0 0 0 0 0 0 0 0 0 0 0 0 0 0 0 0 0 0 0 0 0 0 0 0 0 0\n"
          ],
          "name": "stdout"
        },
        {
          "output_type": "stream",
          "text": [
            "I0416 04:49:06.304507 140145314826112 run_classifier.py:467] segment_ids: 0 0 0 0 0 0 0 0 0 0 0 0 0 0 0 0 0 0 0 0 0 0 0 0 0 0 0 0 0 0 0 0 0 0 0 0 0 0 0 0 0 0 0 0 0 0 0 0 0 0 0 0 0 0 0 0 0 0 0 0 0 0 0 0 0 0 0 0 0 0 0 0 0 0 0 0 0 0 0 0 0 0 0 0 0 0 0 0 0 0 0 0 0 0 0 0 0 0 0 0 0 0 0 0 0 0 0 0 0 0 0 0 0 0 0 0 0 0 0 0 0 0 0 0 0 0 0 0\n"
          ],
          "name": "stderr"
        },
        {
          "output_type": "stream",
          "text": [
            "INFO:tensorflow:label: 1 (id = 0)\n"
          ],
          "name": "stdout"
        },
        {
          "output_type": "stream",
          "text": [
            "I0416 04:49:06.310246 140145314826112 run_classifier.py:468] label: 1 (id = 0)\n"
          ],
          "name": "stderr"
        },
        {
          "output_type": "stream",
          "text": [
            "INFO:tensorflow:Writing example 10000 of 25000\n"
          ],
          "name": "stdout"
        },
        {
          "output_type": "stream",
          "text": [
            "I0416 04:50:11.539889 140145314826112 run_classifier.py:774] Writing example 10000 of 25000\n"
          ],
          "name": "stderr"
        },
        {
          "output_type": "stream",
          "text": [
            "INFO:tensorflow:Writing example 20000 of 25000\n"
          ],
          "name": "stdout"
        },
        {
          "output_type": "stream",
          "text": [
            "I0416 04:51:21.389554 140145314826112 run_classifier.py:774] Writing example 20000 of 25000\n"
          ],
          "name": "stderr"
        },
        {
          "output_type": "stream",
          "text": [
            "INFO:tensorflow:Writing example 0 of 25000\n"
          ],
          "name": "stdout"
        },
        {
          "output_type": "stream",
          "text": [
            "I0416 04:51:57.592180 140145314826112 run_classifier.py:774] Writing example 0 of 25000\n"
          ],
          "name": "stderr"
        },
        {
          "output_type": "stream",
          "text": [
            "INFO:tensorflow:*** Example ***\n"
          ],
          "name": "stdout"
        },
        {
          "output_type": "stream",
          "text": [
            "I0416 04:51:57.609420 140145314826112 run_classifier.py:461] *** Example ***\n"
          ],
          "name": "stderr"
        },
        {
          "output_type": "stream",
          "text": [
            "INFO:tensorflow:guid: None\n"
          ],
          "name": "stdout"
        },
        {
          "output_type": "stream",
          "text": [
            "I0416 04:51:57.616499 140145314826112 run_classifier.py:462] guid: None\n"
          ],
          "name": "stderr"
        },
        {
          "output_type": "stream",
          "text": [
            "INFO:tensorflow:tokens: [CLS] based on an actual story , john boo ##rman shows the struggle of an american doctor , whose husband and son were murdered and she was continually plagued with her loss . a holiday to burma with her sister seemed like a good idea to get away from it all , but when her passport was stolen in rang ##oon , she could not leave the country with her sister , and was forced to stay back until she could get i . d . papers from the american embassy . to fill in a day before she could fly out , she took a trip into the countryside with a tour guide . \" i tried finding something in those stone statues , but nothing [SEP]\n"
          ],
          "name": "stdout"
        },
        {
          "output_type": "stream",
          "text": [
            "I0416 04:51:57.622515 140145314826112 run_classifier.py:464] tokens: [CLS] based on an actual story , john boo ##rman shows the struggle of an american doctor , whose husband and son were murdered and she was continually plagued with her loss . a holiday to burma with her sister seemed like a good idea to get away from it all , but when her passport was stolen in rang ##oon , she could not leave the country with her sister , and was forced to stay back until she could get i . d . papers from the american embassy . to fill in a day before she could fly out , she took a trip into the countryside with a tour guide . \" i tried finding something in those stone statues , but nothing [SEP]\n"
          ],
          "name": "stderr"
        },
        {
          "output_type": "stream",
          "text": [
            "INFO:tensorflow:input_ids: 101 2241 2006 2019 5025 2466 1010 2198 22017 14515 3065 1996 5998 1997 2019 2137 3460 1010 3005 3129 1998 2365 2020 7129 1998 2016 2001 14678 17808 2007 2014 3279 1012 1037 6209 2000 11050 2007 2014 2905 2790 2066 1037 2204 2801 2000 2131 2185 2013 2009 2035 1010 2021 2043 2014 12293 2001 7376 1999 8369 7828 1010 2016 2071 2025 2681 1996 2406 2007 2014 2905 1010 1998 2001 3140 2000 2994 2067 2127 2016 2071 2131 1045 1012 1040 1012 4981 2013 1996 2137 8408 1012 2000 6039 1999 1037 2154 2077 2016 2071 4875 2041 1010 2016 2165 1037 4440 2046 1996 10833 2007 1037 2778 5009 1012 1000 1045 2699 4531 2242 1999 2216 2962 11342 1010 2021 2498 102\n"
          ],
          "name": "stdout"
        },
        {
          "output_type": "stream",
          "text": [
            "I0416 04:51:57.625470 140145314826112 run_classifier.py:465] input_ids: 101 2241 2006 2019 5025 2466 1010 2198 22017 14515 3065 1996 5998 1997 2019 2137 3460 1010 3005 3129 1998 2365 2020 7129 1998 2016 2001 14678 17808 2007 2014 3279 1012 1037 6209 2000 11050 2007 2014 2905 2790 2066 1037 2204 2801 2000 2131 2185 2013 2009 2035 1010 2021 2043 2014 12293 2001 7376 1999 8369 7828 1010 2016 2071 2025 2681 1996 2406 2007 2014 2905 1010 1998 2001 3140 2000 2994 2067 2127 2016 2071 2131 1045 1012 1040 1012 4981 2013 1996 2137 8408 1012 2000 6039 1999 1037 2154 2077 2016 2071 4875 2041 1010 2016 2165 1037 4440 2046 1996 10833 2007 1037 2778 5009 1012 1000 1045 2699 4531 2242 1999 2216 2962 11342 1010 2021 2498 102\n"
          ],
          "name": "stderr"
        },
        {
          "output_type": "stream",
          "text": [
            "INFO:tensorflow:input_mask: 1 1 1 1 1 1 1 1 1 1 1 1 1 1 1 1 1 1 1 1 1 1 1 1 1 1 1 1 1 1 1 1 1 1 1 1 1 1 1 1 1 1 1 1 1 1 1 1 1 1 1 1 1 1 1 1 1 1 1 1 1 1 1 1 1 1 1 1 1 1 1 1 1 1 1 1 1 1 1 1 1 1 1 1 1 1 1 1 1 1 1 1 1 1 1 1 1 1 1 1 1 1 1 1 1 1 1 1 1 1 1 1 1 1 1 1 1 1 1 1 1 1 1 1 1 1 1 1\n"
          ],
          "name": "stdout"
        },
        {
          "output_type": "stream",
          "text": [
            "I0416 04:51:57.628088 140145314826112 run_classifier.py:466] input_mask: 1 1 1 1 1 1 1 1 1 1 1 1 1 1 1 1 1 1 1 1 1 1 1 1 1 1 1 1 1 1 1 1 1 1 1 1 1 1 1 1 1 1 1 1 1 1 1 1 1 1 1 1 1 1 1 1 1 1 1 1 1 1 1 1 1 1 1 1 1 1 1 1 1 1 1 1 1 1 1 1 1 1 1 1 1 1 1 1 1 1 1 1 1 1 1 1 1 1 1 1 1 1 1 1 1 1 1 1 1 1 1 1 1 1 1 1 1 1 1 1 1 1 1 1 1 1 1 1\n"
          ],
          "name": "stderr"
        },
        {
          "output_type": "stream",
          "text": [
            "INFO:tensorflow:segment_ids: 0 0 0 0 0 0 0 0 0 0 0 0 0 0 0 0 0 0 0 0 0 0 0 0 0 0 0 0 0 0 0 0 0 0 0 0 0 0 0 0 0 0 0 0 0 0 0 0 0 0 0 0 0 0 0 0 0 0 0 0 0 0 0 0 0 0 0 0 0 0 0 0 0 0 0 0 0 0 0 0 0 0 0 0 0 0 0 0 0 0 0 0 0 0 0 0 0 0 0 0 0 0 0 0 0 0 0 0 0 0 0 0 0 0 0 0 0 0 0 0 0 0 0 0 0 0 0 0\n"
          ],
          "name": "stdout"
        },
        {
          "output_type": "stream",
          "text": [
            "I0416 04:51:57.631407 140145314826112 run_classifier.py:467] segment_ids: 0 0 0 0 0 0 0 0 0 0 0 0 0 0 0 0 0 0 0 0 0 0 0 0 0 0 0 0 0 0 0 0 0 0 0 0 0 0 0 0 0 0 0 0 0 0 0 0 0 0 0 0 0 0 0 0 0 0 0 0 0 0 0 0 0 0 0 0 0 0 0 0 0 0 0 0 0 0 0 0 0 0 0 0 0 0 0 0 0 0 0 0 0 0 0 0 0 0 0 0 0 0 0 0 0 0 0 0 0 0 0 0 0 0 0 0 0 0 0 0 0 0 0 0 0 0 0 0\n"
          ],
          "name": "stderr"
        },
        {
          "output_type": "stream",
          "text": [
            "INFO:tensorflow:label: 1 (id = 0)\n"
          ],
          "name": "stdout"
        },
        {
          "output_type": "stream",
          "text": [
            "I0416 04:51:57.634097 140145314826112 run_classifier.py:468] label: 1 (id = 0)\n"
          ],
          "name": "stderr"
        },
        {
          "output_type": "stream",
          "text": [
            "INFO:tensorflow:*** Example ***\n"
          ],
          "name": "stdout"
        },
        {
          "output_type": "stream",
          "text": [
            "I0416 04:51:57.644265 140145314826112 run_classifier.py:461] *** Example ***\n"
          ],
          "name": "stderr"
        },
        {
          "output_type": "stream",
          "text": [
            "INFO:tensorflow:guid: None\n"
          ],
          "name": "stdout"
        },
        {
          "output_type": "stream",
          "text": [
            "I0416 04:51:57.648083 140145314826112 run_classifier.py:462] guid: None\n"
          ],
          "name": "stderr"
        },
        {
          "output_type": "stream",
          "text": [
            "INFO:tensorflow:tokens: [CLS] this is a gem . as a film four production - the anticipated quality was indeed delivered . shot with great style that reminded me some er ##rol morris films , well arranged and simply gripping . it ' s long yet ho ##rri ##fying to the point it ' s ex ##cr ##uc ##iating . we know something bad happened ( one can guess by the lack of participation of a person in the interviews ) but we are compelled to see it , a bit like a car accident in slow motion . the story spans most con ##ce ##iva ##ble aspects and unlike some documentaries did not try and refrain from showing the grimm ##er sides of the stories , as also dealing [SEP]\n"
          ],
          "name": "stdout"
        },
        {
          "output_type": "stream",
          "text": [
            "I0416 04:51:57.650119 140145314826112 run_classifier.py:464] tokens: [CLS] this is a gem . as a film four production - the anticipated quality was indeed delivered . shot with great style that reminded me some er ##rol morris films , well arranged and simply gripping . it ' s long yet ho ##rri ##fying to the point it ' s ex ##cr ##uc ##iating . we know something bad happened ( one can guess by the lack of participation of a person in the interviews ) but we are compelled to see it , a bit like a car accident in slow motion . the story spans most con ##ce ##iva ##ble aspects and unlike some documentaries did not try and refrain from showing the grimm ##er sides of the stories , as also dealing [SEP]\n"
          ],
          "name": "stderr"
        },
        {
          "output_type": "stream",
          "text": [
            "INFO:tensorflow:input_ids: 101 2023 2003 1037 17070 1012 2004 1037 2143 2176 2537 1011 1996 11436 3737 2001 5262 5359 1012 2915 2007 2307 2806 2008 6966 2033 2070 9413 13153 6384 3152 1010 2092 5412 1998 3432 13940 1012 2009 1005 1055 2146 2664 7570 18752 14116 2000 1996 2391 2009 1005 1055 4654 26775 14194 15370 1012 2057 2113 2242 2919 3047 1006 2028 2064 3984 2011 1996 3768 1997 6577 1997 1037 2711 1999 1996 7636 1007 2021 2057 2024 15055 2000 2156 2009 1010 1037 2978 2066 1037 2482 4926 1999 4030 4367 1012 1996 2466 14798 2087 9530 3401 11444 3468 5919 1998 4406 2070 15693 2106 2025 3046 1998 20703 2013 4760 1996 24287 2121 3903 1997 1996 3441 1010 2004 2036 7149 102\n"
          ],
          "name": "stdout"
        },
        {
          "output_type": "stream",
          "text": [
            "I0416 04:51:57.651927 140145314826112 run_classifier.py:465] input_ids: 101 2023 2003 1037 17070 1012 2004 1037 2143 2176 2537 1011 1996 11436 3737 2001 5262 5359 1012 2915 2007 2307 2806 2008 6966 2033 2070 9413 13153 6384 3152 1010 2092 5412 1998 3432 13940 1012 2009 1005 1055 2146 2664 7570 18752 14116 2000 1996 2391 2009 1005 1055 4654 26775 14194 15370 1012 2057 2113 2242 2919 3047 1006 2028 2064 3984 2011 1996 3768 1997 6577 1997 1037 2711 1999 1996 7636 1007 2021 2057 2024 15055 2000 2156 2009 1010 1037 2978 2066 1037 2482 4926 1999 4030 4367 1012 1996 2466 14798 2087 9530 3401 11444 3468 5919 1998 4406 2070 15693 2106 2025 3046 1998 20703 2013 4760 1996 24287 2121 3903 1997 1996 3441 1010 2004 2036 7149 102\n"
          ],
          "name": "stderr"
        },
        {
          "output_type": "stream",
          "text": [
            "INFO:tensorflow:input_mask: 1 1 1 1 1 1 1 1 1 1 1 1 1 1 1 1 1 1 1 1 1 1 1 1 1 1 1 1 1 1 1 1 1 1 1 1 1 1 1 1 1 1 1 1 1 1 1 1 1 1 1 1 1 1 1 1 1 1 1 1 1 1 1 1 1 1 1 1 1 1 1 1 1 1 1 1 1 1 1 1 1 1 1 1 1 1 1 1 1 1 1 1 1 1 1 1 1 1 1 1 1 1 1 1 1 1 1 1 1 1 1 1 1 1 1 1 1 1 1 1 1 1 1 1 1 1 1 1\n"
          ],
          "name": "stdout"
        },
        {
          "output_type": "stream",
          "text": [
            "I0416 04:51:57.655596 140145314826112 run_classifier.py:466] input_mask: 1 1 1 1 1 1 1 1 1 1 1 1 1 1 1 1 1 1 1 1 1 1 1 1 1 1 1 1 1 1 1 1 1 1 1 1 1 1 1 1 1 1 1 1 1 1 1 1 1 1 1 1 1 1 1 1 1 1 1 1 1 1 1 1 1 1 1 1 1 1 1 1 1 1 1 1 1 1 1 1 1 1 1 1 1 1 1 1 1 1 1 1 1 1 1 1 1 1 1 1 1 1 1 1 1 1 1 1 1 1 1 1 1 1 1 1 1 1 1 1 1 1 1 1 1 1 1 1\n"
          ],
          "name": "stderr"
        },
        {
          "output_type": "stream",
          "text": [
            "INFO:tensorflow:segment_ids: 0 0 0 0 0 0 0 0 0 0 0 0 0 0 0 0 0 0 0 0 0 0 0 0 0 0 0 0 0 0 0 0 0 0 0 0 0 0 0 0 0 0 0 0 0 0 0 0 0 0 0 0 0 0 0 0 0 0 0 0 0 0 0 0 0 0 0 0 0 0 0 0 0 0 0 0 0 0 0 0 0 0 0 0 0 0 0 0 0 0 0 0 0 0 0 0 0 0 0 0 0 0 0 0 0 0 0 0 0 0 0 0 0 0 0 0 0 0 0 0 0 0 0 0 0 0 0 0\n"
          ],
          "name": "stdout"
        },
        {
          "output_type": "stream",
          "text": [
            "I0416 04:51:57.657350 140145314826112 run_classifier.py:467] segment_ids: 0 0 0 0 0 0 0 0 0 0 0 0 0 0 0 0 0 0 0 0 0 0 0 0 0 0 0 0 0 0 0 0 0 0 0 0 0 0 0 0 0 0 0 0 0 0 0 0 0 0 0 0 0 0 0 0 0 0 0 0 0 0 0 0 0 0 0 0 0 0 0 0 0 0 0 0 0 0 0 0 0 0 0 0 0 0 0 0 0 0 0 0 0 0 0 0 0 0 0 0 0 0 0 0 0 0 0 0 0 0 0 0 0 0 0 0 0 0 0 0 0 0 0 0 0 0 0 0\n"
          ],
          "name": "stderr"
        },
        {
          "output_type": "stream",
          "text": [
            "INFO:tensorflow:label: 1 (id = 0)\n"
          ],
          "name": "stdout"
        },
        {
          "output_type": "stream",
          "text": [
            "I0416 04:51:57.660558 140145314826112 run_classifier.py:468] label: 1 (id = 0)\n"
          ],
          "name": "stderr"
        },
        {
          "output_type": "stream",
          "text": [
            "INFO:tensorflow:*** Example ***\n"
          ],
          "name": "stdout"
        },
        {
          "output_type": "stream",
          "text": [
            "I0416 04:51:57.669800 140145314826112 run_classifier.py:461] *** Example ***\n"
          ],
          "name": "stderr"
        },
        {
          "output_type": "stream",
          "text": [
            "INFO:tensorflow:guid: None\n"
          ],
          "name": "stdout"
        },
        {
          "output_type": "stream",
          "text": [
            "I0416 04:51:57.674120 140145314826112 run_classifier.py:462] guid: None\n"
          ],
          "name": "stderr"
        },
        {
          "output_type": "stream",
          "text": [
            "INFO:tensorflow:tokens: [CLS] i really like this show . it has drama , romance , and comedy all rolled into one . i am 28 and i am a married mother , so i can identify both with lore ##lei ' s and rory ' s experiences in the show . i have been watching mostly the repeats on the family channel lately , so i am not up - to - date on what is going on now . i think females would like this show more than males , but i know some men out there would enjoy it ! i really like that is an hour long and not a half hour , as th hour seems to fly by when i am watching it ! [SEP]\n"
          ],
          "name": "stdout"
        },
        {
          "output_type": "stream",
          "text": [
            "I0416 04:51:57.675688 140145314826112 run_classifier.py:464] tokens: [CLS] i really like this show . it has drama , romance , and comedy all rolled into one . i am 28 and i am a married mother , so i can identify both with lore ##lei ' s and rory ' s experiences in the show . i have been watching mostly the repeats on the family channel lately , so i am not up - to - date on what is going on now . i think females would like this show more than males , but i know some men out there would enjoy it ! i really like that is an hour long and not a half hour , as th hour seems to fly by when i am watching it ! [SEP]\n"
          ],
          "name": "stderr"
        },
        {
          "output_type": "stream",
          "text": [
            "INFO:tensorflow:input_ids: 101 1045 2428 2066 2023 2265 1012 2009 2038 3689 1010 7472 1010 1998 4038 2035 4565 2046 2028 1012 1045 2572 2654 1998 1045 2572 1037 2496 2388 1010 2061 1045 2064 6709 2119 2007 19544 23057 1005 1055 1998 14285 1005 1055 6322 1999 1996 2265 1012 1045 2031 2042 3666 3262 1996 17993 2006 1996 2155 3149 9906 1010 2061 1045 2572 2025 2039 1011 2000 1011 3058 2006 2054 2003 2183 2006 2085 1012 1045 2228 3801 2052 2066 2023 2265 2062 2084 3767 1010 2021 1045 2113 2070 2273 2041 2045 2052 5959 2009 999 1045 2428 2066 2008 2003 2019 3178 2146 1998 2025 1037 2431 3178 1010 2004 16215 3178 3849 2000 4875 2011 2043 1045 2572 3666 2009 999 102\n"
          ],
          "name": "stdout"
        },
        {
          "output_type": "stream",
          "text": [
            "I0416 04:51:57.679546 140145314826112 run_classifier.py:465] input_ids: 101 1045 2428 2066 2023 2265 1012 2009 2038 3689 1010 7472 1010 1998 4038 2035 4565 2046 2028 1012 1045 2572 2654 1998 1045 2572 1037 2496 2388 1010 2061 1045 2064 6709 2119 2007 19544 23057 1005 1055 1998 14285 1005 1055 6322 1999 1996 2265 1012 1045 2031 2042 3666 3262 1996 17993 2006 1996 2155 3149 9906 1010 2061 1045 2572 2025 2039 1011 2000 1011 3058 2006 2054 2003 2183 2006 2085 1012 1045 2228 3801 2052 2066 2023 2265 2062 2084 3767 1010 2021 1045 2113 2070 2273 2041 2045 2052 5959 2009 999 1045 2428 2066 2008 2003 2019 3178 2146 1998 2025 1037 2431 3178 1010 2004 16215 3178 3849 2000 4875 2011 2043 1045 2572 3666 2009 999 102\n"
          ],
          "name": "stderr"
        },
        {
          "output_type": "stream",
          "text": [
            "INFO:tensorflow:input_mask: 1 1 1 1 1 1 1 1 1 1 1 1 1 1 1 1 1 1 1 1 1 1 1 1 1 1 1 1 1 1 1 1 1 1 1 1 1 1 1 1 1 1 1 1 1 1 1 1 1 1 1 1 1 1 1 1 1 1 1 1 1 1 1 1 1 1 1 1 1 1 1 1 1 1 1 1 1 1 1 1 1 1 1 1 1 1 1 1 1 1 1 1 1 1 1 1 1 1 1 1 1 1 1 1 1 1 1 1 1 1 1 1 1 1 1 1 1 1 1 1 1 1 1 1 1 1 1 1\n"
          ],
          "name": "stdout"
        },
        {
          "output_type": "stream",
          "text": [
            "I0416 04:51:57.681056 140145314826112 run_classifier.py:466] input_mask: 1 1 1 1 1 1 1 1 1 1 1 1 1 1 1 1 1 1 1 1 1 1 1 1 1 1 1 1 1 1 1 1 1 1 1 1 1 1 1 1 1 1 1 1 1 1 1 1 1 1 1 1 1 1 1 1 1 1 1 1 1 1 1 1 1 1 1 1 1 1 1 1 1 1 1 1 1 1 1 1 1 1 1 1 1 1 1 1 1 1 1 1 1 1 1 1 1 1 1 1 1 1 1 1 1 1 1 1 1 1 1 1 1 1 1 1 1 1 1 1 1 1 1 1 1 1 1 1\n"
          ],
          "name": "stderr"
        },
        {
          "output_type": "stream",
          "text": [
            "INFO:tensorflow:segment_ids: 0 0 0 0 0 0 0 0 0 0 0 0 0 0 0 0 0 0 0 0 0 0 0 0 0 0 0 0 0 0 0 0 0 0 0 0 0 0 0 0 0 0 0 0 0 0 0 0 0 0 0 0 0 0 0 0 0 0 0 0 0 0 0 0 0 0 0 0 0 0 0 0 0 0 0 0 0 0 0 0 0 0 0 0 0 0 0 0 0 0 0 0 0 0 0 0 0 0 0 0 0 0 0 0 0 0 0 0 0 0 0 0 0 0 0 0 0 0 0 0 0 0 0 0 0 0 0 0\n"
          ],
          "name": "stdout"
        },
        {
          "output_type": "stream",
          "text": [
            "I0416 04:51:57.685463 140145314826112 run_classifier.py:467] segment_ids: 0 0 0 0 0 0 0 0 0 0 0 0 0 0 0 0 0 0 0 0 0 0 0 0 0 0 0 0 0 0 0 0 0 0 0 0 0 0 0 0 0 0 0 0 0 0 0 0 0 0 0 0 0 0 0 0 0 0 0 0 0 0 0 0 0 0 0 0 0 0 0 0 0 0 0 0 0 0 0 0 0 0 0 0 0 0 0 0 0 0 0 0 0 0 0 0 0 0 0 0 0 0 0 0 0 0 0 0 0 0 0 0 0 0 0 0 0 0 0 0 0 0 0 0 0 0 0 0\n"
          ],
          "name": "stderr"
        },
        {
          "output_type": "stream",
          "text": [
            "INFO:tensorflow:label: 1 (id = 0)\n"
          ],
          "name": "stdout"
        },
        {
          "output_type": "stream",
          "text": [
            "I0416 04:51:57.686902 140145314826112 run_classifier.py:468] label: 1 (id = 0)\n"
          ],
          "name": "stderr"
        },
        {
          "output_type": "stream",
          "text": [
            "INFO:tensorflow:*** Example ***\n"
          ],
          "name": "stdout"
        },
        {
          "output_type": "stream",
          "text": [
            "I0416 04:51:57.693561 140145314826112 run_classifier.py:461] *** Example ***\n"
          ],
          "name": "stderr"
        },
        {
          "output_type": "stream",
          "text": [
            "INFO:tensorflow:guid: None\n"
          ],
          "name": "stdout"
        },
        {
          "output_type": "stream",
          "text": [
            "I0416 04:51:57.697972 140145314826112 run_classifier.py:462] guid: None\n"
          ],
          "name": "stderr"
        },
        {
          "output_type": "stream",
          "text": [
            "INFO:tensorflow:tokens: [CLS] this is the best 3 - d experience disney has at their theme ##park ##s . this is certainly better than their original 1960 ' s acid - trip film that was in it ' s place , is leagues better than \" honey i sh ##run ##k the audience \" ( and far more fun ) , barely squeak ##s by the mu ##ppet ##vision 3 - d movie at disney - mgm and can even beat the original 3 - d \" movie experience \" captain e ##o . this film re ##li ##ves some of disney ' s greatest musical hits from ala ##ddin , the little mermaid , and others , and brought a smile to my face throughout the entire show [SEP]\n"
          ],
          "name": "stdout"
        },
        {
          "output_type": "stream",
          "text": [
            "I0416 04:51:57.701586 140145314826112 run_classifier.py:464] tokens: [CLS] this is the best 3 - d experience disney has at their theme ##park ##s . this is certainly better than their original 1960 ' s acid - trip film that was in it ' s place , is leagues better than \" honey i sh ##run ##k the audience \" ( and far more fun ) , barely squeak ##s by the mu ##ppet ##vision 3 - d movie at disney - mgm and can even beat the original 3 - d \" movie experience \" captain e ##o . this film re ##li ##ves some of disney ' s greatest musical hits from ala ##ddin , the little mermaid , and others , and brought a smile to my face throughout the entire show [SEP]\n"
          ],
          "name": "stderr"
        },
        {
          "output_type": "stream",
          "text": [
            "INFO:tensorflow:input_ids: 101 2023 2003 1996 2190 1017 1011 1040 3325 6373 2038 2012 2037 4323 14432 2015 1012 2023 2003 5121 2488 2084 2037 2434 3624 1005 1055 5648 1011 4440 2143 2008 2001 1999 2009 1005 1055 2173 1010 2003 8121 2488 2084 1000 6861 1045 14021 15532 2243 1996 4378 1000 1006 1998 2521 2062 4569 1007 1010 4510 29552 2015 2011 1996 14163 29519 17084 1017 1011 1040 3185 2012 6373 1011 15418 1998 2064 2130 3786 1996 2434 1017 1011 1040 1000 3185 3325 1000 2952 1041 2080 1012 2023 2143 2128 3669 6961 2070 1997 6373 1005 1055 4602 3315 4978 2013 21862 18277 1010 1996 2210 22322 1010 1998 2500 1010 1998 2716 1037 2868 2000 2026 2227 2802 1996 2972 2265 102\n"
          ],
          "name": "stdout"
        },
        {
          "output_type": "stream",
          "text": [
            "I0416 04:51:57.705159 140145314826112 run_classifier.py:465] input_ids: 101 2023 2003 1996 2190 1017 1011 1040 3325 6373 2038 2012 2037 4323 14432 2015 1012 2023 2003 5121 2488 2084 2037 2434 3624 1005 1055 5648 1011 4440 2143 2008 2001 1999 2009 1005 1055 2173 1010 2003 8121 2488 2084 1000 6861 1045 14021 15532 2243 1996 4378 1000 1006 1998 2521 2062 4569 1007 1010 4510 29552 2015 2011 1996 14163 29519 17084 1017 1011 1040 3185 2012 6373 1011 15418 1998 2064 2130 3786 1996 2434 1017 1011 1040 1000 3185 3325 1000 2952 1041 2080 1012 2023 2143 2128 3669 6961 2070 1997 6373 1005 1055 4602 3315 4978 2013 21862 18277 1010 1996 2210 22322 1010 1998 2500 1010 1998 2716 1037 2868 2000 2026 2227 2802 1996 2972 2265 102\n"
          ],
          "name": "stderr"
        },
        {
          "output_type": "stream",
          "text": [
            "INFO:tensorflow:input_mask: 1 1 1 1 1 1 1 1 1 1 1 1 1 1 1 1 1 1 1 1 1 1 1 1 1 1 1 1 1 1 1 1 1 1 1 1 1 1 1 1 1 1 1 1 1 1 1 1 1 1 1 1 1 1 1 1 1 1 1 1 1 1 1 1 1 1 1 1 1 1 1 1 1 1 1 1 1 1 1 1 1 1 1 1 1 1 1 1 1 1 1 1 1 1 1 1 1 1 1 1 1 1 1 1 1 1 1 1 1 1 1 1 1 1 1 1 1 1 1 1 1 1 1 1 1 1 1 1\n"
          ],
          "name": "stdout"
        },
        {
          "output_type": "stream",
          "text": [
            "I0416 04:51:57.707881 140145314826112 run_classifier.py:466] input_mask: 1 1 1 1 1 1 1 1 1 1 1 1 1 1 1 1 1 1 1 1 1 1 1 1 1 1 1 1 1 1 1 1 1 1 1 1 1 1 1 1 1 1 1 1 1 1 1 1 1 1 1 1 1 1 1 1 1 1 1 1 1 1 1 1 1 1 1 1 1 1 1 1 1 1 1 1 1 1 1 1 1 1 1 1 1 1 1 1 1 1 1 1 1 1 1 1 1 1 1 1 1 1 1 1 1 1 1 1 1 1 1 1 1 1 1 1 1 1 1 1 1 1 1 1 1 1 1 1\n"
          ],
          "name": "stderr"
        },
        {
          "output_type": "stream",
          "text": [
            "INFO:tensorflow:segment_ids: 0 0 0 0 0 0 0 0 0 0 0 0 0 0 0 0 0 0 0 0 0 0 0 0 0 0 0 0 0 0 0 0 0 0 0 0 0 0 0 0 0 0 0 0 0 0 0 0 0 0 0 0 0 0 0 0 0 0 0 0 0 0 0 0 0 0 0 0 0 0 0 0 0 0 0 0 0 0 0 0 0 0 0 0 0 0 0 0 0 0 0 0 0 0 0 0 0 0 0 0 0 0 0 0 0 0 0 0 0 0 0 0 0 0 0 0 0 0 0 0 0 0 0 0 0 0 0 0\n"
          ],
          "name": "stdout"
        },
        {
          "output_type": "stream",
          "text": [
            "I0416 04:51:57.712443 140145314826112 run_classifier.py:467] segment_ids: 0 0 0 0 0 0 0 0 0 0 0 0 0 0 0 0 0 0 0 0 0 0 0 0 0 0 0 0 0 0 0 0 0 0 0 0 0 0 0 0 0 0 0 0 0 0 0 0 0 0 0 0 0 0 0 0 0 0 0 0 0 0 0 0 0 0 0 0 0 0 0 0 0 0 0 0 0 0 0 0 0 0 0 0 0 0 0 0 0 0 0 0 0 0 0 0 0 0 0 0 0 0 0 0 0 0 0 0 0 0 0 0 0 0 0 0 0 0 0 0 0 0 0 0 0 0 0 0\n"
          ],
          "name": "stderr"
        },
        {
          "output_type": "stream",
          "text": [
            "INFO:tensorflow:label: 1 (id = 0)\n"
          ],
          "name": "stdout"
        },
        {
          "output_type": "stream",
          "text": [
            "I0416 04:51:57.715592 140145314826112 run_classifier.py:468] label: 1 (id = 0)\n"
          ],
          "name": "stderr"
        },
        {
          "output_type": "stream",
          "text": [
            "INFO:tensorflow:*** Example ***\n"
          ],
          "name": "stdout"
        },
        {
          "output_type": "stream",
          "text": [
            "I0416 04:51:57.724790 140145314826112 run_classifier.py:461] *** Example ***\n"
          ],
          "name": "stderr"
        },
        {
          "output_type": "stream",
          "text": [
            "INFO:tensorflow:guid: None\n"
          ],
          "name": "stdout"
        },
        {
          "output_type": "stream",
          "text": [
            "I0416 04:51:57.726907 140145314826112 run_classifier.py:462] guid: None\n"
          ],
          "name": "stderr"
        },
        {
          "output_type": "stream",
          "text": [
            "INFO:tensorflow:tokens: [CLS] of the korean movies i ' ve seen , only three had really stuck with me . the first is the excellent horror a tale of two sisters . the second and third - and now fourth too - have all been park chan woo ##k ' s movies , namely old ##boy , sympathy for lady vengeance ) , and now thirst . < br / > < br / > park kinda reminds me of quentin tara ##ntino with his ir ##re ##vere ##nce towards convention . all his movies are shocking , but not in a gr ##at ##uit ##ous sense . it ' s more like he shows us what we don ' t expect to see - typically situations that go [SEP]\n"
          ],
          "name": "stdout"
        },
        {
          "output_type": "stream",
          "text": [
            "I0416 04:51:57.731398 140145314826112 run_classifier.py:464] tokens: [CLS] of the korean movies i ' ve seen , only three had really stuck with me . the first is the excellent horror a tale of two sisters . the second and third - and now fourth too - have all been park chan woo ##k ' s movies , namely old ##boy , sympathy for lady vengeance ) , and now thirst . < br / > < br / > park kinda reminds me of quentin tara ##ntino with his ir ##re ##vere ##nce towards convention . all his movies are shocking , but not in a gr ##at ##uit ##ous sense . it ' s more like he shows us what we don ' t expect to see - typically situations that go [SEP]\n"
          ],
          "name": "stderr"
        },
        {
          "output_type": "stream",
          "text": [
            "INFO:tensorflow:input_ids: 101 1997 1996 4759 5691 1045 1005 2310 2464 1010 2069 2093 2018 2428 5881 2007 2033 1012 1996 2034 2003 1996 6581 5469 1037 6925 1997 2048 5208 1012 1996 2117 1998 2353 1011 1998 2085 2959 2205 1011 2031 2035 2042 2380 9212 15854 2243 1005 1055 5691 1010 8419 2214 11097 1010 11883 2005 3203 14096 1007 1010 1998 2085 21810 1012 1026 7987 1013 1028 1026 7987 1013 1028 2380 17704 15537 2033 1997 15969 10225 25318 2007 2010 20868 2890 28943 5897 2875 4680 1012 2035 2010 5691 2024 16880 1010 2021 2025 1999 1037 24665 4017 14663 3560 3168 1012 2009 1005 1055 2062 2066 2002 3065 2149 2054 2057 2123 1005 1056 5987 2000 2156 1011 4050 8146 2008 2175 102\n"
          ],
          "name": "stdout"
        },
        {
          "output_type": "stream",
          "text": [
            "I0416 04:51:57.734772 140145314826112 run_classifier.py:465] input_ids: 101 1997 1996 4759 5691 1045 1005 2310 2464 1010 2069 2093 2018 2428 5881 2007 2033 1012 1996 2034 2003 1996 6581 5469 1037 6925 1997 2048 5208 1012 1996 2117 1998 2353 1011 1998 2085 2959 2205 1011 2031 2035 2042 2380 9212 15854 2243 1005 1055 5691 1010 8419 2214 11097 1010 11883 2005 3203 14096 1007 1010 1998 2085 21810 1012 1026 7987 1013 1028 1026 7987 1013 1028 2380 17704 15537 2033 1997 15969 10225 25318 2007 2010 20868 2890 28943 5897 2875 4680 1012 2035 2010 5691 2024 16880 1010 2021 2025 1999 1037 24665 4017 14663 3560 3168 1012 2009 1005 1055 2062 2066 2002 3065 2149 2054 2057 2123 1005 1056 5987 2000 2156 1011 4050 8146 2008 2175 102\n"
          ],
          "name": "stderr"
        },
        {
          "output_type": "stream",
          "text": [
            "INFO:tensorflow:input_mask: 1 1 1 1 1 1 1 1 1 1 1 1 1 1 1 1 1 1 1 1 1 1 1 1 1 1 1 1 1 1 1 1 1 1 1 1 1 1 1 1 1 1 1 1 1 1 1 1 1 1 1 1 1 1 1 1 1 1 1 1 1 1 1 1 1 1 1 1 1 1 1 1 1 1 1 1 1 1 1 1 1 1 1 1 1 1 1 1 1 1 1 1 1 1 1 1 1 1 1 1 1 1 1 1 1 1 1 1 1 1 1 1 1 1 1 1 1 1 1 1 1 1 1 1 1 1 1 1\n"
          ],
          "name": "stdout"
        },
        {
          "output_type": "stream",
          "text": [
            "I0416 04:51:57.739109 140145314826112 run_classifier.py:466] input_mask: 1 1 1 1 1 1 1 1 1 1 1 1 1 1 1 1 1 1 1 1 1 1 1 1 1 1 1 1 1 1 1 1 1 1 1 1 1 1 1 1 1 1 1 1 1 1 1 1 1 1 1 1 1 1 1 1 1 1 1 1 1 1 1 1 1 1 1 1 1 1 1 1 1 1 1 1 1 1 1 1 1 1 1 1 1 1 1 1 1 1 1 1 1 1 1 1 1 1 1 1 1 1 1 1 1 1 1 1 1 1 1 1 1 1 1 1 1 1 1 1 1 1 1 1 1 1 1 1\n"
          ],
          "name": "stderr"
        },
        {
          "output_type": "stream",
          "text": [
            "INFO:tensorflow:segment_ids: 0 0 0 0 0 0 0 0 0 0 0 0 0 0 0 0 0 0 0 0 0 0 0 0 0 0 0 0 0 0 0 0 0 0 0 0 0 0 0 0 0 0 0 0 0 0 0 0 0 0 0 0 0 0 0 0 0 0 0 0 0 0 0 0 0 0 0 0 0 0 0 0 0 0 0 0 0 0 0 0 0 0 0 0 0 0 0 0 0 0 0 0 0 0 0 0 0 0 0 0 0 0 0 0 0 0 0 0 0 0 0 0 0 0 0 0 0 0 0 0 0 0 0 0 0 0 0 0\n"
          ],
          "name": "stdout"
        },
        {
          "output_type": "stream",
          "text": [
            "I0416 04:51:57.740675 140145314826112 run_classifier.py:467] segment_ids: 0 0 0 0 0 0 0 0 0 0 0 0 0 0 0 0 0 0 0 0 0 0 0 0 0 0 0 0 0 0 0 0 0 0 0 0 0 0 0 0 0 0 0 0 0 0 0 0 0 0 0 0 0 0 0 0 0 0 0 0 0 0 0 0 0 0 0 0 0 0 0 0 0 0 0 0 0 0 0 0 0 0 0 0 0 0 0 0 0 0 0 0 0 0 0 0 0 0 0 0 0 0 0 0 0 0 0 0 0 0 0 0 0 0 0 0 0 0 0 0 0 0 0 0 0 0 0 0\n"
          ],
          "name": "stderr"
        },
        {
          "output_type": "stream",
          "text": [
            "INFO:tensorflow:label: 1 (id = 0)\n"
          ],
          "name": "stdout"
        },
        {
          "output_type": "stream",
          "text": [
            "I0416 04:51:57.744330 140145314826112 run_classifier.py:468] label: 1 (id = 0)\n"
          ],
          "name": "stderr"
        },
        {
          "output_type": "stream",
          "text": [
            "INFO:tensorflow:Writing example 10000 of 25000\n"
          ],
          "name": "stdout"
        },
        {
          "output_type": "stream",
          "text": [
            "I0416 04:53:03.503201 140145314826112 run_classifier.py:774] Writing example 10000 of 25000\n"
          ],
          "name": "stderr"
        },
        {
          "output_type": "stream",
          "text": [
            "INFO:tensorflow:Writing example 20000 of 25000\n"
          ],
          "name": "stdout"
        },
        {
          "output_type": "stream",
          "text": [
            "I0416 04:54:10.384610 140145314826112 run_classifier.py:774] Writing example 20000 of 25000\n"
          ],
          "name": "stderr"
        },
        {
          "output_type": "stream",
          "text": [
            "INFO:tensorflow:Using config: {'_model_dir': 'output', '_tf_random_seed': None, '_save_summary_steps': 100, '_save_checkpoints_steps': 10000, '_save_checkpoints_secs': None, '_session_config': allow_soft_placement: true\n",
            "graph_options {\n",
            "  rewrite_options {\n",
            "    meta_optimizer_iterations: ONE\n",
            "  }\n",
            "}\n",
            ", '_keep_checkpoint_max': 5, '_keep_checkpoint_every_n_hours': 10000, '_log_step_count_steps': 100, '_train_distribute': None, '_device_fn': None, '_protocol': None, '_eval_distribute': None, '_experimental_distribute': None, '_service': None, '_cluster_spec': <tensorflow.python.training.server_lib.ClusterSpec object at 0x7f759990d780>, '_task_type': 'worker', '_task_id': 0, '_global_id_in_cluster': 0, '_master': '', '_evaluation_master': '', '_is_chief': True, '_num_ps_replicas': 0, '_num_worker_replicas': 1}\n"
          ],
          "name": "stdout"
        },
        {
          "output_type": "stream",
          "text": [
            "I0416 04:54:43.841277 140145314826112 estimator.py:201] Using config: {'_model_dir': 'output', '_tf_random_seed': None, '_save_summary_steps': 100, '_save_checkpoints_steps': 10000, '_save_checkpoints_secs': None, '_session_config': allow_soft_placement: true\n",
            "graph_options {\n",
            "  rewrite_options {\n",
            "    meta_optimizer_iterations: ONE\n",
            "  }\n",
            "}\n",
            ", '_keep_checkpoint_max': 5, '_keep_checkpoint_every_n_hours': 10000, '_log_step_count_steps': 100, '_train_distribute': None, '_device_fn': None, '_protocol': None, '_eval_distribute': None, '_experimental_distribute': None, '_service': None, '_cluster_spec': <tensorflow.python.training.server_lib.ClusterSpec object at 0x7f759990d780>, '_task_type': 'worker', '_task_id': 0, '_global_id_in_cluster': 0, '_master': '', '_evaluation_master': '', '_is_chief': True, '_num_ps_replicas': 0, '_num_worker_replicas': 1}\n"
          ],
          "name": "stderr"
        },
        {
          "output_type": "stream",
          "text": [
            "INFO:tensorflow:Calling model_fn.\n"
          ],
          "name": "stdout"
        },
        {
          "output_type": "stream",
          "text": [
            "I0416 04:55:03.052284 140145314826112 estimator.py:1111] Calling model_fn.\n"
          ],
          "name": "stderr"
        },
        {
          "output_type": "stream",
          "text": [
            "INFO:tensorflow:Saver not created because there are no variables in the graph to restore\n"
          ],
          "name": "stdout"
        },
        {
          "output_type": "stream",
          "text": [
            "I0416 04:55:08.622531 140145314826112 saver.py:1483] Saver not created because there are no variables in the graph to restore\n"
          ],
          "name": "stderr"
        },
        {
          "output_type": "stream",
          "text": [
            "WARNING:tensorflow:From /usr/local/lib/python3.6/dist-packages/bert_text/bert_text.py:68: calling dropout (from tensorflow.python.ops.nn_ops) with keep_prob is deprecated and will be removed in a future version.\n",
            "Instructions for updating:\n",
            "Please use `rate` instead of `keep_prob`. Rate should be set to `rate = 1 - keep_prob`.\n"
          ],
          "name": "stdout"
        },
        {
          "output_type": "stream",
          "text": [
            "W0416 04:55:08.832897 140145314826112 deprecation.py:506] From /usr/local/lib/python3.6/dist-packages/bert_text/bert_text.py:68: calling dropout (from tensorflow.python.ops.nn_ops) with keep_prob is deprecated and will be removed in a future version.\n",
            "Instructions for updating:\n",
            "Please use `rate` instead of `keep_prob`. Rate should be set to `rate = 1 - keep_prob`.\n"
          ],
          "name": "stderr"
        },
        {
          "output_type": "stream",
          "text": [
            "WARNING:tensorflow:From /usr/local/lib/python3.6/dist-packages/tensorflow/python/training/learning_rate_decay_v2.py:321: div (from tensorflow.python.ops.math_ops) is deprecated and will be removed in a future version.\n",
            "Instructions for updating:\n",
            "Deprecated in favor of operator or tf.math.divide.\n"
          ],
          "name": "stdout"
        },
        {
          "output_type": "stream",
          "text": [
            "W0416 04:55:08.915641 140145314826112 deprecation.py:323] From /usr/local/lib/python3.6/dist-packages/tensorflow/python/training/learning_rate_decay_v2.py:321: div (from tensorflow.python.ops.math_ops) is deprecated and will be removed in a future version.\n",
            "Instructions for updating:\n",
            "Deprecated in favor of operator or tf.math.divide.\n"
          ],
          "name": "stderr"
        },
        {
          "output_type": "stream",
          "text": [
            "WARNING:tensorflow:From /usr/local/lib/python3.6/dist-packages/tensorflow/python/ops/math_ops.py:3066: to_int32 (from tensorflow.python.ops.math_ops) is deprecated and will be removed in a future version.\n",
            "Instructions for updating:\n",
            "Use tf.cast instead.\n"
          ],
          "name": "stdout"
        },
        {
          "output_type": "stream",
          "text": [
            "W0416 04:55:09.041260 140145314826112 deprecation.py:323] From /usr/local/lib/python3.6/dist-packages/tensorflow/python/ops/math_ops.py:3066: to_int32 (from tensorflow.python.ops.math_ops) is deprecated and will be removed in a future version.\n",
            "Instructions for updating:\n",
            "Use tf.cast instead.\n",
            "/usr/local/lib/python3.6/dist-packages/tensorflow/python/ops/gradients_impl.py:110: UserWarning: Converting sparse IndexedSlices to a dense Tensor of unknown shape. This may consume a large amount of memory.\n",
            "  \"Converting sparse IndexedSlices to a dense Tensor of unknown shape. \"\n"
          ],
          "name": "stderr"
        },
        {
          "output_type": "stream",
          "text": [
            "WARNING:tensorflow:From /usr/local/lib/python3.6/dist-packages/tensorflow/python/ops/metrics_impl.py:455: to_float (from tensorflow.python.ops.math_ops) is deprecated and will be removed in a future version.\n",
            "Instructions for updating:\n",
            "Use tf.cast instead.\n"
          ],
          "name": "stdout"
        },
        {
          "output_type": "stream",
          "text": [
            "W0416 04:55:22.040226 140145314826112 deprecation.py:323] From /usr/local/lib/python3.6/dist-packages/tensorflow/python/ops/metrics_impl.py:455: to_float (from tensorflow.python.ops.math_ops) is deprecated and will be removed in a future version.\n",
            "Instructions for updating:\n",
            "Use tf.cast instead.\n"
          ],
          "name": "stderr"
        },
        {
          "output_type": "stream",
          "text": [
            "\n",
            "WARNING: The TensorFlow contrib module will not be included in TensorFlow 2.0.\n",
            "For more information, please see:\n",
            "  * https://github.com/tensorflow/community/blob/master/rfcs/20180907-contrib-sunset.md\n",
            "  * https://github.com/tensorflow/addons\n",
            "If you depend on functionality not listed there, please file an issue.\n",
            "\n",
            "INFO:tensorflow:Done calling model_fn.\n"
          ],
          "name": "stdout"
        },
        {
          "output_type": "stream",
          "text": [
            "I0416 04:55:25.798954 140145314826112 estimator.py:1113] Done calling model_fn.\n"
          ],
          "name": "stderr"
        },
        {
          "output_type": "stream",
          "text": [
            "INFO:tensorflow:Create CheckpointSaverHook.\n"
          ],
          "name": "stdout"
        },
        {
          "output_type": "stream",
          "text": [
            "I0416 04:55:25.803534 140145314826112 basic_session_run_hooks.py:527] Create CheckpointSaverHook.\n"
          ],
          "name": "stderr"
        },
        {
          "output_type": "stream",
          "text": [
            "INFO:tensorflow:Graph was finalized.\n"
          ],
          "name": "stdout"
        },
        {
          "output_type": "stream",
          "text": [
            "I0416 04:55:32.308116 140145314826112 monitored_session.py:222] Graph was finalized.\n"
          ],
          "name": "stderr"
        },
        {
          "output_type": "stream",
          "text": [
            "INFO:tensorflow:Running local_init_op.\n"
          ],
          "name": "stdout"
        },
        {
          "output_type": "stream",
          "text": [
            "I0416 04:55:40.753434 140145314826112 session_manager.py:491] Running local_init_op.\n"
          ],
          "name": "stderr"
        },
        {
          "output_type": "stream",
          "text": [
            "INFO:tensorflow:Done running local_init_op.\n"
          ],
          "name": "stdout"
        },
        {
          "output_type": "stream",
          "text": [
            "I0416 04:55:41.223641 140145314826112 session_manager.py:493] Done running local_init_op.\n"
          ],
          "name": "stderr"
        },
        {
          "output_type": "stream",
          "text": [
            "INFO:tensorflow:Saving checkpoints for 0 into output/model.ckpt.\n"
          ],
          "name": "stdout"
        },
        {
          "output_type": "stream",
          "text": [
            "I0416 04:56:10.763093 140145314826112 basic_session_run_hooks.py:594] Saving checkpoints for 0 into output/model.ckpt.\n"
          ],
          "name": "stderr"
        },
        {
          "output_type": "stream",
          "text": [
            "INFO:tensorflow:loss = 0.7086415, step = 0\n"
          ],
          "name": "stdout"
        },
        {
          "output_type": "stream",
          "text": [
            "I0416 04:56:34.977927 140145314826112 basic_session_run_hooks.py:249] loss = 0.7086415, step = 0\n"
          ],
          "name": "stderr"
        },
        {
          "output_type": "stream",
          "text": [
            "INFO:tensorflow:global_step/sec: 0.696637\n"
          ],
          "name": "stdout"
        },
        {
          "output_type": "stream",
          "text": [
            "I0416 04:58:58.523508 140145314826112 basic_session_run_hooks.py:680] global_step/sec: 0.696637\n"
          ],
          "name": "stderr"
        },
        {
          "output_type": "stream",
          "text": [
            "INFO:tensorflow:loss = 0.32285193, step = 100 (143.549 sec)\n"
          ],
          "name": "stdout"
        },
        {
          "output_type": "stream",
          "text": [
            "I0416 04:58:58.527282 140145314826112 basic_session_run_hooks.py:247] loss = 0.32285193, step = 100 (143.549 sec)\n"
          ],
          "name": "stderr"
        },
        {
          "output_type": "stream",
          "text": [
            "INFO:tensorflow:global_step/sec: 0.779069\n"
          ],
          "name": "stdout"
        },
        {
          "output_type": "stream",
          "text": [
            "I0416 05:01:06.881904 140145314826112 basic_session_run_hooks.py:680] global_step/sec: 0.779069\n"
          ],
          "name": "stderr"
        },
        {
          "output_type": "stream",
          "text": [
            "INFO:tensorflow:loss = 0.29961243, step = 200 (128.358 sec)\n"
          ],
          "name": "stdout"
        },
        {
          "output_type": "stream",
          "text": [
            "I0416 05:01:06.884894 140145314826112 basic_session_run_hooks.py:247] loss = 0.29961243, step = 200 (128.358 sec)\n"
          ],
          "name": "stderr"
        },
        {
          "output_type": "stream",
          "text": [
            "INFO:tensorflow:global_step/sec: 0.724428\n"
          ],
          "name": "stdout"
        },
        {
          "output_type": "stream",
          "text": [
            "I0416 05:03:24.921798 140145314826112 basic_session_run_hooks.py:680] global_step/sec: 0.724428\n"
          ],
          "name": "stderr"
        },
        {
          "output_type": "stream",
          "text": [
            "INFO:tensorflow:loss = 0.4129058, step = 300 (138.045 sec)\n"
          ],
          "name": "stdout"
        },
        {
          "output_type": "stream",
          "text": [
            "I0416 05:03:24.929795 140145314826112 basic_session_run_hooks.py:247] loss = 0.4129058, step = 300 (138.045 sec)\n"
          ],
          "name": "stderr"
        },
        {
          "output_type": "stream",
          "text": [
            "INFO:tensorflow:global_step/sec: 0.798493\n"
          ],
          "name": "stdout"
        },
        {
          "output_type": "stream",
          "text": [
            "I0416 05:05:30.157785 140145314826112 basic_session_run_hooks.py:680] global_step/sec: 0.798493\n"
          ],
          "name": "stderr"
        },
        {
          "output_type": "stream",
          "text": [
            "INFO:tensorflow:loss = 0.21045431, step = 400 (125.235 sec)\n"
          ],
          "name": "stdout"
        },
        {
          "output_type": "stream",
          "text": [
            "I0416 05:05:30.164552 140145314826112 basic_session_run_hooks.py:247] loss = 0.21045431, step = 400 (125.235 sec)\n"
          ],
          "name": "stderr"
        },
        {
          "output_type": "stream",
          "text": [
            "INFO:tensorflow:global_step/sec: 0.799679\n"
          ],
          "name": "stdout"
        },
        {
          "output_type": "stream",
          "text": [
            "I0416 05:07:35.207892 140145314826112 basic_session_run_hooks.py:680] global_step/sec: 0.799679\n"
          ],
          "name": "stderr"
        },
        {
          "output_type": "stream",
          "text": [
            "INFO:tensorflow:loss = 0.30612874, step = 500 (125.051 sec)\n"
          ],
          "name": "stdout"
        },
        {
          "output_type": "stream",
          "text": [
            "I0416 05:07:35.215901 140145314826112 basic_session_run_hooks.py:247] loss = 0.30612874, step = 500 (125.051 sec)\n"
          ],
          "name": "stderr"
        },
        {
          "output_type": "stream",
          "text": [
            "INFO:tensorflow:global_step/sec: 0.799144\n"
          ],
          "name": "stdout"
        },
        {
          "output_type": "stream",
          "text": [
            "I0416 05:09:40.341810 140145314826112 basic_session_run_hooks.py:680] global_step/sec: 0.799144\n"
          ],
          "name": "stderr"
        },
        {
          "output_type": "stream",
          "text": [
            "INFO:tensorflow:loss = 0.22648387, step = 601 (125.134 sec)\n"
          ],
          "name": "stdout"
        },
        {
          "output_type": "stream",
          "text": [
            "I0416 05:09:40.350319 140145314826112 basic_session_run_hooks.py:247] loss = 0.22648387, step = 601 (125.134 sec)\n"
          ],
          "name": "stderr"
        },
        {
          "output_type": "stream",
          "text": [
            "INFO:tensorflow:global_step/sec: 0.757491\n"
          ],
          "name": "stdout"
        },
        {
          "output_type": "stream",
          "text": [
            "I0416 05:11:52.356518 140145314826112 basic_session_run_hooks.py:680] global_step/sec: 0.757491\n"
          ],
          "name": "stderr"
        },
        {
          "output_type": "stream",
          "text": [
            "INFO:tensorflow:loss = 0.32040954, step = 700 (132.009 sec)\n"
          ],
          "name": "stdout"
        },
        {
          "output_type": "stream",
          "text": [
            "I0416 05:11:52.359599 140145314826112 basic_session_run_hooks.py:247] loss = 0.32040954, step = 700 (132.009 sec)\n"
          ],
          "name": "stderr"
        },
        {
          "output_type": "stream",
          "text": [
            "INFO:tensorflow:global_step/sec: 0.74401\n"
          ],
          "name": "stdout"
        },
        {
          "output_type": "stream",
          "text": [
            "I0416 05:14:06.763351 140145314826112 basic_session_run_hooks.py:680] global_step/sec: 0.74401\n"
          ],
          "name": "stderr"
        },
        {
          "output_type": "stream",
          "text": [
            "INFO:tensorflow:loss = 0.25824225, step = 800 (134.407 sec)\n"
          ],
          "name": "stdout"
        },
        {
          "output_type": "stream",
          "text": [
            "I0416 05:14:06.766112 140145314826112 basic_session_run_hooks.py:247] loss = 0.25824225, step = 800 (134.407 sec)\n"
          ],
          "name": "stderr"
        },
        {
          "output_type": "stream",
          "text": [
            "INFO:tensorflow:global_step/sec: 0.799305\n"
          ],
          "name": "stdout"
        },
        {
          "output_type": "stream",
          "text": [
            "I0416 05:16:11.871883 140145314826112 basic_session_run_hooks.py:680] global_step/sec: 0.799305\n"
          ],
          "name": "stderr"
        },
        {
          "output_type": "stream",
          "text": [
            "INFO:tensorflow:loss = 0.18598431, step = 900 (125.109 sec)\n"
          ],
          "name": "stdout"
        },
        {
          "output_type": "stream",
          "text": [
            "I0416 05:16:11.874649 140145314826112 basic_session_run_hooks.py:247] loss = 0.18598431, step = 900 (125.109 sec)\n"
          ],
          "name": "stderr"
        },
        {
          "output_type": "stream",
          "text": [
            "INFO:tensorflow:global_step/sec: 0.800947\n"
          ],
          "name": "stdout"
        },
        {
          "output_type": "stream",
          "text": [
            "I0416 05:18:16.724088 140145314826112 basic_session_run_hooks.py:680] global_step/sec: 0.800947\n"
          ],
          "name": "stderr"
        },
        {
          "output_type": "stream",
          "text": [
            "INFO:tensorflow:loss = 0.05922913, step = 1001 (124.853 sec)\n"
          ],
          "name": "stdout"
        },
        {
          "output_type": "stream",
          "text": [
            "I0416 05:18:16.727173 140145314826112 basic_session_run_hooks.py:247] loss = 0.05922913, step = 1001 (124.853 sec)\n"
          ],
          "name": "stderr"
        },
        {
          "output_type": "stream",
          "text": [
            "INFO:tensorflow:global_step/sec: 0.80003\n"
          ],
          "name": "stdout"
        },
        {
          "output_type": "stream",
          "text": [
            "I0416 05:20:21.719390 140145314826112 basic_session_run_hooks.py:680] global_step/sec: 0.80003\n"
          ],
          "name": "stderr"
        },
        {
          "output_type": "stream",
          "text": [
            "INFO:tensorflow:loss = 0.17049582, step = 1100 (125.000 sec)\n"
          ],
          "name": "stdout"
        },
        {
          "output_type": "stream",
          "text": [
            "I0416 05:20:21.726828 140145314826112 basic_session_run_hooks.py:247] loss = 0.17049582, step = 1100 (125.000 sec)\n"
          ],
          "name": "stderr"
        },
        {
          "output_type": "stream",
          "text": [
            "INFO:tensorflow:global_step/sec: 0.731699\n"
          ],
          "name": "stdout"
        },
        {
          "output_type": "stream",
          "text": [
            "I0416 05:22:38.387628 140145314826112 basic_session_run_hooks.py:680] global_step/sec: 0.731699\n"
          ],
          "name": "stderr"
        },
        {
          "output_type": "stream",
          "text": [
            "INFO:tensorflow:loss = 0.06083771, step = 1201 (136.669 sec)\n"
          ],
          "name": "stdout"
        },
        {
          "output_type": "stream",
          "text": [
            "I0416 05:22:38.395684 140145314826112 basic_session_run_hooks.py:247] loss = 0.06083771, step = 1201 (136.669 sec)\n"
          ],
          "name": "stderr"
        },
        {
          "output_type": "stream",
          "text": [
            "INFO:tensorflow:global_step/sec: 0.769664\n"
          ],
          "name": "stdout"
        },
        {
          "output_type": "stream",
          "text": [
            "I0416 05:24:48.314462 140145314826112 basic_session_run_hooks.py:680] global_step/sec: 0.769664\n"
          ],
          "name": "stderr"
        },
        {
          "output_type": "stream",
          "text": [
            "INFO:tensorflow:loss = 0.06379836, step = 1300 (129.925 sec)\n"
          ],
          "name": "stdout"
        },
        {
          "output_type": "stream",
          "text": [
            "I0416 05:24:48.321190 140145314826112 basic_session_run_hooks.py:247] loss = 0.06379836, step = 1300 (129.925 sec)\n"
          ],
          "name": "stderr"
        },
        {
          "output_type": "stream",
          "text": [
            "INFO:tensorflow:global_step/sec: 0.801758\n"
          ],
          "name": "stdout"
        },
        {
          "output_type": "stream",
          "text": [
            "I0416 05:26:53.040454 140145314826112 basic_session_run_hooks.py:680] global_step/sec: 0.801758\n"
          ],
          "name": "stderr"
        },
        {
          "output_type": "stream",
          "text": [
            "INFO:tensorflow:loss = 0.025232261, step = 1400 (124.724 sec)\n"
          ],
          "name": "stdout"
        },
        {
          "output_type": "stream",
          "text": [
            "I0416 05:26:53.045452 140145314826112 basic_session_run_hooks.py:247] loss = 0.025232261, step = 1400 (124.724 sec)\n"
          ],
          "name": "stderr"
        },
        {
          "output_type": "stream",
          "text": [
            "INFO:tensorflow:global_step/sec: 0.800611\n"
          ],
          "name": "stdout"
        },
        {
          "output_type": "stream",
          "text": [
            "I0416 05:28:57.945039 140145314826112 basic_session_run_hooks.py:680] global_step/sec: 0.800611\n"
          ],
          "name": "stderr"
        },
        {
          "output_type": "stream",
          "text": [
            "INFO:tensorflow:loss = 0.16005619, step = 1501 (124.909 sec)\n"
          ],
          "name": "stdout"
        },
        {
          "output_type": "stream",
          "text": [
            "I0416 05:28:57.954275 140145314826112 basic_session_run_hooks.py:247] loss = 0.16005619, step = 1501 (124.909 sec)\n"
          ],
          "name": "stderr"
        },
        {
          "output_type": "stream",
          "text": [
            "INFO:tensorflow:global_step/sec: 0.799984\n"
          ],
          "name": "stdout"
        },
        {
          "output_type": "stream",
          "text": [
            "I0416 05:31:02.947550 140145314826112 basic_session_run_hooks.py:680] global_step/sec: 0.799984\n"
          ],
          "name": "stderr"
        },
        {
          "output_type": "stream",
          "text": [
            "INFO:tensorflow:loss = 0.21732347, step = 1601 (125.002 sec)\n"
          ],
          "name": "stdout"
        },
        {
          "output_type": "stream",
          "text": [
            "I0416 05:31:02.955966 140145314826112 basic_session_run_hooks.py:247] loss = 0.21732347, step = 1601 (125.002 sec)\n"
          ],
          "name": "stderr"
        },
        {
          "output_type": "stream",
          "text": [
            "INFO:tensorflow:global_step/sec: 0.711217\n"
          ],
          "name": "stdout"
        },
        {
          "output_type": "stream",
          "text": [
            "I0416 05:33:23.551675 140145314826112 basic_session_run_hooks.py:680] global_step/sec: 0.711217\n"
          ],
          "name": "stderr"
        },
        {
          "output_type": "stream",
          "text": [
            "INFO:tensorflow:loss = 0.005527837, step = 1701 (140.604 sec)\n"
          ],
          "name": "stdout"
        },
        {
          "output_type": "stream",
          "text": [
            "I0416 05:33:23.560552 140145314826112 basic_session_run_hooks.py:247] loss = 0.005527837, step = 1701 (140.604 sec)\n"
          ],
          "name": "stderr"
        },
        {
          "output_type": "stream",
          "text": [
            "INFO:tensorflow:global_step/sec: 0.793971\n"
          ],
          "name": "stdout"
        },
        {
          "output_type": "stream",
          "text": [
            "I0416 05:35:29.500886 140145314826112 basic_session_run_hooks.py:680] global_step/sec: 0.793971\n"
          ],
          "name": "stderr"
        },
        {
          "output_type": "stream",
          "text": [
            "INFO:tensorflow:loss = 0.020465933, step = 1800 (125.951 sec)\n"
          ],
          "name": "stdout"
        },
        {
          "output_type": "stream",
          "text": [
            "I0416 05:35:29.511506 140145314826112 basic_session_run_hooks.py:247] loss = 0.020465933, step = 1800 (125.951 sec)\n"
          ],
          "name": "stderr"
        },
        {
          "output_type": "stream",
          "text": [
            "INFO:tensorflow:global_step/sec: 0.800473\n"
          ],
          "name": "stdout"
        },
        {
          "output_type": "stream",
          "text": [
            "I0416 05:37:34.427037 140145314826112 basic_session_run_hooks.py:680] global_step/sec: 0.800473\n"
          ],
          "name": "stderr"
        },
        {
          "output_type": "stream",
          "text": [
            "INFO:tensorflow:loss = 0.10162215, step = 1900 (124.924 sec)\n"
          ],
          "name": "stdout"
        },
        {
          "output_type": "stream",
          "text": [
            "I0416 05:37:34.435390 140145314826112 basic_session_run_hooks.py:247] loss = 0.10162215, step = 1900 (124.924 sec)\n"
          ],
          "name": "stderr"
        },
        {
          "output_type": "stream",
          "text": [
            "INFO:tensorflow:global_step/sec: 0.79851\n"
          ],
          "name": "stdout"
        },
        {
          "output_type": "stream",
          "text": [
            "I0416 05:39:39.660287 140145314826112 basic_session_run_hooks.py:680] global_step/sec: 0.79851\n"
          ],
          "name": "stderr"
        },
        {
          "output_type": "stream",
          "text": [
            "INFO:tensorflow:loss = 0.0101823285, step = 2000 (125.228 sec)\n"
          ],
          "name": "stdout"
        },
        {
          "output_type": "stream",
          "text": [
            "I0416 05:39:39.663607 140145314826112 basic_session_run_hooks.py:247] loss = 0.0101823285, step = 2000 (125.228 sec)\n"
          ],
          "name": "stderr"
        },
        {
          "output_type": "stream",
          "text": [
            "INFO:tensorflow:global_step/sec: 0.800703\n"
          ],
          "name": "stdout"
        },
        {
          "output_type": "stream",
          "text": [
            "I0416 05:41:44.550543 140145314826112 basic_session_run_hooks.py:680] global_step/sec: 0.800703\n"
          ],
          "name": "stderr"
        },
        {
          "output_type": "stream",
          "text": [
            "INFO:tensorflow:loss = 0.16034293, step = 2100 (124.898 sec)\n"
          ],
          "name": "stdout"
        },
        {
          "output_type": "stream",
          "text": [
            "I0416 05:41:44.561559 140145314826112 basic_session_run_hooks.py:247] loss = 0.16034293, step = 2100 (124.898 sec)\n"
          ],
          "name": "stderr"
        },
        {
          "output_type": "stream",
          "text": [
            "INFO:tensorflow:global_step/sec: 0.706186\n"
          ],
          "name": "stdout"
        },
        {
          "output_type": "stream",
          "text": [
            "I0416 05:44:06.156299 140145314826112 basic_session_run_hooks.py:680] global_step/sec: 0.706186\n"
          ],
          "name": "stderr"
        },
        {
          "output_type": "stream",
          "text": [
            "INFO:tensorflow:loss = 0.0013040388, step = 2200 (141.606 sec)\n"
          ],
          "name": "stdout"
        },
        {
          "output_type": "stream",
          "text": [
            "I0416 05:44:06.167593 140145314826112 basic_session_run_hooks.py:247] loss = 0.0013040388, step = 2200 (141.606 sec)\n"
          ],
          "name": "stderr"
        },
        {
          "output_type": "stream",
          "text": [
            "INFO:tensorflow:global_step/sec: 0.798241\n"
          ],
          "name": "stdout"
        },
        {
          "output_type": "stream",
          "text": [
            "I0416 05:46:11.431682 140145314826112 basic_session_run_hooks.py:680] global_step/sec: 0.798241\n"
          ],
          "name": "stderr"
        },
        {
          "output_type": "stream",
          "text": [
            "INFO:tensorflow:loss = 0.0012598214, step = 2300 (125.272 sec)\n"
          ],
          "name": "stdout"
        },
        {
          "output_type": "stream",
          "text": [
            "I0416 05:46:11.440111 140145314826112 basic_session_run_hooks.py:247] loss = 0.0012598214, step = 2300 (125.272 sec)\n"
          ],
          "name": "stderr"
        },
        {
          "output_type": "stream",
          "text": [
            "INFO:tensorflow:Saving checkpoints for 2343 into output/model.ckpt.\n"
          ],
          "name": "stdout"
        },
        {
          "output_type": "stream",
          "text": [
            "I0416 05:47:03.848786 140145314826112 basic_session_run_hooks.py:594] Saving checkpoints for 2343 into output/model.ckpt.\n"
          ],
          "name": "stderr"
        },
        {
          "output_type": "stream",
          "text": [
            "INFO:tensorflow:Loss for final step: 0.0019419959.\n"
          ],
          "name": "stdout"
        },
        {
          "output_type": "stream",
          "text": [
            "I0416 05:47:15.478415 140145314826112 estimator.py:359] Loss for final step: 0.0019419959.\n"
          ],
          "name": "stderr"
        },
        {
          "output_type": "stream",
          "text": [
            "INFO:tensorflow:Calling model_fn.\n"
          ],
          "name": "stdout"
        },
        {
          "output_type": "stream",
          "text": [
            "I0416 05:47:34.500524 140145314826112 estimator.py:1111] Calling model_fn.\n"
          ],
          "name": "stderr"
        },
        {
          "output_type": "stream",
          "text": [
            "INFO:tensorflow:Saver not created because there are no variables in the graph to restore\n"
          ],
          "name": "stdout"
        },
        {
          "output_type": "stream",
          "text": [
            "I0416 05:47:40.097780 140145314826112 saver.py:1483] Saver not created because there are no variables in the graph to restore\n",
            "/usr/local/lib/python3.6/dist-packages/tensorflow/python/ops/gradients_impl.py:110: UserWarning: Converting sparse IndexedSlices to a dense Tensor of unknown shape. This may consume a large amount of memory.\n",
            "  \"Converting sparse IndexedSlices to a dense Tensor of unknown shape. \"\n"
          ],
          "name": "stderr"
        },
        {
          "output_type": "stream",
          "text": [
            "INFO:tensorflow:Done calling model_fn.\n"
          ],
          "name": "stdout"
        },
        {
          "output_type": "stream",
          "text": [
            "I0416 05:47:55.526116 140145314826112 estimator.py:1113] Done calling model_fn.\n"
          ],
          "name": "stderr"
        },
        {
          "output_type": "stream",
          "text": [
            "INFO:tensorflow:Starting evaluation at 2019-04-16T05:47:55Z\n"
          ],
          "name": "stdout"
        },
        {
          "output_type": "stream",
          "text": [
            "I0416 05:47:55.565318 140145314826112 evaluation.py:257] Starting evaluation at 2019-04-16T05:47:55Z\n"
          ],
          "name": "stderr"
        },
        {
          "output_type": "stream",
          "text": [
            "INFO:tensorflow:Graph was finalized.\n"
          ],
          "name": "stdout"
        },
        {
          "output_type": "stream",
          "text": [
            "I0416 05:47:58.748795 140145314826112 monitored_session.py:222] Graph was finalized.\n"
          ],
          "name": "stderr"
        },
        {
          "output_type": "stream",
          "text": [
            "WARNING:tensorflow:From /usr/local/lib/python3.6/dist-packages/tensorflow/python/training/saver.py:1266: checkpoint_exists (from tensorflow.python.training.checkpoint_management) is deprecated and will be removed in a future version.\n",
            "Instructions for updating:\n",
            "Use standard file APIs to check for files with this prefix.\n"
          ],
          "name": "stdout"
        },
        {
          "output_type": "stream",
          "text": [
            "W0416 05:47:58.757008 140145314826112 deprecation.py:323] From /usr/local/lib/python3.6/dist-packages/tensorflow/python/training/saver.py:1266: checkpoint_exists (from tensorflow.python.training.checkpoint_management) is deprecated and will be removed in a future version.\n",
            "Instructions for updating:\n",
            "Use standard file APIs to check for files with this prefix.\n"
          ],
          "name": "stderr"
        },
        {
          "output_type": "stream",
          "text": [
            "INFO:tensorflow:Restoring parameters from output/model.ckpt-2343\n"
          ],
          "name": "stdout"
        },
        {
          "output_type": "stream",
          "text": [
            "I0416 05:47:58.768829 140145314826112 saver.py:1270] Restoring parameters from output/model.ckpt-2343\n"
          ],
          "name": "stderr"
        },
        {
          "output_type": "stream",
          "text": [
            "INFO:tensorflow:Running local_init_op.\n"
          ],
          "name": "stdout"
        },
        {
          "output_type": "stream",
          "text": [
            "I0416 05:48:02.504217 140145314826112 session_manager.py:491] Running local_init_op.\n"
          ],
          "name": "stderr"
        },
        {
          "output_type": "stream",
          "text": [
            "INFO:tensorflow:Done running local_init_op.\n"
          ],
          "name": "stdout"
        },
        {
          "output_type": "stream",
          "text": [
            "I0416 05:48:02.982619 140145314826112 session_manager.py:493] Done running local_init_op.\n"
          ],
          "name": "stderr"
        },
        {
          "output_type": "stream",
          "text": [
            "INFO:tensorflow:Finished evaluation at 2019-04-16-05:53:32\n"
          ],
          "name": "stdout"
        },
        {
          "output_type": "stream",
          "text": [
            "I0416 05:53:32.831433 140145314826112 evaluation.py:277] Finished evaluation at 2019-04-16-05:53:32\n"
          ],
          "name": "stderr"
        },
        {
          "output_type": "stream",
          "text": [
            "INFO:tensorflow:Saving dict for global step 2343: auc = 0.88764, eval_accuracy = 0.88764, f1_score = 0.88738316, false_negatives = 1433.0, false_positives = 1376.0, global_step = 2343, loss = 0.48140687, precision = 0.88941574, recall = 0.88536, true_negatives = 11124.0, true_positives = 11067.0\n"
          ],
          "name": "stdout"
        },
        {
          "output_type": "stream",
          "text": [
            "I0416 05:53:32.842664 140145314826112 estimator.py:1979] Saving dict for global step 2343: auc = 0.88764, eval_accuracy = 0.88764, f1_score = 0.88738316, false_negatives = 1433.0, false_positives = 1376.0, global_step = 2343, loss = 0.48140687, precision = 0.88941574, recall = 0.88536, true_negatives = 11124.0, true_positives = 11067.0\n"
          ],
          "name": "stderr"
        },
        {
          "output_type": "stream",
          "text": [
            "INFO:tensorflow:Saving 'checkpoint_path' summary for global step 2343: output/model.ckpt-2343\n"
          ],
          "name": "stdout"
        },
        {
          "output_type": "stream",
          "text": [
            "I0416 05:53:37.937457 140145314826112 estimator.py:2039] Saving 'checkpoint_path' summary for global step 2343: output/model.ckpt-2343\n"
          ],
          "name": "stderr"
        }
      ]
    },
    {
      "metadata": {
        "id": "fRsFO6mqefsC",
        "colab_type": "code",
        "colab": {
          "base_uri": "https://localhost:8080/",
          "height": 210
        },
        "outputId": "301300b7-21e2-486e-fa68-954801ade85b"
      },
      "cell_type": "code",
      "source": [
        "result"
      ],
      "execution_count": 9,
      "outputs": [
        {
          "output_type": "execute_result",
          "data": {
            "text/plain": [
              "{'auc': 0.88764,\n",
              " 'eval_accuracy': 0.88764,\n",
              " 'f1_score': 0.88738316,\n",
              " 'false_negatives': 1433.0,\n",
              " 'false_positives': 1376.0,\n",
              " 'global_step': 2343,\n",
              " 'loss': 0.48140687,\n",
              " 'precision': 0.88941574,\n",
              " 'recall': 0.88536,\n",
              " 'true_negatives': 11124.0,\n",
              " 'true_positives': 11067.0}"
            ]
          },
          "metadata": {
            "tags": []
          },
          "execution_count": 9
        }
      ]
    },
    {
      "metadata": {
        "id": "7XNNAG51uroi",
        "colab_type": "code",
        "colab": {}
      },
      "cell_type": "code",
      "source": [
        ""
      ],
      "execution_count": 0,
      "outputs": []
    }
  ]
}