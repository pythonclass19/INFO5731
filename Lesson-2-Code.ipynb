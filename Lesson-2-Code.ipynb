{
 "cells": [
  {
   "cell_type": "code",
   "execution_count": 4,
   "metadata": {},
   "outputs": [
    {
     "data": {
      "text/plain": [
       "str"
      ]
     },
     "execution_count": 4,
     "metadata": {},
     "output_type": "execute_result"
    }
   ],
   "source": [
    "type(100)\n",
    "type(121.0)\n",
    "type('This is string as well as the follwing line')\n",
    "type('42.0')"
   ]
  },
  {
   "cell_type": "code",
   "execution_count": 5,
   "metadata": {},
   "outputs": [],
   "source": [
    "message =  message = 'THis is Abdullah Gadi' \n",
    "x = 17\n",
    "pi = 3.141592653589793"
   ]
  },
  {
   "cell_type": "code",
   "execution_count": 6,
   "metadata": {},
   "outputs": [
    {
     "data": {
      "text/plain": [
       "20"
      ]
     },
     "execution_count": 6,
     "metadata": {},
     "output_type": "execute_result"
    }
   ],
   "source": [
    "x+3"
   ]
  },
  {
   "cell_type": "code",
   "execution_count": 8,
   "metadata": {},
   "outputs": [
    {
     "name": "stdout",
     "output_type": "stream",
     "text": [
      "17\n",
      "34\n"
     ]
    }
   ],
   "source": [
    "print(x)\n",
    "print(x*2)"
   ]
  },
  {
   "cell_type": "code",
   "execution_count": 13,
   "metadata": {},
   "outputs": [
    {
     "name": "stdout",
     "output_type": "stream",
     "text": [
      "My name is Abdullah Gadi\n"
     ]
    }
   ],
   "source": [
    "# This code is an example of how to use '+' oporater with strings \n",
    "Lable = 'My name is '\n",
    "First = 'Abdullah'\n",
    "Last = ' Gadi'\n",
    "Info = Lable + First + Last\n",
    "print(Info)\n"
   ]
  },
  {
   "cell_type": "code",
   "execution_count": 18,
   "metadata": {},
   "outputs": [
    {
     "data": {
      "text/plain": [
       "9.0"
      ]
     },
     "execution_count": 18,
     "metadata": {},
     "output_type": "execute_result"
    }
   ],
   "source": [
    "# Chapter3_Functions: Type and convert functions \n",
    "type(99.99)\n",
    "int(9.99)\n",
    "float(9)\n",
    "float('9')"
   ]
  },
  {
   "cell_type": "code",
   "execution_count": 108,
   "metadata": {},
   "outputs": [
    {
     "name": "stdout",
     "output_type": "stream",
     "text": [
      "4.0\n",
      "0.644217687237691\n"
     ]
    },
    {
     "data": {
      "text/plain": [
       "0.7071067811865476"
      ]
     },
     "execution_count": 108,
     "metadata": {},
     "output_type": "execute_result"
    }
   ],
   "source": [
    "import math\n",
    "\n",
    "print(math.sqrt(16))\n",
    "\n",
    "radians = 0.7 \n",
    "height = math.sin(radians)\n",
    "print(height)\n",
    "\n",
    "degrees = 45\n",
    "radians = degrees / 180.0 * math.pi \n",
    "math.sin(radians) \n",
    "\n"
   ]
  },
  {
   "cell_type": "code",
   "execution_count": 103,
   "metadata": {},
   "outputs": [
    {
     "data": {
      "text/plain": [
       "0.7071067811865476"
      ]
     },
     "execution_count": 103,
     "metadata": {},
     "output_type": "execute_result"
    }
   ],
   "source": [
    "math.sqrt(2) / 2.0"
   ]
  },
  {
   "cell_type": "code",
   "execution_count": 104,
   "metadata": {},
   "outputs": [
    {
     "name": "stdout",
     "output_type": "stream",
     "text": [
      "Abdullah Gadi\n",
      "Inforation Science\n"
     ]
    },
    {
     "data": {
      "text/plain": [
       "function"
      ]
     },
     "execution_count": 104,
     "metadata": {},
     "output_type": "execute_result"
    }
   ],
   "source": [
    "# Defining the function\n",
    "def print_myinfo():\n",
    "    name = 'Abdullah Gadi'\n",
    "    major = 'Inforation Science'    \n",
    "    print(name) \n",
    "    print(major)\n",
    "    \n",
    "# Calling the Function\n",
    "print_myinfo()\n",
    "#Calling type function\n",
    "type(print_myinfo)\n"
   ]
  },
  {
   "cell_type": "code",
   "execution_count": 105,
   "metadata": {},
   "outputs": [
    {
     "name": "stdout",
     "output_type": "stream",
     "text": [
      "Abdullah Gadi\n",
      "Inforation Science\n",
      "Abdullah Gadi\n",
      "Inforation Science\n"
     ]
    }
   ],
   "source": [
    "def repeat_function():\n",
    "    print_myinfo()\n",
    "    print_myinfo()\n",
    "    \n",
    "repeat_function()  "
   ]
  },
  {
   "cell_type": "code",
   "execution_count": 106,
   "metadata": {},
   "outputs": [
    {
     "name": "stdout",
     "output_type": "stream",
     "text": [
      "Hello!   Hello!   Hello!   Hello!   Hello!   \n",
      "Hello!   Hello!   Hello!   Hello!   Hello!   \n",
      "0.14159265358979312\n",
      "0.14159265358979312\n",
      "0.0\n",
      "0.0\n",
      "Abdullah Gadi\n",
      "Inforation Science\n",
      "None\n",
      "None\n"
     ]
    }
   ],
   "source": [
    "def print_twice(xyz): \n",
    "    print(xyz) \n",
    "    print(xyz)\n",
    "    \n",
    "print_twice('Hello!   ' * 5) \n",
    "print_twice(math.pi-3)\n",
    "print_twice(math.sin(0))\n",
    "#there is problem with the output of the follwing line ***\n",
    "print_twice(print_myinfo())\n",
    "\n",
    "    \n",
    "  \n",
    "    "
   ]
  },
  {
   "cell_type": "code",
   "execution_count": 109,
   "metadata": {},
   "outputs": [
    {
     "name": "stdout",
     "output_type": "stream",
     "text": [
      "Abdullah Gadi Inforation Science\n"
     ]
    }
   ],
   "source": [
    "def my_info(name, major):\n",
    "    print(name, major)\n",
    "    \n",
    "name = 'Abdullah Gadi'\n",
    "major = 'Inforation Science'   \n",
    "\n",
    "my_info(name, major)"
   ]
  },
  {
   "cell_type": "code",
   "execution_count": 1,
   "metadata": {},
   "outputs": [
    {
     "name": "stdout",
     "output_type": "stream",
     "text": [
      "<turtle.Turtle object at 0x000001A2999E8B38>\n"
     ]
    }
   ],
   "source": [
    "import turtle\n",
    "bob = turtle.Turtle()\n",
    "print(bob)\n",
    "\n",
    "bob.fd(100) \n",
    "bob.lt(90) \n",
    "bob.fd(100)\n",
    "bob.fd(100) \n",
    "bob.lt(90) \n",
    "bob.fd(100)\n",
    "bob.fd(100) \n",
    "bob.lt(90) \n",
    "bob.fd(100)\n",
    "bob.fd(100) \n",
    "bob.lt(90) \n",
    "bob.fd(100)\n",
    "\n",
    "turtle.mainloop()"
   ]
  },
  {
   "cell_type": "code",
   "execution_count": 1,
   "metadata": {},
   "outputs": [
    {
     "name": "stdout",
     "output_type": "stream",
     "text": [
      "<turtle.Turtle object at 0x000001457F952A20>\n"
     ]
    }
   ],
   "source": [
    "# loops to drow square\n",
    "import turtle\n",
    "bob = turtle.Turtle()\n",
    "print(bob)\n",
    "\n",
    "for i in range(4):\n",
    "    bob.fd(100)\n",
    "    bob.lt(90)\n",
    "    \n",
    "turtle.mainloop()"
   ]
  },
  {
   "cell_type": "code",
   "execution_count": 1,
   "metadata": {},
   "outputs": [],
   "source": [
    "import turtle\n",
    "def square(defult): \n",
    "    for i in range(4): \n",
    "        defult.fd(100) \n",
    "        defult.lt(90)\n",
    "    \n",
    "moveonscreen = turtle.Turtle()     \n",
    "square(moveonscreen)\n",
    "turtle.mainloop()\n"
   ]
  },
  {
   "cell_type": "code",
   "execution_count": null,
   "metadata": {},
   "outputs": [],
   "source": [
    "import turtle\n",
    "def Tringle(defult): \n",
    "    for i in range(3):\n",
    "        defult.fd(100)\n",
    "        defult.lt(120)\n",
    "        \n",
    "    \n",
    "moveonscreen = turtle.Turtle()     \n",
    "Tringle(moveonscreen)\n",
    "turtle.mainloop()"
   ]
  },
  {
   "cell_type": "code",
   "execution_count": null,
   "metadata": {},
   "outputs": [],
   "source": [
    "import turtle\n",
    "def Tringle(defult, length): \n",
    "    for i in range(3):\n",
    "        defult.fd(length)\n",
    "        defult.lt(120)\n",
    "        \n",
    "    \n",
    "moveonscreen = turtle.Turtle()     \n",
    "Tringle(moveonscreen, 100)\n",
    "turtle.mainloop()"
   ]
  },
  {
   "cell_type": "code",
   "execution_count": 1,
   "metadata": {},
   "outputs": [],
   "source": [
    "import turtle\n",
    "def polygon(defult, n, length): \n",
    "    angle = 360 / n \n",
    "    for i in range(n): \n",
    "        defult.fd(length) \n",
    "        defult.lt(angle)\n",
    "        \n",
    "moveonscreen = turtle.Turtle()         \n",
    "polygon(moveonscreen, 5, 100)\n",
    "turtle.mainloop()"
   ]
  },
  {
   "cell_type": "code",
   "execution_count": 1,
   "metadata": {},
   "outputs": [],
   "source": [
    "import math\n",
    "import turtle\n",
    "\n",
    "def polygon(defult, n, length): \n",
    "    angle = 360 / n \n",
    "    for i in range(n): \n",
    "        defult.fd(length) \n",
    "        defult.lt(angle)\n",
    "\n",
    "def circle(t, r): \n",
    "    circumference = 2 * math.pi * r \n",
    "    n = 50\n",
    "    length = circumference / n\n",
    "    polygon(t, n, length)\n",
    "        \n",
    "deowonscreen = turtle.Turtle()         \n",
    "circle(deowonscreen, 100)\n",
    "turtle.mainloop()"
   ]
  },
  {
   "cell_type": "code",
   "execution_count": 1,
   "metadata": {},
   "outputs": [],
   "source": [
    "import math\n",
    "import turtle\n",
    "\n",
    "def polyline(t, n, length, angle): \n",
    "    \"\"\"Draws n line segments with the given length and angle (in degrees) between them. t is a turtle. \"\"\" \n",
    "    for i in range(n): \n",
    "        t.fd(length) \n",
    "        t.lt(angle)\n",
    "        \n",
    "def polygon(t, n, length): \n",
    "    angle = 360.0 / n \n",
    "    polyline(t, n, length, angle)\n",
    "    \n",
    "\n",
    "def arc(t, r, angle): \n",
    "    arc_length = 2 * math.pi * r * angle / 360 \n",
    "    n = int(arc_length / 3) + 1 \n",
    "    step_length = arc_length / n \n",
    "    step_angle = angle / n\n",
    "    polyline(t, n, step_length, step_angle) \n",
    "\n",
    "def circle(t, r): \n",
    "    arc(t, r, 360)\n",
    "    \n",
    "        \n",
    "deowonscreen = turtle.Turtle()         \n",
    "arc(deowonscreen, 100, 180)\n",
    "turtle.mainloop()"
   ]
  },
  {
   "cell_type": "code",
   "execution_count": 22,
   "metadata": {},
   "outputs": [
    {
     "name": "stdout",
     "output_type": "stream",
     "text": [
      "Times in hours is:  5 and  37 minutes\n",
      "True\n",
      "False\n",
      "x is odd\n",
      "x is greater than y\n"
     ]
    }
   ],
   "source": [
    "#Chapter 5: Conditionals and recursion\n",
    "\n",
    "# /, //, and %\n",
    "minutes = 337 \n",
    "hours= minutes // 60 \n",
    "reminder = minutes % 60 \n",
    "print('Time in hours is: ', hours, 'hours and ', reminder, 'minutes' )\n",
    "\n",
    "# Boolean \n",
    "print(5 == 5)\n",
    "print(5 != 5)\n",
    "type(5 == 5) #type(False)\n",
    "\n",
    "# if, else, and elif statment\n",
    "x= 15\n",
    "if x % 2 == 0: \n",
    "    print('x is even') \n",
    "else: print('x is odd')\n",
    "\n",
    "\n",
    "y= 11\n",
    "if x < y: \n",
    "    print('x is less than y') \n",
    "elif x > y: \n",
    "    print('x is greater than y') \n",
    "else: print('x and y are equal')\n",
    "    \n"
   ]
  },
  {
   "cell_type": "code",
   "execution_count": 10,
   "metadata": {},
   "outputs": [
    {
     "name": "stdout",
     "output_type": "stream",
     "text": [
      "7\n",
      "the letter grade is:  C\n"
     ]
    }
   ],
   "source": [
    "grade = 70\n",
    "\n",
    "\n",
    "choice = grade//10\n",
    "\n",
    "print(choice)\n",
    "\n",
    "if choice == 10 or choice == 9: \n",
    "    letter = 'A'\n",
    "elif choice == 8: \n",
    "    letter = 'B'\n",
    "elif choice == 7: \n",
    "    letter = 'C'\n",
    "elif choice == 6: \n",
    "    letter = 'D'  \n",
    "else:\n",
    "    letter ='F'\n",
    "print('the letter grade is: ', letter)"
   ]
  },
  {
   "cell_type": "code",
   "execution_count": 66,
   "metadata": {},
   "outputs": [
    {
     "name": "stdout",
     "output_type": "stream",
     "text": [
      "x= 9  is a positive odd single-digit number.\n"
     ]
    }
   ],
   "source": [
    "# Nested conditionals\n",
    "x= 9\n",
    "\n",
    "if x>0: \n",
    "    if (x % 2 == 0): \n",
    "        if (0 < x < 10):\n",
    "            print('x=', x, 'is a positive even single-digit number.')\n",
    "        else:\n",
    "            print('x=', x, ' is a positive even with more than one digit number.')\n",
    "    else:\n",
    "        if (0 < x < 10):\n",
    "            print('x=', x, ' is a positive odd single-digit number.')\n",
    "        else:\n",
    "            print('x=', x, ' is a positive odd with more than one digit number.')\n",
    "elif(x==0):\n",
    "            print('x is zero.')\n",
    "else:\n",
    "    print('x=', x, ' is a negitive number.')"
   ]
  },
  {
   "cell_type": "code",
   "execution_count": 69,
   "metadata": {},
   "outputs": [
    {
     "name": "stdout",
     "output_type": "stream",
     "text": [
      "Enter number greater than or equl to zero \n",
      "6\n",
      "the function outputs start after this line: \n",
      "\n",
      "6\n",
      "5\n",
      "4\n",
      "3\n",
      "2\n",
      "1\n"
     ]
    }
   ],
   "source": [
    "#Recursion\n",
    "import math\n",
    "\n",
    "def print_n(Number): \n",
    "    if Number <= 0: \n",
    "        return \n",
    "    print(Number)\n",
    "    Number=Number-1\n",
    "    print_n(Number)\n",
    "\n",
    "x = input('Enter number greater than or equl to zero \\n')\n",
    "y = int(x)\n",
    "print('The function outputs start after this line: \\n')\n",
    "print_n(y)"
   ]
  },
  {
   "cell_type": "code",
   "execution_count": null,
   "metadata": {},
   "outputs": [],
   "source": [
    "#Chapter 6: Fruitful functions\n",
    "def absolute_value(x): \n",
    "    if x < 0: \n",
    "        return -x \n",
    "    else: \n",
    "        return x\n",
    "    \n",
    "def compare(n,m):\n",
    "    if(n>m):\n",
    "        return 1\n",
    "    elif(n<m):\n",
    "        return -1\n",
    "    else:\n",
    "        return 0\n",
    "    \n",
    "print('This is a compare function that takes two values and returns 1 if first > second, 0 if first == second, and -1 if first < second')\n",
    "x = input('Enter the first number \\n')\n",
    "x1 = int(x)\n",
    "y = input('Enter the Second number \\n')\n",
    "y1 = int(y)\n",
    "\n",
    "print('output after this line \\n')\n",
    "print(compare(x1,y1))\n",
    "print(absolute_value(x1))"
   ]
  },
  {
   "cell_type": "code",
   "execution_count": 1,
   "metadata": {},
   "outputs": [
    {
     "name": "stdout",
     "output_type": "stream",
     "text": [
      "This is a function that  ﬁnd the distance between two points, given by the coordinates (x1,y1) and (x2,y2) \n",
      "\n",
      "Enter the x1 value \n",
      "0\n",
      "Enter the y1 value \n",
      "0\n",
      "Enter the x2 value \n",
      "4\n",
      "Enter the y2 value \n",
      "3\n",
      "output after this line \n",
      "\n",
      "the distanc between the two points is :  5.0\n"
     ]
    }
   ],
   "source": [
    "import math \n",
    "def distance(x1, y1, x2, y2): \n",
    "    d_in_x = x2 - x1 \n",
    "    d_in_y = y2 - y1 \n",
    "    d_squared = d_in_x**2 + d_in_y**2  \n",
    "    return math.sqrt(d_squared) \n",
    "\n",
    "print('This is a function that  ﬁnd the distance between two points, given by the coordinates (x1,y1) and (x2,y2) \\n')\n",
    "x1 = input('Enter the x1 value \\n')\n",
    "x1 = int(x1)\n",
    "y1 = input('Enter the y1 value \\n')\n",
    "y1 = int(y1)\n",
    "      \n",
    "x2 = input('Enter the x2 value \\n')\n",
    "x2 = int(x2)\n",
    "y2 = input('Enter the y2 value \\n')\n",
    "y2 = int(y2)\n",
    "      \n",
    "\n",
    "\n",
    "print('output after this line \\n')\n",
    "print('the distanc between the two points is : ', distance(x1, y1, x2, y2))\n",
    "\n",
    "\n",
    "\n",
    "\n"
   ]
  },
  {
   "cell_type": "code",
   "execution_count": 8,
   "metadata": {},
   "outputs": [
    {
     "name": "stdout",
     "output_type": "stream",
     "text": [
      "This is a function that ﬁnd the distance between two points in a cercl one is the center of the cercil and the second is in the perimeter, given by the coordinates (x1,y1) for the center and (x2,y2) for the perimeter \n",
      "\n",
      "Enter the x1 value for the center point \n",
      "0\n",
      "Enter the y1 value for the center point\n",
      "0\n",
      "Enter the x2 value for the perimeter point\n",
      "4\n",
      "Enter the y2 value for the perimeter point\n",
      "3\n",
      "output after this line \n",
      "\n",
      "the radius is  5.0\n",
      "The area of the givin circle is:  78.53981633974483\n"
     ]
    }
   ],
   "source": [
    "import math\n",
    "def area_from_radius(radius): \n",
    "    return math.pi * radius**2 \n",
    "\n",
    "def circle_area(x_value_center, y_value_center, x_value_perimeter, y_value_perimeter): \n",
    "    radius = distance(x_value_center, y_value_center, x_value_perimeter, y_value_perimeter)\n",
    "    print('the radius is ', radius)\n",
    "    return area_from_radius(radius)\n",
    "\n",
    "print('This is a function that ﬁnd the distance between two points in a cercl one is the center of the cercil and the second is in the perimeter, given by the coordinates (x1,y1) for the center and (x2,y2) for the perimeter \\n')\n",
    "x1 = input('Enter the x1 value for the center point \\n')\n",
    "x1 = int(x1)\n",
    "y1 = input('Enter the y1 value for the center point\\n')\n",
    "y1 = int(y1)\n",
    "      \n",
    "x2 = input('Enter the x2 value for the perimeter point\\n')\n",
    "x2 = int(x2)\n",
    "y2 = input('Enter the y2 value for the perimeter point\\n')\n",
    "y2 = int(y2)\n",
    "      \n",
    "\n",
    "\n",
    "print('output after this line \\n')\n",
    "# print('the radius for the givin circle  is: ', distance(x1, y1, x2, y2))\n",
    "print('The area of the givin circle is: ', circle_area(x1, y1, x2, y2))\n",
    "\n",
    "\n",
    "\n"
   ]
  },
  {
   "cell_type": "code",
   "execution_count": 14,
   "metadata": {},
   "outputs": [
    {
     "data": {
      "text/plain": [
       "False"
      ]
     },
     "execution_count": 14,
     "metadata": {},
     "output_type": "execute_result"
    }
   ],
   "source": [
    "#Boolean functions\n",
    "def is_even_number(x): \n",
    "    if x % 2 == 0: \n",
    "        return True \n",
    "    else: \n",
    "        return False\n",
    "\n",
    "is_even_number(9)\n"
   ]
  },
  {
   "cell_type": "code",
   "execution_count": 44,
   "metadata": {},
   "outputs": [
    {
     "name": "stdout",
     "output_type": "stream",
     "text": [
      "The factorial of 5 is:  120\n",
      "The fibonacci of 5 is:  5\n"
     ]
    }
   ],
   "source": [
    "#factorial\n",
    "def factorial(n):\n",
    "    if not isinstance(n, int): \n",
    "        print('Erorr! Factorial is defined for integers.')\n",
    "        return None\n",
    "    elif n<0:\n",
    "        print('Erorr! Factorial is not defined for negative numbers.') \n",
    "        return None \n",
    "    elif n == 0: \n",
    "        return 1 \n",
    "    else: \n",
    "        return n * factorial(n-1)\n",
    "\n",
    "def fibonacci(n): \n",
    "    if n == 0: \n",
    "        return 0 \n",
    "    elif n == 1: \n",
    "        return 1 \n",
    "    else: \n",
    "        return fibonacci(n-1) + fibonacci(n-2)\n",
    "    \n",
    "print('The factorial of 5 is: ', factorial(5))\n",
    "print('The fibonacci of 5 is: ', fibonacci(5))\n"
   ]
  },
  {
   "cell_type": "code",
   "execution_count": 43,
   "metadata": {},
   "outputs": [
    {
     "name": "stdout",
     "output_type": "stream",
     "text": [
      "15\n",
      "14\n",
      "13\n",
      "12\n",
      "11\n",
      "10\n",
      "9\n",
      "8\n",
      "7\n",
      "6\n",
      "5\n",
      "4\n",
      "3\n",
      "2\n",
      "1\n",
      "GO!\n",
      "6\n",
      "3.0\n",
      "10.0\n",
      "5.0\n",
      "16.0\n",
      "8.0\n",
      "4.0\n",
      "2.0\n"
     ]
    }
   ],
   "source": [
    "# Chapter7: Iteration\n",
    "def countdown(n): \n",
    "    while n > 0: \n",
    "        print(n) \n",
    "        n = n - 1 \n",
    "    print('GO!')\n",
    "\n",
    "    \n",
    "def sequence(n): \n",
    "    while n != 1: \n",
    "        print(n) \n",
    "        if n % 2 == 0: # n is even\n",
    "            n = n / 2 \n",
    "        else: # n is odd \n",
    "            n = n*3 + 1\n",
    "                \n",
    "countdown(15)\n",
    "sequence(6)\n"
   ]
  },
  {
   "cell_type": "code",
   "execution_count": 48,
   "metadata": {},
   "outputs": [
    {
     "name": "stdout",
     "output_type": "stream",
     "text": [
      "> hi\n",
      "> end\n"
     ]
    }
   ],
   "source": [
    "while True: \n",
    "    line = input('> ') \n",
    "    if line == 'end': \n",
    "        break \n",
    "        print(line)\n",
    "        \n"
   ]
  },
  {
   "cell_type": "code",
   "execution_count": null,
   "metadata": {},
   "outputs": [],
   "source": []
  },
  {
   "cell_type": "code",
   "execution_count": null,
   "metadata": {},
   "outputs": [],
   "source": []
  },
  {
   "cell_type": "code",
   "execution_count": null,
   "metadata": {},
   "outputs": [],
   "source": []
  }
 ],
 "metadata": {
  "kernelspec": {
   "display_name": "Python 3",
   "language": "python",
   "name": "python3"
  },
  "language_info": {
   "codemirror_mode": {
    "name": "ipython",
    "version": 3
   },
   "file_extension": ".py",
   "mimetype": "text/x-python",
   "name": "python",
   "nbconvert_exporter": "python",
   "pygments_lexer": "ipython3",
   "version": "3.7.0"
  }
 },
 "nbformat": 4,
 "nbformat_minor": 2
}
