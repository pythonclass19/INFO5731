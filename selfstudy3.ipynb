{
 "cells": [
  {
   "cell_type": "code",
   "execution_count": 1,
   "metadata": {},
   "outputs": [
    {
     "name": "stdout",
     "output_type": "stream",
     "text": [
      "0\n"
     ]
    }
   ],
   "source": [
    "#Ch. 9\n",
    "#If you run your Python scripts at the command line, you can pipe data through them using sys.stdin and sys.stdout.\n",
    "# egrep.py \n",
    "\n",
    "import sys, re\n",
    "\n",
    "\n",
    "# sys.argv is the list of command-line arguments \n",
    "# sys.argv[0] is the name of the program itself \n",
    "# sys.argv[1] will be the regex specified at the command line \n",
    "\n",
    "regex = sys.argv[1]\n",
    "\n",
    "# for every line passed into the script \n",
    "\n",
    "for line in sys.stdin:    # if it matches the regex, write it to stdout \n",
    "    if re.search(regex, line):        \n",
    "        sys.stdout.write(line)\n",
    "# line_count.py import sys\n",
    "count = 0 \n",
    "for line in sys.stdin:    \n",
    "    count += 1\n",
    "# print goes to sys.stdout \n",
    "print (count)"
   ]
  },
  {
   "cell_type": "code",
   "execution_count": 18,
   "metadata": {},
   "outputs": [
    {
     "name": "stdout",
     "output_type": "stream",
     "text": [
      "usage: most_common_words.py num_words\n"
     ]
    },
    {
     "ename": "SystemExit",
     "evalue": "1",
     "output_type": "error",
     "traceback": [
      "An exception has occurred, use %tb to see the full traceback.\n",
      "\u001b[1;31mSystemExit\u001b[0m\u001b[1;31m:\u001b[0m 1\n"
     ]
    },
    {
     "name": "stderr",
     "output_type": "stream",
     "text": [
      "C:\\Users\\USER\\Anaconda3\\lib\\site-packages\\IPython\\core\\interactiveshell.py:2969: UserWarning: To exit: use 'exit', 'quit', or Ctrl-D.\n",
      "  warn(\"To exit: use 'exit', 'quit', or Ctrl-D.\", stacklevel=1)\n"
     ]
    }
   ],
   "source": [
    "# most_common_words.py \n",
    "import sys \n",
    "from collections import Counter\n",
    "# pass in number of words as first argument \n",
    "\n",
    "try:    \n",
    "    num_words = int(sys.argv[1])\n",
    "except:    \n",
    "    print (\"usage: most_common_words.py num_words\")   \n",
    "    sys.exit(1)   # non-zero exit code indicates error\n",
    "counter = Counter(word.lower()                      # lowercase words\n",
    "                  for line in sys.stdin             #\n",
    "                  for word in line.strip().split()  # split on spaces\n",
    "                  if word)                          # skip empty 'words'\n",
    "\n",
    "for word, count in counter.most_common(num_words):    \n",
    "    sys.stdout.write(str(count))    \n",
    "    sys.stdout.write(\"\\t\")\n",
    "    sys.stdout.write(word)    \n",
    "    sys.stdout.write(\"\\n\") \n"
   ]
  },
  {
   "cell_type": "code",
   "execution_count": 8,
   "metadata": {},
   "outputs": [
    {
     "name": "stdout",
     "output_type": "stream",
     "text": [
      "39\n",
      "41\n",
      "write this text to the newtext.txt file\n",
      " add this text to m the newtext.txt file\n"
     ]
    }
   ],
   "source": [
    "#To write the file by printing the content\n",
    "file_for_writing = open('newtext.txt', 'w')\n",
    "print(file_for_writing.write('write this text to the newtext.txt file'))\n",
    "file_for_writing.close()\n",
    "\n",
    "#To add new text to an exist file \n",
    "file_for_writing = open('newtext.txt', 'a')\n",
    "print(file_for_writing.write('\\n add this text to m the newtext.txt file'))\n",
    "file_for_writing.close()\n",
    "\n",
    "# To read the file by printing the content\n",
    "file_for_reading = open('newtext.txt', 'r')\n",
    "print(file_for_reading.read())\n",
    "file_for_reading.close()\n",
    "\n",
    "\n"
   ]
  },
  {
   "cell_type": "code",
   "execution_count": 9,
   "metadata": {},
   "outputs": [],
   "source": []
  },
  {
   "cell_type": "code",
   "execution_count": 44,
   "metadata": {
    "scrolled": true
   },
   "outputs": [
    {
     "ename": "NameError",
     "evalue": "name 'get_domain' is not defined",
     "output_type": "error",
     "traceback": [
      "\u001b[1;31m---------------------------------------------------------------------------\u001b[0m",
      "\u001b[1;31mNameError\u001b[0m                                 Traceback (most recent call last)",
      "\u001b[1;32m<ipython-input-44-3908d5c9d4d2>\u001b[0m in \u001b[0;36m<module>\u001b[1;34m()\u001b[0m\n\u001b[0;32m     12\u001b[0m \u001b[1;32mwith\u001b[0m \u001b[0mopen\u001b[0m\u001b[1;33m(\u001b[0m\u001b[1;34m'emails.txt'\u001b[0m\u001b[1;33m,\u001b[0m \u001b[1;34m'r'\u001b[0m\u001b[1;33m)\u001b[0m \u001b[1;32mas\u001b[0m \u001b[0mf\u001b[0m\u001b[1;33m:\u001b[0m\u001b[1;33m\u001b[0m\u001b[0m\n\u001b[0;32m     13\u001b[0m     domain_counts = Counter(get_domain(line.strip())\n\u001b[1;32m---> 14\u001b[1;33m                            \u001b[1;32mfor\u001b[0m \u001b[0mline\u001b[0m \u001b[1;32min\u001b[0m \u001b[0mf\u001b[0m\u001b[1;33m\u001b[0m\u001b[0m\n\u001b[0m\u001b[0;32m     15\u001b[0m                            if '@' in line)\n\u001b[0;32m     16\u001b[0m \u001b[0mprint\u001b[0m\u001b[1;33m(\u001b[0m\u001b[0mdomain_counts\u001b[0m\u001b[1;33m)\u001b[0m\u001b[1;33m\u001b[0m\u001b[0m\n",
      "\u001b[1;32m~\\Anaconda3\\lib\\collections\\__init__.py\u001b[0m in \u001b[0;36m__init__\u001b[1;34m(*args, **kwds)\u001b[0m\n\u001b[0;32m    564\u001b[0m             \u001b[1;32mraise\u001b[0m \u001b[0mTypeError\u001b[0m\u001b[1;33m(\u001b[0m\u001b[1;34m'expected at most 1 arguments, got %d'\u001b[0m \u001b[1;33m%\u001b[0m \u001b[0mlen\u001b[0m\u001b[1;33m(\u001b[0m\u001b[0margs\u001b[0m\u001b[1;33m)\u001b[0m\u001b[1;33m)\u001b[0m\u001b[1;33m\u001b[0m\u001b[0m\n\u001b[0;32m    565\u001b[0m         \u001b[0msuper\u001b[0m\u001b[1;33m(\u001b[0m\u001b[0mCounter\u001b[0m\u001b[1;33m,\u001b[0m \u001b[0mself\u001b[0m\u001b[1;33m)\u001b[0m\u001b[1;33m.\u001b[0m\u001b[0m__init__\u001b[0m\u001b[1;33m(\u001b[0m\u001b[1;33m)\u001b[0m\u001b[1;33m\u001b[0m\u001b[0m\n\u001b[1;32m--> 566\u001b[1;33m         \u001b[0mself\u001b[0m\u001b[1;33m.\u001b[0m\u001b[0mupdate\u001b[0m\u001b[1;33m(\u001b[0m\u001b[1;33m*\u001b[0m\u001b[0margs\u001b[0m\u001b[1;33m,\u001b[0m \u001b[1;33m**\u001b[0m\u001b[0mkwds\u001b[0m\u001b[1;33m)\u001b[0m\u001b[1;33m\u001b[0m\u001b[0m\n\u001b[0m\u001b[0;32m    567\u001b[0m \u001b[1;33m\u001b[0m\u001b[0m\n\u001b[0;32m    568\u001b[0m     \u001b[1;32mdef\u001b[0m \u001b[0m__missing__\u001b[0m\u001b[1;33m(\u001b[0m\u001b[0mself\u001b[0m\u001b[1;33m,\u001b[0m \u001b[0mkey\u001b[0m\u001b[1;33m)\u001b[0m\u001b[1;33m:\u001b[0m\u001b[1;33m\u001b[0m\u001b[0m\n",
      "\u001b[1;32m~\\Anaconda3\\lib\\collections\\__init__.py\u001b[0m in \u001b[0;36mupdate\u001b[1;34m(*args, **kwds)\u001b[0m\n\u001b[0;32m    651\u001b[0m                     \u001b[0msuper\u001b[0m\u001b[1;33m(\u001b[0m\u001b[0mCounter\u001b[0m\u001b[1;33m,\u001b[0m \u001b[0mself\u001b[0m\u001b[1;33m)\u001b[0m\u001b[1;33m.\u001b[0m\u001b[0mupdate\u001b[0m\u001b[1;33m(\u001b[0m\u001b[0miterable\u001b[0m\u001b[1;33m)\u001b[0m \u001b[1;31m# fast path when counter is empty\u001b[0m\u001b[1;33m\u001b[0m\u001b[0m\n\u001b[0;32m    652\u001b[0m             \u001b[1;32melse\u001b[0m\u001b[1;33m:\u001b[0m\u001b[1;33m\u001b[0m\u001b[0m\n\u001b[1;32m--> 653\u001b[1;33m                 \u001b[0m_count_elements\u001b[0m\u001b[1;33m(\u001b[0m\u001b[0mself\u001b[0m\u001b[1;33m,\u001b[0m \u001b[0miterable\u001b[0m\u001b[1;33m)\u001b[0m\u001b[1;33m\u001b[0m\u001b[0m\n\u001b[0m\u001b[0;32m    654\u001b[0m         \u001b[1;32mif\u001b[0m \u001b[0mkwds\u001b[0m\u001b[1;33m:\u001b[0m\u001b[1;33m\u001b[0m\u001b[0m\n\u001b[0;32m    655\u001b[0m             \u001b[0mself\u001b[0m\u001b[1;33m.\u001b[0m\u001b[0mupdate\u001b[0m\u001b[1;33m(\u001b[0m\u001b[0mkwds\u001b[0m\u001b[1;33m)\u001b[0m\u001b[1;33m\u001b[0m\u001b[0m\n",
      "\u001b[1;32m<ipython-input-44-3908d5c9d4d2>\u001b[0m in \u001b[0;36m<genexpr>\u001b[1;34m(.0)\u001b[0m\n\u001b[0;32m     13\u001b[0m     domain_counts = Counter(get_domain(line.strip())\n\u001b[0;32m     14\u001b[0m                            \u001b[1;32mfor\u001b[0m \u001b[0mline\u001b[0m \u001b[1;32min\u001b[0m \u001b[0mf\u001b[0m\u001b[1;33m\u001b[0m\u001b[0m\n\u001b[1;32m---> 15\u001b[1;33m                            if '@' in line)\n\u001b[0m\u001b[0;32m     16\u001b[0m \u001b[0mprint\u001b[0m\u001b[1;33m(\u001b[0m\u001b[0mdomain_counts\u001b[0m\u001b[1;33m)\u001b[0m\u001b[1;33m\u001b[0m\u001b[0m\n",
      "\u001b[1;31mNameError\u001b[0m: name 'get_domain' is not defined"
     ]
    }
   ],
   "source": [
    "# This code does not work\n",
    "# error \"(unicode error) 'unicodeescape' codec can't decode bytes in position 2-3: truncated \\UXXXXXXXX escape\"\n",
    "#from collections import defaultdict\n",
    "from collections import Counter\n",
    "import collections\n",
    "#import os \n",
    "\n",
    "def get_domains(emails):\n",
    "    \"\"\"split on @ and return the last piece\"\"\"\n",
    "    return emails.lower().split('@')[-1]\n",
    "\n",
    "with open('emails.txt', 'r') as f:\n",
    "    domain_counts = Counter(get_domain(line.strip())\n",
    "                           for line in f\n",
    "                           if '@' in line)\n",
    "print(domain_counts)\n"
   ]
  },
  {
   "cell_type": "code",
   "execution_count": 45,
   "metadata": {},
   "outputs": [
    {
     "ename": "Error",
     "evalue": "iterator should return strings, not bytes (did you open the file in text mode?)",
     "output_type": "error",
     "traceback": [
      "\u001b[1;31m---------------------------------------------------------------------------\u001b[0m",
      "\u001b[1;31mError\u001b[0m                                     Traceback (most recent call last)",
      "\u001b[1;32m<ipython-input-45-2ca6d9374d78>\u001b[0m in \u001b[0;36m<module>\u001b[1;34m()\u001b[0m\n\u001b[0;32m      7\u001b[0m \u001b[1;32mwith\u001b[0m \u001b[0mopen\u001b[0m\u001b[1;33m(\u001b[0m\u001b[1;34m'words.txt'\u001b[0m\u001b[1;33m,\u001b[0m \u001b[1;34m'rb'\u001b[0m\u001b[1;33m)\u001b[0m \u001b[1;32mas\u001b[0m \u001b[0mf\u001b[0m\u001b[1;33m:\u001b[0m\u001b[1;33m\u001b[0m\u001b[0m\n\u001b[0;32m      8\u001b[0m     \u001b[0mreader\u001b[0m \u001b[1;33m=\u001b[0m \u001b[0mcsv\u001b[0m\u001b[1;33m.\u001b[0m\u001b[0mreader\u001b[0m\u001b[1;33m(\u001b[0m\u001b[0mf\u001b[0m\u001b[1;33m,\u001b[0m \u001b[0mdelimiter\u001b[0m\u001b[1;33m=\u001b[0m \u001b[1;34m\",\"\u001b[0m\u001b[1;33m)\u001b[0m\u001b[1;33m\u001b[0m\u001b[0m\n\u001b[1;32m----> 9\u001b[1;33m     \u001b[1;32mfor\u001b[0m \u001b[0mrow\u001b[0m \u001b[1;32min\u001b[0m \u001b[0mreader\u001b[0m\u001b[1;33m:\u001b[0m\u001b[1;33m\u001b[0m\u001b[0m\n\u001b[0m\u001b[0;32m     10\u001b[0m         \u001b[0mdate\u001b[0m \u001b[1;33m=\u001b[0m \u001b[0mrow\u001b[0m\u001b[1;33m[\u001b[0m\u001b[1;36m0\u001b[0m\u001b[1;33m]\u001b[0m\u001b[1;33m\u001b[0m\u001b[0m\n\u001b[0;32m     11\u001b[0m         \u001b[0msymbol\u001b[0m \u001b[1;33m=\u001b[0m \u001b[0mrow\u001b[0m\u001b[1;33m[\u001b[0m\u001b[1;36m1\u001b[0m\u001b[1;33m]\u001b[0m\u001b[1;33m\u001b[0m\u001b[0m\n",
      "\u001b[1;31mError\u001b[0m: iterator should return strings, not bytes (did you open the file in text mode?)"
     ]
    }
   ],
   "source": [
    "# Delimited Files\n",
    "# not working \n",
    "#  Error: iterator should return strings, not bytes (did you open the file in text mode?)\n",
    "\n",
    "import csv  \n",
    "\n",
    "with open('words.txt', 'rb') as f: \n",
    "    reader = csv.reader(f, delimiter= \",\") \n",
    "    for row in reader: \n",
    "        date = row[0] \n",
    "        symbol = row[1] \n",
    "        closing_price = float(row[2]) \n",
    "        process(date, symbol, closing_price)\n",
    "        \n",
    "with open('words.txt', 'r') as f:\n",
    "    reader = csv.reader(f) \n",
    "    for row in reader:\n",
    "        print(row)  "
   ]
  },
  {
   "cell_type": "code",
   "execution_count": 24,
   "metadata": {},
   "outputs": [
    {
     "name": "stdout",
     "output_type": "stream",
     "text": [
      "Requirement already satisfied: beautifulsoup4 in c:\\users\\user\\anaconda3\\lib\\site-packages (4.6.3)\n"
     ]
    },
    {
     "name": "stderr",
     "output_type": "stream",
     "text": [
      "twisted 18.7.0 requires PyHamcrest>=1.9.0, which is not installed.\n",
      "You are using pip version 10.0.1, however version 19.0.1 is available.\n",
      "You should consider upgrading via the 'python -m pip install --upgrade pip' command.\n"
     ]
    }
   ],
   "source": []
  },
  {
   "cell_type": "code",
   "execution_count": 28,
   "metadata": {},
   "outputs": [
    {
     "name": "stdout",
     "output_type": "stream",
     "text": [
      "© 2019 - Privacy - Terms\n",
      "['©', '2019', '-', 'Privacy', '-', 'Terms']\n"
     ]
    }
   ],
   "source": [
    "#scraping the web\n",
    "# add it if not in the library !pip install beautifulsoup4\n",
    "from bs4 import BeautifulSoup \n",
    "\n",
    "import requests\n",
    "\n",
    "html = requests.get(\"http://www.google.com\").text \n",
    "soup = BeautifulSoup(html, 'html5lib')\n",
    "\n",
    "first_paragraph_text = soup.p.text \n",
    "first_paragraph_words = soup.p.text.split()\n",
    "\n",
    "print(first_paragraph_text)\n",
    "print(first_paragraph_words)\n",
    "\n",
    "\n"
   ]
  },
  {
   "cell_type": "code",
   "execution_count": 40,
   "metadata": {},
   "outputs": [
    {
     "name": "stdout",
     "output_type": "stream",
     "text": [
      "11333\n"
     ]
    }
   ],
   "source": [
    "tds = requests.get(\"http://www.google.com\").text\n",
    "print (len (tds))"
   ]
  },
  {
   "cell_type": "code",
   "execution_count": null,
   "metadata": {},
   "outputs": [],
   "source": []
  },
  {
   "cell_type": "code",
   "execution_count": 21,
   "metadata": {},
   "outputs": [
    {
     "name": "stdout",
     "output_type": "stream",
     "text": [
      "0\n"
     ]
    }
   ],
   "source": [
    "from bs4 import BeautifulSoup\n",
    "import requests\n",
    "\n",
    "url = \"http://shop.oreilly.com/category/browse-subjects/\"+'/' \"data.do?sortby=publicationDate&page=1\" \n",
    "soup = BeautifulSoup(requests.get(url).text, 'html5lib')\n",
    "tds = soup('td', 'thumbtext')\n",
    "print(len(tds))"
   ]
  },
  {
   "cell_type": "code",
   "execution_count": 24,
   "metadata": {},
   "outputs": [
    {
     "name": "stdout",
     "output_type": "stream",
     "text": [
      "0\n"
     ]
    }
   ],
   "source": [
    "# finding video\n",
    "\n",
    "tds = soup('td', 'thumbtext')\n",
    "\n",
    "def is_video(td): \n",
    "    \"\"\"it's a video if it has exactly one pricelabel, and if the stripped text inside that pricelabel starts with 'Video'\"\"\"\n",
    "    pricelabels = td('span', 'pricelabel')\n",
    "    return (len(pricelabels) == 1 and pricelabels[0].text.strip().startswith(\"Video\")) \n",
    "\n",
    "\n",
    "\n",
    "print (len ([td for td in tds if not is_video(td)]))"
   ]
  },
  {
   "cell_type": "code",
   "execution_count": null,
   "metadata": {},
   "outputs": [
    {
     "name": "stdout",
     "output_type": "stream",
     "text": [
      "souping page 1 , 0  found so far\n",
      "souping page 2 , 0  found so far\n",
      "souping page 3 , 0  found so far\n",
      "souping page 4 , 0  found so far\n",
      "souping page 5 , 0  found so far\n",
      "souping page 6 , 0  found so far\n",
      "souping page 7 , 0  found so far\n"
     ]
    }
   ],
   "source": [
    "#book\n",
    "\n",
    "#Get the year\n",
    "def get_year(book): \n",
    "        \"\"\"book[\"date\"] looks like 'November 2014' so we need to \n",
    "        split on the space and then take the second piece\"\"\" \n",
    "        return int(book[\"date\"].split()[1])\n",
    "\n",
    "from collections import Counter\n",
    "\n",
    "from bs4 import BeautifulSoup\n",
    "import requests\n",
    "from time import sleep\n",
    "import matplotlib.pyplot as plt \n",
    "base_url = \"http://shop.oreilly.com/category/browse-subjects/\" + '/' \"data.do?sortby=publicationDate&page=\"\n",
    "\n",
    "books = [] \n",
    "NUM_PAGES = 31\n",
    "\n",
    "for page_num in range(1, NUM_PAGES + 1): \n",
    "    print(\"souping page\", page_num, \",\", len(books), \" found so far\") \n",
    "    url = base_url + str(page_num) \n",
    "    soup = BeautifulSoup(requests.get(url).text, 'html5lib') \n",
    "    \n",
    "    for td in soup('td', 'thumbtext'): \n",
    "        if not is_video(td):\n",
    "            books.append(book_info(td))\n",
    "    sleep(30)\n",
    "\n",
    "year_counts = Counter(get_year(book) for book in books \n",
    "                          if get_year(book) <= 2014) \n",
    "\n",
    "years = sorted(year_counts) \n",
    "book_counts = [year_counts[year] for year in years]\n",
    "plt.plot(years, book_counts) \n",
    "plt.ylabel(\"# of data books\") \n",
    "plt.title(\"Data is Big!\") \n",
    "plt.show()"
   ]
  },
  {
   "cell_type": "code",
   "execution_count": 46,
   "metadata": {},
   "outputs": [
    {
     "name": "stdout",
     "output_type": "stream",
     "text": [
      "{'title': 'Data Science Book', 'author': 'Joel Grus', 'publicationYear': 2014, 'topics': ['data', 'science', 'data science']}\n"
     ]
    }
   ],
   "source": [
    "#Using APIs \n",
    "#JSON (and XML)\n",
    "import json\n",
    "serialized = \"\"\"{ \"title\" : \"Data Science Book\", \n",
    "                  \"author\" : \"Joel Grus\", \n",
    "                  \"publicationYear\" : 2014, \n",
    "                  \"topics\" : [ \"data\", \"science\", \"data science\"] }\"\"\"\n",
    "\n",
    "deserialized = json.loads(serialized) \n",
    "if \"data science\" in deserialized[\"topics\"]: \n",
    "    print(deserialized)"
   ]
  },
  {
   "cell_type": "code",
   "execution_count": 2,
   "metadata": {},
   "outputs": [],
   "source": [
    "#Getting Credentials\n",
    "#Using an Unauthenticated API\n",
    "import requests , json \n",
    "endpoint = \"https://api.github.com/users/joelgrus/repos\" \n",
    "repos = json.loads(requests.get(endpoint).text)\n"
   ]
  },
  {
   "cell_type": "code",
   "execution_count": null,
   "metadata": {},
   "outputs": [],
   "source": [
    "from dateutil.parser import parse\n",
    "import collections\n",
    "\n",
    "from collections import Counter\n",
    "\n",
    "Counter()\n",
    "\n",
    "dates = [parse(repo[\"created_at\"]) for repo in repos]\n",
    "month_counts = Counter(date.month for date in dates) \n",
    "weekday_counts = Counter(date.weekday() for date in dates)\n",
    "print(dates, month_counts, weekday_counts)\n",
    "last_5_repositories = sorted(repos, \n",
    "                             key= lambda r: r[\"created_at\"], \n",
    "                             reverse=True)[:5] \n",
    "last_5_languages = [repo[\"language\"] \n",
    "                    for repo in last_5_repositories]\n",
    "print(last_5_repositories, last_5_languages)\n"
   ]
  },
  {
   "cell_type": "code",
   "execution_count": 43,
   "metadata": {},
   "outputs": [
    {
     "name": "stdout",
     "output_type": "stream",
     "text": [
      "['user_id', 'name', 'num_friends'] \n",
      " {'user_id': 0, 'name': 'Hero', 'num_friends': 0} \n",
      " {'user_id': 1, 'name': 'Dunn', 'num_friends': 2} \n",
      " {'user_id': 2, 'name': 'Sue', 'num_friends': 3} \n",
      " {'user_id': 3, 'name': 'Chi', 'num_friends': 3} \n",
      " {'user_id': 4, 'name': 'Thor', 'num_friends': 3} \n",
      " {'user_id': 5, 'name': 'Clive', 'num_friends': 2} \n",
      " {'user_id': 6, 'name': 'Hicks', 'num_friends': 3} \n",
      " {'user_id': 7, 'name': 'Devin', 'num_friends': 2} \n",
      " {'user_id': 8, 'name': 'Kate', 'num_friends': 2} \n",
      " {'user_id': 9, 'name': 'Klein', 'num_friends': 3} \n",
      " {'user_id': 10, 'name': 'Jen', 'num_friends': 1}\n"
     ]
    }
   ],
   "source": [
    "#Chapter 23\n",
    "#Table class\n",
    "# this code is not working\n",
    "\n",
    "class Table : \n",
    "    def __init__(self, columns): \n",
    "        self.columns = columns \n",
    "        self.rows = []\n",
    "        \n",
    "    def __repr__(self):  \n",
    "        \"\"\"pretty representation of the table: columns then rows\"\"\" \n",
    "        return str(self.columns) + \" \\n \" + \" \\n \".join(map(str, self.rows))\n",
    "\n",
    "    def insert(self, row_values): \n",
    "        if len(row_values) != len(self.columns): \n",
    "            raise TypeError (\"wrong number of elements\") \n",
    "        row_dict = dict(zip(self.columns, row_values)) \n",
    "        self.rows.append(row_dict)\n",
    "        \n",
    "    def update(self, updates, predicate): \n",
    "        for row in self.rows: \n",
    "            if predicate(row): \n",
    "                for column, new_value in updates.items(): \n",
    "                    row[column] = new_value\n",
    "\n",
    "    def delete(self, predicate= lambda row: True):\n",
    "        \"\"\"delete all rows matching predicate \n",
    "        or all rows if no predicate supplied\"\"\"\n",
    "        self.rows = [row for row in self.rows if not (predicate(row))]\n",
    "        \n",
    "                \n",
    "    def select(self, keep_columns=None, additional_columns=None):\n",
    "\n",
    "        if keep_columns is None:         # if no columns specified,\n",
    "            keep_columns = self.columns  # return all columns\n",
    "\n",
    "        if additional_columns is None:\n",
    "            additional_columns = {}\n",
    "\n",
    "        # new table for results\n",
    "        result_table = Table(keep_columns + list(additional_columns.keys()))\n",
    "\n",
    "        for row in self.rows:\n",
    "            new_row = [row[column] for column in keep_columns]\n",
    "            for column_name, calculation in additional_columns.items():\n",
    "                new_row.append(calculation(row))\n",
    "            result_table.insert(new_row)\n",
    "\n",
    "        return result_table\n",
    "\n",
    "    def where(self, predicate= lambda row: True): \n",
    "        \"\"\"return only the rows that satisfy the supplied predicate\"\"\" \n",
    "        where_table = Table(self.columns) \n",
    "        where_table.rows = filter(predicate, self.rows) \n",
    "        return where_table\n",
    "\n",
    "    def limit(self, num_rows): \n",
    "        \"\"\"return only the first num_rows rows\"\"\" \n",
    "        limit_table = Table(self.columns) \n",
    "        limit_table.rows = self.rows[:num_rows] \n",
    "        return limit_table\n",
    "\n",
    "    def name_length(row): return len(row[\"name\"])\n",
    "    \n",
    "    \n",
    "    def group_by(self, group_by_columns, aggregates, having=None): \n",
    "        grouped_rows = defaultdict(list) # populate groups \n",
    "        for row in self.rows: \n",
    "            key = tuple(row[column] for column in group_by_columns) \n",
    "            grouped_rows[key].append(row) \n",
    "            \n",
    "            result_table = Table(group_by_columns + aggregates.keys()) \n",
    "\n",
    "            for key, rows in grouped_rows.items(): \n",
    "                if having is None or having(rows): \n",
    "                    new_row = list(key) \n",
    "                    for aggregate_name, aggregate_fn in aggregates.items(): \n",
    "                        new_row.append(aggregate_fn(rows)) \n",
    "                        result_table.insert(new_row)\n",
    "        return result_table \n",
    "    \n",
    "    def min_user_id(rows): return min(row[\"user_id\"] for row in rows)\n",
    "    \n",
    "\n",
    "    def first_letter_of_name(row): \n",
    "        return row[\"name\"][0] if row[\"name\"] else \"\"\n",
    "\n",
    "    def average_num_friends(rows): \n",
    "        return sum(row[\"num_friends\"] for row in rows) / len(rows)\n",
    "\n",
    "    def enough_friends(rows): \n",
    "        return average_num_friends(rows) > 1\n",
    "    \n",
    "    def sum_user_ids(rows): return sum(row[\"user_id\"] for row in rows)\n",
    "    \n",
    "    def order_by(self, order): \n",
    "        new_table = self.select() \n",
    "        new_table.rows.sort(key=order) \n",
    "        return new_table\n",
    "    \n",
    "    def join(self, other_table, left_join=False): \n",
    "        join_on_columns = [c for c in self.columns # columns in\n",
    "                           if c in other_table.columns] # both tables\n",
    "\n",
    "\n",
    "        additional_columns = [c for c in other_table.columns  \n",
    "                              if c not in join_on_columns]\n",
    "        \n",
    "        # all columns from left table + additional_columns from right table\n",
    "        join_table = Table(self.columns + additional_columns) \n",
    "        for row in self.rows: \n",
    "            def is_join(other_row):\n",
    "                return all(other_row[c] == row[c] for c in join_on_columns) \n",
    "            other_rows = other_table.where(is_join).rows\n",
    "             # each other row that matches this one produces a result row\n",
    "            for other_row in other_rows: \n",
    "                join_table.insert([row[c] for c in self.columns] + \n",
    "                                  [other_row[c] for c in additional_columns])\n",
    "\n",
    "            if left_join and not other_rows: \n",
    "                join_table.insert([row[c] for c in self.columns] + [None for c in additional_columns])\n",
    "        return join_table\n",
    "    \n",
    "    def count_interests(rows):    \n",
    "        \"\"\"counts how many rows have non-None interests\"\"\"    \n",
    "        return len([row for row in rows if row[\"interest\"] is not None])\n",
    "\n",
    "\n",
    "import math, random, re\n",
    "from collections import defaultdict\n",
    "\n",
    "users = Table ([\"user_id\", \"name\", \"num_friends\"]) \n",
    "users.insert([0, \"Hero\", 0]) \n",
    "users.insert([1, \"Dunn\", 2]) \n",
    "users.insert([2, \"Sue\", 3]) \n",
    "users.insert([3, \"Chi\", 3]) \n",
    "users.insert([4, \"Thor\", 3]) \n",
    "users.insert([5, \"Clive\", 2]) \n",
    "users.insert([6, \"Hicks\", 3]) \n",
    "users.insert([7, \"Devin\", 2]) \n",
    "users.insert([8, \"Kate\", 2]) \n",
    "users.insert([9, \"Klein\", 3]) \n",
    "users.insert([10, \"Jen\", 1])\n",
    "print(users)\n",
    "\n",
    "\n",
    "\n",
    "\n",
    "\n",
    "\n",
    "\n"
   ]
  },
  {
   "cell_type": "code",
   "execution_count": 2,
   "metadata": {},
   "outputs": [],
   "source": [
    "# update Table\n",
    "users.update({'num_friends' : 3}, lambda row: row['user_id'] == 1)"
   ]
  },
  {
   "cell_type": "code",
   "execution_count": 3,
   "metadata": {},
   "outputs": [],
   "source": [
    "#delete\n",
    "users.delete( lambda row: row[\"user_id\"] == 1) \n",
    "users.delete()\n"
   ]
  },
  {
   "cell_type": "code",
   "execution_count": 42,
   "metadata": {},
   "outputs": [
    {
     "name": "stdout",
     "output_type": "stream",
     "text": [
      "users.select()\n",
      "['user_id', 'name', 'num_friends']\n",
      "{'user_id': 0, 'name': 'Hero', 'num_friends': 0}\n",
      "{'user_id': 1, 'name': 'Dunn', 'num_friends': 2}\n",
      "{'user_id': 2, 'name': 'Sue', 'num_friends': 3}\n",
      "{'user_id': 3, 'name': 'Chi', 'num_friends': 3}\n",
      "{'user_id': 4, 'name': 'Thor', 'num_friends': 3}\n",
      "{'user_id': 5, 'name': 'Clive', 'num_friends': 2}\n",
      "{'user_id': 6, 'name': 'Hicks', 'num_friends': 3}\n",
      "{'user_id': 7, 'name': 'Devin', 'num_friends': 2}\n",
      "{'user_id': 8, 'name': 'Kate', 'num_friends': 2}\n",
      "{'user_id': 9, 'name': 'Klein', 'num_friends': 3}\n",
      "{'user_id': 10, 'name': 'Jen', 'num_friends': 1}\n",
      "\n",
      "users.limit(2)\n",
      "['user_id', 'name', 'num_friends']\n",
      "{'user_id': 0, 'name': 'Hero', 'num_friends': 0}\n",
      "{'user_id': 1, 'name': 'Dunn', 'num_friends': 2}\n",
      "\n",
      "users.select(keep_columns=[\"user_id\"])\n",
      "['user_id']\n",
      "{'user_id': 0}\n",
      "{'user_id': 1}\n",
      "{'user_id': 2}\n",
      "{'user_id': 3}\n",
      "{'user_id': 4}\n",
      "{'user_id': 5}\n",
      "{'user_id': 6}\n",
      "{'user_id': 7}\n",
      "{'user_id': 8}\n",
      "{'user_id': 9}\n",
      "{'user_id': 10}\n",
      "\n",
      "where(lambda row: row[\"name\"] == \"Dunn\")\n",
      "['user_id']\n",
      "{'user_id': 1}\n",
      "\n"
     ]
    }
   ],
   "source": [
    "#select\n",
    "#Not working\n",
    "#Error: can only concatenate list (not \"dict_keys\") to list\n",
    "\n",
    "users.select()\n",
    "users.limit(2)\n",
    "print(\"users.select()\")\n",
    "print(users.select())\n",
    "print()\n",
    "\n",
    "print(\"users.limit(2)\")\n",
    "print(users.limit(2))\n",
    "print()\n",
    "\n",
    "print(\"users.select(keep_columns=[\\\"user_id\\\"])\")\n",
    "print(users.select(keep_columns=[\"user_id\"]))\n",
    "print()\n",
    "\n",
    "print('where(lambda row: row[\"name\"] == \"Dunn\")')\n",
    "print(users.where(lambda row: row[\"name\"] == \"Dunn\")\n",
    "           .select(keep_columns=[\"user_id\"]))\n",
    "print()\n",
    "\n"
   ]
  },
  {
   "cell_type": "code",
   "execution_count": 41,
   "metadata": {},
   "outputs": [],
   "source": [
    "# get the interest counts\n",
    "user_interest_counts = users.join(user_interests, left_join=True).group_by(group_by_columns=[\"user_id\"], aggregates={\"num_interests\" : count_interests })\n"
   ]
  },
  {
   "cell_type": "code",
   "execution_count": 39,
   "metadata": {},
   "outputs": [],
   "source": [
    "#Order by\n",
    "friendliest_letters = avg_friends_by_letter.order_by( lambda row: -row[\"avg_num_friends\"]).limit(4)"
   ]
  },
  {
   "cell_type": "code",
   "execution_count": 38,
   "metadata": {},
   "outputs": [],
   "source": [
    "#Join\n",
    "user_interests = Table([\"user_id\", \"interest\"]) \n",
    "user_interests.insert([0, \"SQL\"]) \n",
    "user_interests.insert([0, \"NoSQL\"]) \n",
    "user_interests.insert([2, \"SQL\"]) \n",
    "user_interests.insert([2, \"MySQL\"])\n",
    "\n",
    "\n",
    "sql_users = users.join(user_interests).where( lambda row: row[\"interest\"] == \"SQL\").select(keep_columns=[\"name\"])\n"
   ]
  },
  {
   "cell_type": "code",
   "execution_count": 37,
   "metadata": {
    "scrolled": true
   },
   "outputs": [
    {
     "data": {
      "text/plain": [
       "['min_user_id']\n",
       "{'min_user_id': 0}"
      ]
     },
     "execution_count": 37,
     "metadata": {},
     "output_type": "execute_result"
    }
   ],
   "source": [
    "#subquires\n",
    "#not working\n",
    "# name 'user_interests' is not defined\n",
    "\n",
    "likes_sql_user_ids = user_interests.where( lambda row: row[\"interest\"] == \"SQL\").select(keep_columns=['user_id']) \n",
    "\n",
    "likes_sql_user_ids.group_by(group_by_columns=[],aggregates={ \"min_user_id\" : min_user_id })"
   ]
  },
  {
   "cell_type": "code",
   "execution_count": 27,
   "metadata": {},
   "outputs": [
    {
     "name": "stdout",
     "output_type": "stream",
     "text": [
      "users table\n",
      "['user_id', 'name', 'num_friends']\n",
      "{'user_id': 0, 'name': 'Hero', 'num_friends': 0}\n",
      "{'user_id': 1, 'name': 'Dunn', 'num_friends': 2}\n",
      "{'user_id': 2, 'name': 'Sue', 'num_friends': 3}\n",
      "{'user_id': 3, 'name': 'Chi', 'num_friends': 3}\n",
      "{'user_id': 4, 'name': 'Thor', 'num_friends': 3}\n",
      "{'user_id': 5, 'name': 'Clive', 'num_friends': 2}\n",
      "{'user_id': 6, 'name': 'Hicks', 'num_friends': 3}\n",
      "{'user_id': 7, 'name': 'Devin', 'num_friends': 2}\n",
      "{'user_id': 8, 'name': 'Kate', 'num_friends': 2}\n",
      "{'user_id': 9, 'name': 'Klein', 'num_friends': 3}\n",
      "{'user_id': 10, 'name': 'Jen', 'num_friends': 1}\n",
      "\n"
     ]
    }
   ],
   "source": [
    "import math, random, re\n",
    "from collections import defaultdict\n",
    "\n",
    "class Table:\n",
    "    def __init__(self, columns):\n",
    "        self.columns = columns\n",
    "        self.rows = []\n",
    "\n",
    "    def __repr__(self):\n",
    "        \"\"\"pretty representation of the table: columns then rows\"\"\"\n",
    "        return str(self.columns) + \"\\n\" + \"\\n\".join(map(str, self.rows))\n",
    "\n",
    "    def insert(self, row_values):\n",
    "        if len(row_values) != len(self.columns):\n",
    "            raise TypeError(\"wrong number of elements\")\n",
    "        row_dict = dict(zip(self.columns, row_values))\n",
    "        self.rows.append(row_dict)\n",
    "\n",
    "    def update(self, updates, predicate):\n",
    "        for row in self.rows:\n",
    "            if predicate(row):\n",
    "                for column, new_value in updates.items():\n",
    "                    row[column] = new_value\n",
    "\n",
    "    def delete(self, predicate=lambda row: True):\n",
    "        \"\"\"delete all rows matching predicate\n",
    "        or all rows if no predicate supplied\"\"\"\n",
    "        self.rows = [row for row in self.rows if not(predicate(row))]\n",
    "\n",
    "    def select(self, keep_columns=None, additional_columns=None):\n",
    "\n",
    "        if keep_columns is None:         # if no columns specified,\n",
    "            keep_columns = self.columns  # return all columns\n",
    "\n",
    "        if additional_columns is None:\n",
    "            additional_columns = {}\n",
    "\n",
    "        # new table for results\n",
    "        result_table = Table(keep_columns + list(additional_columns.keys()))\n",
    "\n",
    "        for row in self.rows:\n",
    "            new_row = [row[column] for column in keep_columns]\n",
    "            for column_name, calculation in additional_columns.items():\n",
    "                new_row.append(calculation(row))\n",
    "            result_table.insert(new_row)\n",
    "\n",
    "        return result_table\n",
    "\n",
    "    def where(self, predicate=lambda row: True):\n",
    "        \"\"\"return only the rows that satisfy the supplied predicate\"\"\"\n",
    "        where_table = Table(self.columns)\n",
    "        where_table.rows = list(filter(predicate, self.rows))\n",
    "        return where_table\n",
    "\n",
    "    def limit(self, num_rows=None):\n",
    "        \"\"\"return only the first num_rows rows\"\"\"\n",
    "        limit_table = Table(self.columns)\n",
    "        limit_table.rows = (self.rows[:num_rows]\n",
    "                            if num_rows is not None\n",
    "                            else self.rows)\n",
    "        return limit_table\n",
    "\n",
    "    def group_by(self, group_by_columns, aggregates, having=None):\n",
    "\n",
    "        grouped_rows = defaultdict(list)\n",
    "\n",
    "        # populate groups\n",
    "        for row in self.rows:\n",
    "            key = tuple(row[column] for column in group_by_columns)\n",
    "            grouped_rows[key].append(row)\n",
    "\n",
    "        result_table = Table(group_by_columns + list(aggregates.keys()))\n",
    "\n",
    "        for key, rows in grouped_rows.items():\n",
    "            if having is None or having(rows):\n",
    "                new_row = list(key)\n",
    "                for aggregate_name, aggregate_fn in aggregates.items():\n",
    "                    new_row.append(aggregate_fn(rows))\n",
    "                result_table.insert(new_row)\n",
    "\n",
    "        return result_table\n",
    "\n",
    "    def order_by(self, order):\n",
    "        new_table = self.select()       # make a copy\n",
    "        new_table.rows.sort(key=order)\n",
    "        return new_table\n",
    "\n",
    "    def join(self, other_table, left_join=False):\n",
    "\n",
    "        join_on_columns = [c for c in self.columns           # columns in\n",
    "                           if c in other_table.columns]      # both tables\n",
    "\n",
    "        additional_columns = [c for c in other_table.columns # columns only\n",
    "                              if c not in join_on_columns]   # in right table\n",
    "\n",
    "        # all columns from left table + additional_columns from right table\n",
    "        join_table = Table(self.columns + additional_columns)\n",
    "\n",
    "        for row in self.rows:\n",
    "            def is_join(other_row):\n",
    "                return all(other_row[c] == row[c] for c in join_on_columns)\n",
    "\n",
    "            other_rows = other_table.where(is_join).rows\n",
    "\n",
    "            # each other row that matches this one produces a result row\n",
    "            for other_row in other_rows:\n",
    "                join_table.insert([row[c] for c in self.columns] +\n",
    "                                  [other_row[c] for c in additional_columns])\n",
    "\n",
    "            # if no rows match and it's a left join, output with Nones\n",
    "            if left_join and not other_rows:\n",
    "                join_table.insert([row[c] for c in self.columns] +\n",
    "                                  [None for c in additional_columns])\n",
    "\n",
    "        return join_table\n",
    "    \n",
    "    def count_interests(rows):\n",
    "        \"\"\"counts how many rows have non-None interests\"\"\"\n",
    "        return len([row for row in rows if row[\"interest\"] is not None])\n",
    "\n",
    "    def name_len(row): return len(row[\"name\"])\n",
    "    def min_user_id(rows): return min(row[\"user_id\"] for row in rows)\n",
    "\n",
    "    def first_letter_of_name(row):\n",
    "        return row[\"name\"][0] if row[\"name\"] else \"\"\n",
    "\n",
    "    def average_num_friends(rows):\n",
    "        return sum(row[\"num_friends\"] for row in rows) / len(rows)\n",
    "\n",
    "    def enough_friends(rows):\n",
    "        return average_num_friends(rows) > 1\n",
    "    \n",
    "    def sum_user_ids(rows): return sum(row[\"user_id\"] for row in rows)\n",
    "\n",
    "if __name__ == \"__main__\":\n",
    "\n",
    "    users = Table([\"user_id\", \"name\", \"num_friends\"])\n",
    "    users.insert([0, \"Hero\", 0])\n",
    "    users.insert([1, \"Dunn\", 2])\n",
    "    users.insert([2, \"Sue\", 3])\n",
    "    users.insert([3, \"Chi\", 3])\n",
    "    users.insert([4, \"Thor\", 3])\n",
    "    users.insert([5, \"Clive\", 2])\n",
    "    users.insert([6, \"Hicks\", 3])\n",
    "    users.insert([7, \"Devin\", 2])\n",
    "    users.insert([8, \"Kate\", 2])\n",
    "    users.insert([9, \"Klein\", 3])\n",
    "    users.insert([10, \"Jen\", 1])\n",
    "\n",
    "    print(\"users table\")\n",
    "    print(users)\n",
    "    print()"
   ]
  },
  {
   "cell_type": "code",
   "execution_count": 30,
   "metadata": {},
   "outputs": [
    {
     "name": "stdout",
     "output_type": "stream",
     "text": [
      "users.select()\n",
      "['user_id', 'name', 'num_friends']\n",
      "{'user_id': 0, 'name': 'Hero', 'num_friends': 0}\n",
      "{'user_id': 1, 'name': 'Dunn', 'num_friends': 2}\n",
      "{'user_id': 2, 'name': 'Sue', 'num_friends': 3}\n",
      "{'user_id': 3, 'name': 'Chi', 'num_friends': 3}\n",
      "{'user_id': 4, 'name': 'Thor', 'num_friends': 3}\n",
      "{'user_id': 5, 'name': 'Clive', 'num_friends': 2}\n",
      "{'user_id': 6, 'name': 'Hicks', 'num_friends': 3}\n",
      "{'user_id': 7, 'name': 'Devin', 'num_friends': 2}\n",
      "{'user_id': 8, 'name': 'Kate', 'num_friends': 2}\n",
      "{'user_id': 9, 'name': 'Klein', 'num_friends': 3}\n",
      "{'user_id': 10, 'name': 'Jen', 'num_friends': 1}\n",
      "\n",
      "users.limit(2)\n",
      "['user_id', 'name', 'num_friends']\n",
      "{'user_id': 0, 'name': 'Hero', 'num_friends': 0}\n",
      "{'user_id': 1, 'name': 'Dunn', 'num_friends': 2}\n",
      "\n",
      "users.select(keep_columns=[\"user_id\"])\n",
      "['user_id']\n",
      "{'user_id': 0}\n",
      "{'user_id': 1}\n",
      "{'user_id': 2}\n",
      "{'user_id': 3}\n",
      "{'user_id': 4}\n",
      "{'user_id': 5}\n",
      "{'user_id': 6}\n",
      "{'user_id': 7}\n",
      "{'user_id': 8}\n",
      "{'user_id': 9}\n",
      "{'user_id': 10}\n",
      "\n",
      "where(lambda row: row[\"name\"] == \"Dunn\")\n",
      "['user_id']\n",
      "{'user_id': 1}\n",
      "\n",
      "with name_length:\n",
      "['name_length']\n",
      "{'name_length': 4}\n",
      "{'name_length': 4}\n",
      "{'name_length': 3}\n",
      "{'name_length': 3}\n",
      "{'name_length': 4}\n",
      "{'name_length': 5}\n",
      "{'name_length': 5}\n",
      "{'name_length': 5}\n",
      "{'name_length': 4}\n",
      "{'name_length': 5}\n",
      "{'name_length': 3}\n",
      "\n"
     ]
    }
   ],
   "source": [
    "# select\n",
    "\n",
    "print(\"users.select()\")\n",
    "print(users.select())\n",
    "print()\n",
    "\n",
    "print(\"users.limit(2)\")\n",
    "print(users.limit(2))\n",
    "print()\n",
    "\n",
    "print(\"users.select(keep_columns=[\\\"user_id\\\"])\")\n",
    "print(users.select(keep_columns=[\"user_id\"]))\n",
    "print()\n",
    "\n",
    "print('where(lambda row: row[\"name\"] == \"Dunn\")')\n",
    "print(users.where(lambda row: row[\"name\"] == \"Dunn\")\n",
    "           .select(keep_columns=[\"user_id\"]))\n",
    "print()\n",
    "\n",
    "\n",
    "print('with name_length:')\n",
    "print(users.select(keep_columns=[],\n",
    "                   additional_columns = { \"name_length\" : name_len }))\n",
    "print()\n",
    "\n"
   ]
  },
  {
   "cell_type": "code",
   "execution_count": 31,
   "metadata": {},
   "outputs": [
    {
     "name": "stdout",
     "output_type": "stream",
     "text": [
      "stats by length\n",
      "['name_len', 'min_user_id', 'num_users']\n",
      "{'name_len': 4, 'min_user_id': 0, 'num_users': 4}\n",
      "{'name_len': 3, 'min_user_id': 2, 'num_users': 3}\n",
      "{'name_len': 5, 'min_user_id': 5, 'num_users': 4}\n",
      "\n",
      "avg friends by letter\n",
      "['first_letter', 'avg_num_friends']\n",
      "{'first_letter': 'H', 'avg_num_friends': 1.5}\n",
      "{'first_letter': 'D', 'avg_num_friends': 2.0}\n",
      "{'first_letter': 'S', 'avg_num_friends': 3.0}\n",
      "{'first_letter': 'C', 'avg_num_friends': 2.5}\n",
      "{'first_letter': 'T', 'avg_num_friends': 3.0}\n",
      "{'first_letter': 'K', 'avg_num_friends': 2.5}\n",
      "\n",
      "user id sum\n",
      "['user_id_sum']\n",
      "{'user_id_sum': 54}\n",
      "\n"
     ]
    }
   ],
   "source": [
    "# group by\n",
    "\n",
    "\n",
    "stats_by_length = users \\\n",
    "    .select(additional_columns={\"name_len\" : name_len}) \\\n",
    "    .group_by(group_by_columns=[\"name_len\"],\n",
    "              aggregates={ \"min_user_id\" : min_user_id,\n",
    "                           \"num_users\" : len })\n",
    "\n",
    "print(\"stats by length\")\n",
    "print(stats_by_length)\n",
    "print()\n",
    "\n",
    "\n",
    "\n",
    "avg_friends_by_letter = users \\\n",
    "    .select(additional_columns={'first_letter' : first_letter_of_name}) \\\n",
    "    .group_by(group_by_columns=['first_letter'],\n",
    "              aggregates={ \"avg_num_friends\" : average_num_friends },\n",
    "              having=enough_friends)\n",
    "\n",
    "print(\"avg friends by letter\")\n",
    "print(avg_friends_by_letter)\n",
    "print()\n",
    "\n",
    "user_id_sum = users \\\n",
    "    .where(lambda row: row[\"user_id\"] > 1) \\\n",
    "    .group_by(group_by_columns=[],\n",
    "              aggregates={ \"user_id_sum\" : sum_user_ids })\n",
    "\n",
    "print(\"user id sum\")\n",
    "print(user_id_sum)\n",
    "print()\n",
    "\n"
   ]
  },
  {
   "cell_type": "code",
   "execution_count": 32,
   "metadata": {},
   "outputs": [
    {
     "name": "stdout",
     "output_type": "stream",
     "text": [
      "friendliest letters\n",
      "['first_letter', 'avg_num_friends']\n",
      "{'first_letter': 'S', 'avg_num_friends': 3.0}\n",
      "{'first_letter': 'T', 'avg_num_friends': 3.0}\n",
      "{'first_letter': 'C', 'avg_num_friends': 2.5}\n",
      "{'first_letter': 'K', 'avg_num_friends': 2.5}\n",
      "\n",
      "sql users\n",
      "['name']\n",
      "{'name': 'Hero'}\n",
      "{'name': 'Sue'}\n",
      "\n",
      "user interest counts\n",
      "['user_id', 'num_interests']\n",
      "{'user_id': 0, 'num_interests': 2}\n",
      "{'user_id': 1, 'num_interests': 0}\n",
      "{'user_id': 2, 'num_interests': 2}\n",
      "{'user_id': 3, 'num_interests': 0}\n",
      "{'user_id': 4, 'num_interests': 0}\n",
      "{'user_id': 5, 'num_interests': 0}\n",
      "{'user_id': 6, 'num_interests': 0}\n",
      "{'user_id': 7, 'num_interests': 0}\n",
      "{'user_id': 8, 'num_interests': 0}\n",
      "{'user_id': 9, 'num_interests': 0}\n",
      "{'user_id': 10, 'num_interests': 0}\n",
      "likes sql user ids\n",
      "['user_id']\n",
      "{'user_id': 0}\n",
      "{'user_id': 2}\n"
     ]
    }
   ],
   "source": [
    "# order\n",
    "\n",
    "friendliest_letters = avg_friends_by_letter \\\n",
    "    .order_by(lambda row: -row[\"avg_num_friends\"]) \\\n",
    "    .limit(4)\n",
    "\n",
    "print(\"friendliest letters\")\n",
    "print(friendliest_letters)\n",
    "print()\n",
    "\n"
   ]
  },
  {
   "cell_type": "code",
   "execution_count": 33,
   "metadata": {},
   "outputs": [
    {
     "name": "stdout",
     "output_type": "stream",
     "text": [
      "sql users\n",
      "['name']\n",
      "{'name': 'Hero'}\n",
      "{'name': 'Sue'}\n",
      "\n",
      "user interest counts\n",
      "['user_id', 'num_interests']\n",
      "{'user_id': 0, 'num_interests': 2}\n",
      "{'user_id': 1, 'num_interests': 0}\n",
      "{'user_id': 2, 'num_interests': 2}\n",
      "{'user_id': 3, 'num_interests': 0}\n",
      "{'user_id': 4, 'num_interests': 0}\n",
      "{'user_id': 5, 'num_interests': 0}\n",
      "{'user_id': 6, 'num_interests': 0}\n",
      "{'user_id': 7, 'num_interests': 0}\n",
      "{'user_id': 8, 'num_interests': 0}\n",
      "{'user_id': 9, 'num_interests': 0}\n",
      "{'user_id': 10, 'num_interests': 0}\n"
     ]
    }
   ],
   "source": [
    "# Join\n",
    "\n",
    "user_interests = Table([\"user_id\", \"interest\"])\n",
    "user_interests.insert([0, \"SQL\"])\n",
    "user_interests.insert([0, \"NoSQL\"])\n",
    "user_interests.insert([2, \"SQL\"])\n",
    "user_interests.insert([2, \"MySQL\"])\n",
    "\n",
    "sql_users = users \\\n",
    ".join(user_interests) \\\n",
    ".where(lambda row: row[\"interest\"] == \"SQL\") \\\n",
    ".select(keep_columns=[\"name\"])\n",
    "\n",
    "print(\"sql users\")\n",
    "print(sql_users)\n",
    "print()\n",
    "\n",
    "user_interest_counts = users \\\n",
    "    .join(user_interests, left_join=True) \\\n",
    "    .group_by(group_by_columns=[\"user_id\"],\n",
    "              aggregates={\"num_interests\" : count_interests })\n",
    "\n",
    "print(\"user interest counts\")\n",
    "print(user_interest_counts)\n"
   ]
  },
  {
   "cell_type": "code",
   "execution_count": 34,
   "metadata": {},
   "outputs": [
    {
     "name": "stdout",
     "output_type": "stream",
     "text": [
      "likes sql user ids\n",
      "['user_id']\n",
      "{'user_id': 0}\n",
      "{'user_id': 2}\n"
     ]
    }
   ],
   "source": [
    "# queries\n",
    "likes_sql_user_ids = user_interests \\\n",
    "    .where(lambda row: row[\"interest\"] == \"SQL\") \\\n",
    "    .select(keep_columns=['user_id'])\n",
    "\n",
    "likes_sql_user_ids.group_by(group_by_columns=[],\n",
    "                            aggregates={ \"min_user_id\" : min_user_id })\n",
    "\n",
    "print(\"likes sql user ids\")\n",
    "print(likes_sql_user_ids)"
   ]
  },
  {
   "cell_type": "code",
   "execution_count": null,
   "metadata": {},
   "outputs": [],
   "source": []
  }
 ],
 "metadata": {
  "kernelspec": {
   "display_name": "Python 3",
   "language": "python",
   "name": "python3"
  }
 },
 "nbformat": 4,
 "nbformat_minor": 2
}
